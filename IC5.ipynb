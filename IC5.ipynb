{
  "nbformat": 4,
  "nbformat_minor": 0,
  "metadata": {
    "colab": {
      "provenance": [],
      "authorship_tag": "ABX9TyN4SUlBFGvADVNF2NzeiP1o",
      "include_colab_link": true
    },
    "kernelspec": {
      "name": "python3",
      "display_name": "Python 3"
    },
    "language_info": {
      "name": "python"
    }
  },
  "cells": [
    {
      "cell_type": "markdown",
      "metadata": {
        "id": "view-in-github",
        "colab_type": "text"
      },
      "source": [
        "<a href=\"https://colab.research.google.com/github/BenShieh233/NLP-Text-Mining/blob/main/IC5.ipynb\" target=\"_parent\"><img src=\"https://colab.research.google.com/assets/colab-badge.svg\" alt=\"Open In Colab\"/></a>"
      ]
    },
    {
      "cell_type": "code",
      "source": [
        "import nltk\n",
        "import numpy as np\n",
        "import pandas as pd\n",
        "import matplotlib.pyplot as plt\n",
        "\n",
        "\n",
        "import string\n",
        "import re\n",
        "from sklearn.feature_extraction import _stop_words\n",
        "from nltk.stem import WordNetLemmatizer\n",
        "nltk.download('stopwords')\n",
        "nltk.download('wordnet')\n",
        "nltk.download('omw-1.4')\n",
        "\n",
        "from sklearn.feature_extraction.text import TfidfVectorizer\n",
        "from sklearn.cluster import KMeans\n",
        "from sklearn.metrics import adjusted_rand_score\n",
        "\n",
        "from wordcloud import WordCloud"
      ],
      "metadata": {
        "colab": {
          "base_uri": "https://localhost:8080/"
        },
        "id": "URzfSxS87hdU",
        "outputId": "49b6b22c-91e3-4790-ba12-cdbb668e6e02"
      },
      "execution_count": null,
      "outputs": [
        {
          "output_type": "stream",
          "name": "stderr",
          "text": [
            "[nltk_data] Downloading package stopwords to /root/nltk_data...\n",
            "[nltk_data]   Package stopwords is already up-to-date!\n",
            "[nltk_data] Downloading package wordnet to /root/nltk_data...\n",
            "[nltk_data]   Package wordnet is already up-to-date!\n",
            "[nltk_data] Downloading package omw-1.4 to /root/nltk_data...\n",
            "[nltk_data]   Package omw-1.4 is already up-to-date!\n"
          ]
        }
      ]
    },
    {
      "cell_type": "markdown",
      "source": [
        "## Part 1"
      ],
      "metadata": {
        "id": "PGq1rzlqCdyn"
      }
    },
    {
      "cell_type": "code",
      "source": [
        "from google.colab import drive\n",
        "drive.mount('/content/drive')\n",
        "df = pd.read_csv(\"/content/drive/MyDrive/INFOSYS765/yelp_review.csv\")\n",
        "df = df.iloc[:1000] # Keep only the first 1000 rows"
      ],
      "metadata": {
        "colab": {
          "base_uri": "https://localhost:8080/"
        },
        "id": "nAH5GqifCfeA",
        "outputId": "1df722bc-dcc9-4db0-bc7c-a1a7729e52d4"
      },
      "execution_count": null,
      "outputs": [
        {
          "output_type": "stream",
          "name": "stdout",
          "text": [
            "Drive already mounted at /content/drive; to attempt to forcibly remount, call drive.mount(\"/content/drive\", force_remount=True).\n"
          ]
        }
      ]
    },
    {
      "cell_type": "code",
      "source": [
        "df"
      ],
      "metadata": {
        "colab": {
          "base_uri": "https://localhost:8080/",
          "height": 991
        },
        "id": "NgDhQzjcCo_n",
        "outputId": "69ddfe6a-ed64-4ce7-b487-3b375386c165"
      },
      "execution_count": null,
      "outputs": [
        {
          "output_type": "execute_result",
          "data": {
            "text/plain": [
              "     stars  useful                                               text  funny  \\\n",
              "0      4.0       0  First time waxing. I read all the other review...      0   \n",
              "1      5.0       0  I love my manicure! Such an affordable place. ...      0   \n",
              "2      4.0       0  Great food, fast service, they try to crank pe...      0   \n",
              "3      1.0       0  Save your money and go across the street the f...      0   \n",
              "4      4.0       0  Oops...this was for the Main St location:\\n\\n-...      0   \n",
              "..     ...     ...                                                ...    ...   \n",
              "995    5.0       0  Great momos.. chicken momo was amazing.. \\nthe...      0   \n",
              "996    4.0       6  A friend suggested we eat here about a week ag...      5   \n",
              "997    5.0       2  Flip is the bomb! One of my all-time favorite ...      0   \n",
              "998    5.0       0  I went to this barber shop based on the yelp s...      0   \n",
              "999    1.0       7  I went to this place last month by recommendat...      0   \n",
              "\n",
              "                  review_id  cool                 date  \\\n",
              "0    V46usAbOSPIzurZy7DUU5A     0  2016-04-16 13:55:38   \n",
              "1    CpNSsju9NFc-Xrpf5Hfqhg     0  2020-01-18 05:32:54   \n",
              "2    RP7A24xD14Cbegmr1AokNQ     0  2015-01-25 14:49:09   \n",
              "3    6a38lS1TjeWMqK-knuNAhA     0  2018-11-06 22:12:14   \n",
              "4    Q0QKTuceHzgmFeTtYSTzYg     0  2011-08-19 21:45:31   \n",
              "..                      ...   ...                  ...   \n",
              "995  NKjAtoBv2_X5hvqNPFXYow     0  2017-03-19 01:26:22   \n",
              "996  m90725S_BQ0QZf7MG5IMig     3  2014-04-07 21:39:36   \n",
              "997  4I7AKPblHPCHSnGdFM0DAw     0  2013-03-04 05:40:33   \n",
              "998  957Jil3yuVaXFjgyU-_nFw     1  2014-10-09 14:54:41   \n",
              "999  H0SIQekshdTEgO5IAlbTig     0  2019-06-12 15:58:13   \n",
              "\n",
              "                    user_id             business_id  \n",
              "0    rD6noiuiMCcGuq6oPYFJdQ  b4NaB1u3AwgrhRMKsKgWsA  \n",
              "1    tTsUSklzH1oxPp2usth84A  -otKp6RA94dfGsqa5jSDHQ  \n",
              "2    -cnIq2OmV8CleS4bLOvCxQ  EA10YCkaxzRoCEOB38xv1Q  \n",
              "3    mzCkRflEka_vezCiBYYWGA  nkqaLepNTSrUYuZkzbBR5A  \n",
              "4    3zlK9eBVCpRWMPLjtAj6cQ  XtFhLvKV46H7a054X2_aFQ  \n",
              "..                      ...                     ...  \n",
              "995  QEzmBdpLMvcDNMEdbepBmg  fTSKD2e4FTyUbHCl93t1ow  \n",
              "996  w9zzMF3Z68omqkDbgsURoQ  JRA9UYISyXgkWzO3YAqNcg  \n",
              "997  1HtGcjZehXY8odctlBSIiQ  TA1KUSCu8GkWP9w0rmElxw  \n",
              "998  JuNeSHwvwFWavIjp4GisrQ  Rq6QSybYpq9j9HUmlyhpEw  \n",
              "999  F4kedCBG2OWogHiq8OomPQ  kZ78bwrRSrI6eCQw5mziRA  \n",
              "\n",
              "[1000 rows x 9 columns]"
            ],
            "text/html": [
              "\n",
              "  <div id=\"df-2bf2f2e9-208f-446e-af7c-a3928d17c4f6\">\n",
              "    <div class=\"colab-df-container\">\n",
              "      <div>\n",
              "<style scoped>\n",
              "    .dataframe tbody tr th:only-of-type {\n",
              "        vertical-align: middle;\n",
              "    }\n",
              "\n",
              "    .dataframe tbody tr th {\n",
              "        vertical-align: top;\n",
              "    }\n",
              "\n",
              "    .dataframe thead th {\n",
              "        text-align: right;\n",
              "    }\n",
              "</style>\n",
              "<table border=\"1\" class=\"dataframe\">\n",
              "  <thead>\n",
              "    <tr style=\"text-align: right;\">\n",
              "      <th></th>\n",
              "      <th>stars</th>\n",
              "      <th>useful</th>\n",
              "      <th>text</th>\n",
              "      <th>funny</th>\n",
              "      <th>review_id</th>\n",
              "      <th>cool</th>\n",
              "      <th>date</th>\n",
              "      <th>user_id</th>\n",
              "      <th>business_id</th>\n",
              "    </tr>\n",
              "  </thead>\n",
              "  <tbody>\n",
              "    <tr>\n",
              "      <th>0</th>\n",
              "      <td>4.0</td>\n",
              "      <td>0</td>\n",
              "      <td>First time waxing. I read all the other review...</td>\n",
              "      <td>0</td>\n",
              "      <td>V46usAbOSPIzurZy7DUU5A</td>\n",
              "      <td>0</td>\n",
              "      <td>2016-04-16 13:55:38</td>\n",
              "      <td>rD6noiuiMCcGuq6oPYFJdQ</td>\n",
              "      <td>b4NaB1u3AwgrhRMKsKgWsA</td>\n",
              "    </tr>\n",
              "    <tr>\n",
              "      <th>1</th>\n",
              "      <td>5.0</td>\n",
              "      <td>0</td>\n",
              "      <td>I love my manicure! Such an affordable place. ...</td>\n",
              "      <td>0</td>\n",
              "      <td>CpNSsju9NFc-Xrpf5Hfqhg</td>\n",
              "      <td>0</td>\n",
              "      <td>2020-01-18 05:32:54</td>\n",
              "      <td>tTsUSklzH1oxPp2usth84A</td>\n",
              "      <td>-otKp6RA94dfGsqa5jSDHQ</td>\n",
              "    </tr>\n",
              "    <tr>\n",
              "      <th>2</th>\n",
              "      <td>4.0</td>\n",
              "      <td>0</td>\n",
              "      <td>Great food, fast service, they try to crank pe...</td>\n",
              "      <td>0</td>\n",
              "      <td>RP7A24xD14Cbegmr1AokNQ</td>\n",
              "      <td>0</td>\n",
              "      <td>2015-01-25 14:49:09</td>\n",
              "      <td>-cnIq2OmV8CleS4bLOvCxQ</td>\n",
              "      <td>EA10YCkaxzRoCEOB38xv1Q</td>\n",
              "    </tr>\n",
              "    <tr>\n",
              "      <th>3</th>\n",
              "      <td>1.0</td>\n",
              "      <td>0</td>\n",
              "      <td>Save your money and go across the street the f...</td>\n",
              "      <td>0</td>\n",
              "      <td>6a38lS1TjeWMqK-knuNAhA</td>\n",
              "      <td>0</td>\n",
              "      <td>2018-11-06 22:12:14</td>\n",
              "      <td>mzCkRflEka_vezCiBYYWGA</td>\n",
              "      <td>nkqaLepNTSrUYuZkzbBR5A</td>\n",
              "    </tr>\n",
              "    <tr>\n",
              "      <th>4</th>\n",
              "      <td>4.0</td>\n",
              "      <td>0</td>\n",
              "      <td>Oops...this was for the Main St location:\\n\\n-...</td>\n",
              "      <td>0</td>\n",
              "      <td>Q0QKTuceHzgmFeTtYSTzYg</td>\n",
              "      <td>0</td>\n",
              "      <td>2011-08-19 21:45:31</td>\n",
              "      <td>3zlK9eBVCpRWMPLjtAj6cQ</td>\n",
              "      <td>XtFhLvKV46H7a054X2_aFQ</td>\n",
              "    </tr>\n",
              "    <tr>\n",
              "      <th>...</th>\n",
              "      <td>...</td>\n",
              "      <td>...</td>\n",
              "      <td>...</td>\n",
              "      <td>...</td>\n",
              "      <td>...</td>\n",
              "      <td>...</td>\n",
              "      <td>...</td>\n",
              "      <td>...</td>\n",
              "      <td>...</td>\n",
              "    </tr>\n",
              "    <tr>\n",
              "      <th>995</th>\n",
              "      <td>5.0</td>\n",
              "      <td>0</td>\n",
              "      <td>Great momos.. chicken momo was amazing.. \\nthe...</td>\n",
              "      <td>0</td>\n",
              "      <td>NKjAtoBv2_X5hvqNPFXYow</td>\n",
              "      <td>0</td>\n",
              "      <td>2017-03-19 01:26:22</td>\n",
              "      <td>QEzmBdpLMvcDNMEdbepBmg</td>\n",
              "      <td>fTSKD2e4FTyUbHCl93t1ow</td>\n",
              "    </tr>\n",
              "    <tr>\n",
              "      <th>996</th>\n",
              "      <td>4.0</td>\n",
              "      <td>6</td>\n",
              "      <td>A friend suggested we eat here about a week ag...</td>\n",
              "      <td>5</td>\n",
              "      <td>m90725S_BQ0QZf7MG5IMig</td>\n",
              "      <td>3</td>\n",
              "      <td>2014-04-07 21:39:36</td>\n",
              "      <td>w9zzMF3Z68omqkDbgsURoQ</td>\n",
              "      <td>JRA9UYISyXgkWzO3YAqNcg</td>\n",
              "    </tr>\n",
              "    <tr>\n",
              "      <th>997</th>\n",
              "      <td>5.0</td>\n",
              "      <td>2</td>\n",
              "      <td>Flip is the bomb! One of my all-time favorite ...</td>\n",
              "      <td>0</td>\n",
              "      <td>4I7AKPblHPCHSnGdFM0DAw</td>\n",
              "      <td>0</td>\n",
              "      <td>2013-03-04 05:40:33</td>\n",
              "      <td>1HtGcjZehXY8odctlBSIiQ</td>\n",
              "      <td>TA1KUSCu8GkWP9w0rmElxw</td>\n",
              "    </tr>\n",
              "    <tr>\n",
              "      <th>998</th>\n",
              "      <td>5.0</td>\n",
              "      <td>0</td>\n",
              "      <td>I went to this barber shop based on the yelp s...</td>\n",
              "      <td>0</td>\n",
              "      <td>957Jil3yuVaXFjgyU-_nFw</td>\n",
              "      <td>1</td>\n",
              "      <td>2014-10-09 14:54:41</td>\n",
              "      <td>JuNeSHwvwFWavIjp4GisrQ</td>\n",
              "      <td>Rq6QSybYpq9j9HUmlyhpEw</td>\n",
              "    </tr>\n",
              "    <tr>\n",
              "      <th>999</th>\n",
              "      <td>1.0</td>\n",
              "      <td>7</td>\n",
              "      <td>I went to this place last month by recommendat...</td>\n",
              "      <td>0</td>\n",
              "      <td>H0SIQekshdTEgO5IAlbTig</td>\n",
              "      <td>0</td>\n",
              "      <td>2019-06-12 15:58:13</td>\n",
              "      <td>F4kedCBG2OWogHiq8OomPQ</td>\n",
              "      <td>kZ78bwrRSrI6eCQw5mziRA</td>\n",
              "    </tr>\n",
              "  </tbody>\n",
              "</table>\n",
              "<p>1000 rows × 9 columns</p>\n",
              "</div>\n",
              "      <button class=\"colab-df-convert\" onclick=\"convertToInteractive('df-2bf2f2e9-208f-446e-af7c-a3928d17c4f6')\"\n",
              "              title=\"Convert this dataframe to an interactive table.\"\n",
              "              style=\"display:none;\">\n",
              "        \n",
              "  <svg xmlns=\"http://www.w3.org/2000/svg\" height=\"24px\"viewBox=\"0 0 24 24\"\n",
              "       width=\"24px\">\n",
              "    <path d=\"M0 0h24v24H0V0z\" fill=\"none\"/>\n",
              "    <path d=\"M18.56 5.44l.94 2.06.94-2.06 2.06-.94-2.06-.94-.94-2.06-.94 2.06-2.06.94zm-11 1L8.5 8.5l.94-2.06 2.06-.94-2.06-.94L8.5 2.5l-.94 2.06-2.06.94zm10 10l.94 2.06.94-2.06 2.06-.94-2.06-.94-.94-2.06-.94 2.06-2.06.94z\"/><path d=\"M17.41 7.96l-1.37-1.37c-.4-.4-.92-.59-1.43-.59-.52 0-1.04.2-1.43.59L10.3 9.45l-7.72 7.72c-.78.78-.78 2.05 0 2.83L4 21.41c.39.39.9.59 1.41.59.51 0 1.02-.2 1.41-.59l7.78-7.78 2.81-2.81c.8-.78.8-2.07 0-2.86zM5.41 20L4 18.59l7.72-7.72 1.47 1.35L5.41 20z\"/>\n",
              "  </svg>\n",
              "      </button>\n",
              "      \n",
              "  <style>\n",
              "    .colab-df-container {\n",
              "      display:flex;\n",
              "      flex-wrap:wrap;\n",
              "      gap: 12px;\n",
              "    }\n",
              "\n",
              "    .colab-df-convert {\n",
              "      background-color: #E8F0FE;\n",
              "      border: none;\n",
              "      border-radius: 50%;\n",
              "      cursor: pointer;\n",
              "      display: none;\n",
              "      fill: #1967D2;\n",
              "      height: 32px;\n",
              "      padding: 0 0 0 0;\n",
              "      width: 32px;\n",
              "    }\n",
              "\n",
              "    .colab-df-convert:hover {\n",
              "      background-color: #E2EBFA;\n",
              "      box-shadow: 0px 1px 2px rgba(60, 64, 67, 0.3), 0px 1px 3px 1px rgba(60, 64, 67, 0.15);\n",
              "      fill: #174EA6;\n",
              "    }\n",
              "\n",
              "    [theme=dark] .colab-df-convert {\n",
              "      background-color: #3B4455;\n",
              "      fill: #D2E3FC;\n",
              "    }\n",
              "\n",
              "    [theme=dark] .colab-df-convert:hover {\n",
              "      background-color: #434B5C;\n",
              "      box-shadow: 0px 1px 3px 1px rgba(0, 0, 0, 0.15);\n",
              "      filter: drop-shadow(0px 1px 2px rgba(0, 0, 0, 0.3));\n",
              "      fill: #FFFFFF;\n",
              "    }\n",
              "  </style>\n",
              "\n",
              "      <script>\n",
              "        const buttonEl =\n",
              "          document.querySelector('#df-2bf2f2e9-208f-446e-af7c-a3928d17c4f6 button.colab-df-convert');\n",
              "        buttonEl.style.display =\n",
              "          google.colab.kernel.accessAllowed ? 'block' : 'none';\n",
              "\n",
              "        async function convertToInteractive(key) {\n",
              "          const element = document.querySelector('#df-2bf2f2e9-208f-446e-af7c-a3928d17c4f6');\n",
              "          const dataTable =\n",
              "            await google.colab.kernel.invokeFunction('convertToInteractive',\n",
              "                                                     [key], {});\n",
              "          if (!dataTable) return;\n",
              "\n",
              "          const docLinkHtml = 'Like what you see? Visit the ' +\n",
              "            '<a target=\"_blank\" href=https://colab.research.google.com/notebooks/data_table.ipynb>data table notebook</a>'\n",
              "            + ' to learn more about interactive tables.';\n",
              "          element.innerHTML = '';\n",
              "          dataTable['output_type'] = 'display_data';\n",
              "          await google.colab.output.renderOutput(dataTable, element);\n",
              "          const docLink = document.createElement('div');\n",
              "          docLink.innerHTML = docLinkHtml;\n",
              "          element.appendChild(docLink);\n",
              "        }\n",
              "      </script>\n",
              "    </div>\n",
              "  </div>\n",
              "  "
            ]
          },
          "metadata": {},
          "execution_count": 4
        }
      ]
    },
    {
      "cell_type": "code",
      "source": [
        "stopwords = nltk.corpus.stopwords.words('english')\n",
        "wn = WordNetLemmatizer()\n",
        "\n",
        "def preprocess_text(text):\n",
        "    # Lowercase the text\n",
        "    text = text.lower()\n",
        "    \n",
        "    # Remove punctuation\n",
        "    text = re.sub('[%s]' % re.escape(string.punctuation), '', text)\n",
        "    \n",
        "    # Remove numbers\n",
        "    text = re.sub(r'\\d+', '', text)\n",
        "    \n",
        "    # Tokenize text\n",
        "    tokens = text.split()\n",
        "\n",
        "    # Remove stopwords, lemmatize and drop words length < 2\n",
        "    text = [wn.lemmatize(word) for word in tokens if word not in stopwords and len(word) > 2]\n",
        "    \n",
        "    return text"
      ],
      "metadata": {
        "id": "NGWLtg8MEvff"
      },
      "execution_count": null,
      "outputs": []
    },
    {
      "cell_type": "markdown",
      "source": [
        "### (1) Generate a Word Cloud"
      ],
      "metadata": {
        "id": "KYOUWeU3DnR5"
      }
    },
    {
      "cell_type": "code",
      "source": [
        "text = ' '\n",
        "for x in df['text']: \n",
        "    text+=' '+x\n",
        "\n",
        "plt.figure(figsize=(8,10))\n",
        "wc = WordCloud(max_words=1000,random_state=1).generate(text)\n",
        "plt.imshow(wc)\n",
        "plt.show()"
      ],
      "metadata": {
        "colab": {
          "base_uri": "https://localhost:8080/",
          "height": 275
        },
        "id": "QR0RAcvlDZHj",
        "outputId": "aae87606-a9be-4d56-bb45-1c71d7c4dd4c"
      },
      "execution_count": null,
      "outputs": [
        {
          "output_type": "display_data",
          "data": {
            "text/plain": [
              "<Figure size 576x720 with 1 Axes>"
            ],
            "image/png": "[encoded data removed]"
          },
          "metadata": {
            "needs_background": "light"
          }
        }
      ]
    },
    {
      "cell_type": "markdown",
      "source": [
        "In the Word Cloud, we observe that most of the comments on yelp are positive as 'good' appears in a high frequency. Apart from that, customers's reviews focus on the place and food of those restaurants the most, since 'place' and 'food' are the two largest word appearing in the Word Cloud."
      ],
      "metadata": {
        "id": "8Kclk8OqFN5y"
      }
    },
    {
      "cell_type": "markdown",
      "source": [
        "### (2) TFIDF Representation & K-means"
      ],
      "metadata": {
        "id": "XBoFCj8hD3KI"
      }
    },
    {
      "cell_type": "code",
      "source": [
        "vectorizer = TfidfVectorizer(analyzer = preprocess_text, stop_words='english')\n",
        "X = vectorizer.fit_transform(df['text'])"
      ],
      "metadata": {
        "id": "Wa6_q7LzDlBc"
      },
      "execution_count": null,
      "outputs": []
    },
    {
      "cell_type": "code",
      "source": [
        "true_k = 2\n",
        "model = KMeans(n_clusters=true_k, init='k-means++', max_iter=100, n_init=1)\n",
        "model.fit(X)\n",
        "\n",
        "print(\"Top terms per cluster:\")\n",
        "order_centroids = model.cluster_centers_.argsort()[:, ::-1]\n",
        "terms = vectorizer.get_feature_names()\n",
        "for i in range(true_k):\n",
        "    print(\"Cluster %d:\" % i),\n",
        "    for ind in order_centroids[i, :10]:\n",
        "        print(' %s' % terms[ind]),"
      ],
      "metadata": {
        "colab": {
          "base_uri": "https://localhost:8080/"
        },
        "id": "WGO460hLCjy5",
        "outputId": "5180e074-6a51-4b66-da0a-0655e5f51cc4"
      },
      "execution_count": null,
      "outputs": [
        {
          "output_type": "stream",
          "name": "stdout",
          "text": [
            "Top terms per cluster:\n",
            "Cluster 0:\n",
            " great\n",
            " food\n",
            " service\n",
            " always\n",
            " best\n",
            " place\n",
            " good\n",
            " staff\n",
            " friendly\n",
            " ive\n",
            "Cluster 1:\n",
            " good\n",
            " place\n",
            " food\n",
            " time\n",
            " like\n",
            " would\n",
            " one\n",
            " order\n",
            " back\n",
            " chicken\n"
          ]
        }
      ]
    },
    {
      "cell_type": "code",
      "source": [
        "# array to store WCSS values\n",
        "wcss=[]\n",
        "\n",
        "# loops from 1-10 as values of k\n",
        "for i in range(1,15):\n",
        "    # creates KMeans objects and fits the data\n",
        "    km=KMeans(n_clusters=i)\n",
        "    km.fit(X)\n",
        "    # stores WCSS value \n",
        "    wcss.append(km.inertia_)\n",
        "\n",
        "plt.figure(figsize=(12,6))\n",
        "plt.plot(range(1,15),wcss, linewidth=2, color=\"red\", marker =\"8\")\n",
        "plt.xlabel(\"K Value\")\n",
        "plt.xticks(np.arange(1,15,1))\n",
        "plt.ylabel(\"WCSS\")\n",
        "plt.show()"
      ],
      "metadata": {
        "colab": {
          "base_uri": "https://localhost:8080/",
          "height": 388
        },
        "id": "ZNJuHQ4RCzH2",
        "outputId": "3adf188b-861a-4ad2-d18d-e64b33c73b4a"
      },
      "execution_count": null,
      "outputs": [
        {
          "output_type": "display_data",
          "data": {
            "text/plain": [
              "<Figure size 864x432 with 1 Axes>"
            ],
            "image/png": "[encoded data removed]"
          },
          "metadata": {
            "needs_background": "light"
          }
        }
      ]
    },
    {
      "cell_type": "markdown",
      "source": [
        "The elbow curve does not show significant drop in WCSS at any number of K between 1 and 15. Therefore, we choose K = 3 based on the principle of simplicity and the diminishing decrease in WCSS after K = 3."
      ],
      "metadata": {
        "id": "05n6cBz_F5lp"
      }
    },
    {
      "cell_type": "code",
      "source": [
        "true_k = 3\n",
        "model = KMeans(n_clusters=true_k, init='k-means++', max_iter=100, n_init=1)\n",
        "model.fit(X)\n",
        "\n",
        "print(\"Top terms per cluster:\")\n",
        "order_centroids = model.cluster_centers_.argsort()[:, ::-1]\n",
        "terms = vectorizer.get_feature_names()\n",
        "for i in range(true_k):\n",
        "    print(\"Cluster %d:\" % i),\n",
        "    for ind in order_centroids[i, :10]:\n",
        "        print(' %s' % terms[ind]),"
      ],
      "metadata": {
        "colab": {
          "base_uri": "https://localhost:8080/"
        },
        "id": "qOBuAULRt96i",
        "outputId": "66185e92-7335-4260-9918-ad928fe8abec"
      },
      "execution_count": null,
      "outputs": [
        {
          "output_type": "stream",
          "name": "stdout",
          "text": [
            "Top terms per cluster:\n",
            "Cluster 0:\n",
            " burger\n",
            " order\n",
            " place\n",
            " good\n",
            " cheese\n",
            " fry\n",
            " get\n",
            " like\n",
            " time\n",
            " one\n",
            "Cluster 1:\n",
            " food\n",
            " great\n",
            " good\n",
            " service\n",
            " place\n",
            " really\n",
            " always\n",
            " best\n",
            " chicken\n",
            " staff\n",
            "Cluster 2:\n",
            " car\n",
            " time\n",
            " would\n",
            " day\n",
            " service\n",
            " back\n",
            " place\n",
            " get\n",
            " one\n",
            " best\n"
          ]
        }
      ]
    },
    {
      "cell_type": "markdown",
      "source": [
        "### (3) Summarize the theme of the first three clusters."
      ],
      "metadata": {
        "id": "v4-H4pzbGPwP"
      }
    },
    {
      "cell_type": "markdown",
      "source": [
        "In the first cluster, the reviews' theme are likely to be the feedback on food. The reason is that many food names such as \"cheese\", \"fry\", and \"burger\". As for the second cluster, its theme might be the feedback on service for the reason that \"service\" and \"staff\" appear in this cluster. The last cluster's theme might be the location of the restaurant since \"car\", \"time\", and \"place\" appear in this cluster."
      ],
      "metadata": {
        "id": "cuQ7HENUGVVb"
      }
    },
    {
      "cell_type": "markdown",
      "source": [
        "### (4) Does it make sense?"
      ],
      "metadata": {
        "id": "ejL4oXLpHVx_"
      }
    },
    {
      "cell_type": "markdown",
      "source": [
        "However, the clustering results does not make so much sense, since there are a couple of duplicates in all of the three clusters. For example, \"service\" appear simultaneously in cluster 1 and cluster 2. Besides, we can find positive adjectives like \"good\" and \"great\" in all of the three classes. But after all, the clustering results make some sense to some extent."
      ],
      "metadata": {
        "id": "DnimpJzQHSSg"
      }
    },
    {
      "cell_type": "markdown",
      "source": [
        "## Part 2 Classification"
      ],
      "metadata": {
        "id": "wOmddCrIH5-X"
      }
    },
    {
      "cell_type": "markdown",
      "source": [
        "In the classification part, I would like to use the Word2Vec as my text embeddings tools. In the first step, I would first create a new variable called `pos_sentiment` based on the stars as the target variable. Then I would split the data into a training and test set seperately. Then I would define and perform a text preprocessing function to clean the text of reviews, and then define a word embedding function to use averaging all embeddings for all sentences as the values of embedded vectors. In the last step, I would introduce the a deep learning model like LSTM and generate the predicted y based based on fitting X_train to y_train. In the end, I would calculate the F1-score and accuracy for the output of the deep learning algorithm."
      ],
      "metadata": {
        "id": "hZ8hVsrwJ5sE"
      }
    },
    {
      "cell_type": "code",
      "source": [
        "#basic imports\n",
        "import warnings\n",
        "warnings.filterwarnings('ignore')\n",
        "import os\n",
        "import wget\n",
        "import gzip\n",
        "import shutil\n",
        "from time import time\n",
        "\n",
        "#pre-processing imports\n",
        "import nltk\n",
        "nltk.download('stopwords')\n",
        "nltk.download('punkt')\n",
        "from nltk.tokenize import word_tokenize\n",
        "from nltk.corpus import stopwords\n",
        "from string import punctuation\n",
        "\n",
        "#imports related to modeling\n",
        "import numpy as np\n",
        "from gensim.models import Word2Vec, KeyedVectors\n",
        "from sklearn.linear_model import LogisticRegression\n",
        "from sklearn.model_selection import train_test_split\n",
        "from sklearn.metrics import classification_report"
      ],
      "metadata": {
        "colab": {
          "base_uri": "https://localhost:8080/"
        },
        "id": "6eNc_JAQuzA6",
        "outputId": "2c067f28-0d35-457f-a2bd-1904912f9d67"
      },
      "execution_count": null,
      "outputs": [
        {
          "output_type": "stream",
          "name": "stderr",
          "text": [
            "[nltk_data] Downloading package stopwords to /root/nltk_data...\n",
            "[nltk_data]   Package stopwords is already up-to-date!\n",
            "[nltk_data] Downloading package punkt to /root/nltk_data...\n",
            "[nltk_data]   Package punkt is already up-to-date!\n"
          ]
        }
      ]
    },
    {
      "cell_type": "code",
      "source": [
        "pos = [np.float64(1), np.float64(2), np.float64(3)]\n",
        "df['pos_sentiment'] = np.where(df['stars'].isin(pos), 0, 1)"
      ],
      "metadata": {
        "id": "XXS3ycJxH3aL"
      },
      "execution_count": null,
      "outputs": []
    },
    {
      "cell_type": "code",
      "source": [
        "df"
      ],
      "metadata": {
        "colab": {
          "base_uri": "https://localhost:8080/",
          "height": 991
        },
        "id": "NCdvKjZ8O3F6",
        "outputId": "344479b6-4e10-4b27-d19c-c693119c3934"
      },
      "execution_count": null,
      "outputs": [
        {
          "output_type": "execute_result",
          "data": {
            "text/plain": [
              "     stars  useful                                               text  funny  \\\n",
              "0      4.0       0  First time waxing. I read all the other review...      0   \n",
              "1      5.0       0  I love my manicure! Such an affordable place. ...      0   \n",
              "2      4.0       0  Great food, fast service, they try to crank pe...      0   \n",
              "3      1.0       0  Save your money and go across the street the f...      0   \n",
              "4      4.0       0  Oops...this was for the Main St location:\\n\\n-...      0   \n",
              "..     ...     ...                                                ...    ...   \n",
              "995    5.0       0  Great momos.. chicken momo was amazing.. \\nthe...      0   \n",
              "996    4.0       6  A friend suggested we eat here about a week ag...      5   \n",
              "997    5.0       2  Flip is the bomb! One of my all-time favorite ...      0   \n",
              "998    5.0       0  I went to this barber shop based on the yelp s...      0   \n",
              "999    1.0       7  I went to this place last month by recommendat...      0   \n",
              "\n",
              "                  review_id  cool                 date  \\\n",
              "0    V46usAbOSPIzurZy7DUU5A     0  2016-04-16 13:55:38   \n",
              "1    CpNSsju9NFc-Xrpf5Hfqhg     0  2020-01-18 05:32:54   \n",
              "2    RP7A24xD14Cbegmr1AokNQ     0  2015-01-25 14:49:09   \n",
              "3    6a38lS1TjeWMqK-knuNAhA     0  2018-11-06 22:12:14   \n",
              "4    Q0QKTuceHzgmFeTtYSTzYg     0  2011-08-19 21:45:31   \n",
              "..                      ...   ...                  ...   \n",
              "995  NKjAtoBv2_X5hvqNPFXYow     0  2017-03-19 01:26:22   \n",
              "996  m90725S_BQ0QZf7MG5IMig     3  2014-04-07 21:39:36   \n",
              "997  4I7AKPblHPCHSnGdFM0DAw     0  2013-03-04 05:40:33   \n",
              "998  957Jil3yuVaXFjgyU-_nFw     1  2014-10-09 14:54:41   \n",
              "999  H0SIQekshdTEgO5IAlbTig     0  2019-06-12 15:58:13   \n",
              "\n",
              "                    user_id             business_id  pos_sentiment  \n",
              "0    rD6noiuiMCcGuq6oPYFJdQ  b4NaB1u3AwgrhRMKsKgWsA              1  \n",
              "1    tTsUSklzH1oxPp2usth84A  -otKp6RA94dfGsqa5jSDHQ              1  \n",
              "2    -cnIq2OmV8CleS4bLOvCxQ  EA10YCkaxzRoCEOB38xv1Q              1  \n",
              "3    mzCkRflEka_vezCiBYYWGA  nkqaLepNTSrUYuZkzbBR5A              0  \n",
              "4    3zlK9eBVCpRWMPLjtAj6cQ  XtFhLvKV46H7a054X2_aFQ              1  \n",
              "..                      ...                     ...            ...  \n",
              "995  QEzmBdpLMvcDNMEdbepBmg  fTSKD2e4FTyUbHCl93t1ow              1  \n",
              "996  w9zzMF3Z68omqkDbgsURoQ  JRA9UYISyXgkWzO3YAqNcg              1  \n",
              "997  1HtGcjZehXY8odctlBSIiQ  TA1KUSCu8GkWP9w0rmElxw              1  \n",
              "998  JuNeSHwvwFWavIjp4GisrQ  Rq6QSybYpq9j9HUmlyhpEw              1  \n",
              "999  F4kedCBG2OWogHiq8OomPQ  kZ78bwrRSrI6eCQw5mziRA              0  \n",
              "\n",
              "[1000 rows x 10 columns]"
            ],
            "text/html": [
              "\n",
              "  <div id=\"df-701b910d-020c-4295-9a3c-cec4714a9d26\">\n",
              "    <div class=\"colab-df-container\">\n",
              "      <div>\n",
              "<style scoped>\n",
              "    .dataframe tbody tr th:only-of-type {\n",
              "        vertical-align: middle;\n",
              "    }\n",
              "\n",
              "    .dataframe tbody tr th {\n",
              "        vertical-align: top;\n",
              "    }\n",
              "\n",
              "    .dataframe thead th {\n",
              "        text-align: right;\n",
              "    }\n",
              "</style>\n",
              "<table border=\"1\" class=\"dataframe\">\n",
              "  <thead>\n",
              "    <tr style=\"text-align: right;\">\n",
              "      <th></th>\n",
              "      <th>stars</th>\n",
              "      <th>useful</th>\n",
              "      <th>text</th>\n",
              "      <th>funny</th>\n",
              "      <th>review_id</th>\n",
              "      <th>cool</th>\n",
              "      <th>date</th>\n",
              "      <th>user_id</th>\n",
              "      <th>business_id</th>\n",
              "      <th>pos_sentiment</th>\n",
              "    </tr>\n",
              "  </thead>\n",
              "  <tbody>\n",
              "    <tr>\n",
              "      <th>0</th>\n",
              "      <td>4.0</td>\n",
              "      <td>0</td>\n",
              "      <td>First time waxing. I read all the other review...</td>\n",
              "      <td>0</td>\n",
              "      <td>V46usAbOSPIzurZy7DUU5A</td>\n",
              "      <td>0</td>\n",
              "      <td>2016-04-16 13:55:38</td>\n",
              "      <td>rD6noiuiMCcGuq6oPYFJdQ</td>\n",
              "      <td>b4NaB1u3AwgrhRMKsKgWsA</td>\n",
              "      <td>1</td>\n",
              "    </tr>\n",
              "    <tr>\n",
              "      <th>1</th>\n",
              "      <td>5.0</td>\n",
              "      <td>0</td>\n",
              "      <td>I love my manicure! Such an affordable place. ...</td>\n",
              "      <td>0</td>\n",
              "      <td>CpNSsju9NFc-Xrpf5Hfqhg</td>\n",
              "      <td>0</td>\n",
              "      <td>2020-01-18 05:32:54</td>\n",
              "      <td>tTsUSklzH1oxPp2usth84A</td>\n",
              "      <td>-otKp6RA94dfGsqa5jSDHQ</td>\n",
              "      <td>1</td>\n",
              "    </tr>\n",
              "    <tr>\n",
              "      <th>2</th>\n",
              "      <td>4.0</td>\n",
              "      <td>0</td>\n",
              "      <td>Great food, fast service, they try to crank pe...</td>\n",
              "      <td>0</td>\n",
              "      <td>RP7A24xD14Cbegmr1AokNQ</td>\n",
              "      <td>0</td>\n",
              "      <td>2015-01-25 14:49:09</td>\n",
              "      <td>-cnIq2OmV8CleS4bLOvCxQ</td>\n",
              "      <td>EA10YCkaxzRoCEOB38xv1Q</td>\n",
              "      <td>1</td>\n",
              "    </tr>\n",
              "    <tr>\n",
              "      <th>3</th>\n",
              "      <td>1.0</td>\n",
              "      <td>0</td>\n",
              "      <td>Save your money and go across the street the f...</td>\n",
              "      <td>0</td>\n",
              "      <td>6a38lS1TjeWMqK-knuNAhA</td>\n",
              "      <td>0</td>\n",
              "      <td>2018-11-06 22:12:14</td>\n",
              "      <td>mzCkRflEka_vezCiBYYWGA</td>\n",
              "      <td>nkqaLepNTSrUYuZkzbBR5A</td>\n",
              "      <td>0</td>\n",
              "    </tr>\n",
              "    <tr>\n",
              "      <th>4</th>\n",
              "      <td>4.0</td>\n",
              "      <td>0</td>\n",
              "      <td>Oops...this was for the Main St location:\\n\\n-...</td>\n",
              "      <td>0</td>\n",
              "      <td>Q0QKTuceHzgmFeTtYSTzYg</td>\n",
              "      <td>0</td>\n",
              "      <td>2011-08-19 21:45:31</td>\n",
              "      <td>3zlK9eBVCpRWMPLjtAj6cQ</td>\n",
              "      <td>XtFhLvKV46H7a054X2_aFQ</td>\n",
              "      <td>1</td>\n",
              "    </tr>\n",
              "    <tr>\n",
              "      <th>...</th>\n",
              "      <td>...</td>\n",
              "      <td>...</td>\n",
              "      <td>...</td>\n",
              "      <td>...</td>\n",
              "      <td>...</td>\n",
              "      <td>...</td>\n",
              "      <td>...</td>\n",
              "      <td>...</td>\n",
              "      <td>...</td>\n",
              "      <td>...</td>\n",
              "    </tr>\n",
              "    <tr>\n",
              "      <th>995</th>\n",
              "      <td>5.0</td>\n",
              "      <td>0</td>\n",
              "      <td>Great momos.. chicken momo was amazing.. \\nthe...</td>\n",
              "      <td>0</td>\n",
              "      <td>NKjAtoBv2_X5hvqNPFXYow</td>\n",
              "      <td>0</td>\n",
              "      <td>2017-03-19 01:26:22</td>\n",
              "      <td>QEzmBdpLMvcDNMEdbepBmg</td>\n",
              "      <td>fTSKD2e4FTyUbHCl93t1ow</td>\n",
              "      <td>1</td>\n",
              "    </tr>\n",
              "    <tr>\n",
              "      <th>996</th>\n",
              "      <td>4.0</td>\n",
              "      <td>6</td>\n",
              "      <td>A friend suggested we eat here about a week ag...</td>\n",
              "      <td>5</td>\n",
              "      <td>m90725S_BQ0QZf7MG5IMig</td>\n",
              "      <td>3</td>\n",
              "      <td>2014-04-07 21:39:36</td>\n",
              "      <td>w9zzMF3Z68omqkDbgsURoQ</td>\n",
              "      <td>JRA9UYISyXgkWzO3YAqNcg</td>\n",
              "      <td>1</td>\n",
              "    </tr>\n",
              "    <tr>\n",
              "      <th>997</th>\n",
              "      <td>5.0</td>\n",
              "      <td>2</td>\n",
              "      <td>Flip is the bomb! One of my all-time favorite ...</td>\n",
              "      <td>0</td>\n",
              "      <td>4I7AKPblHPCHSnGdFM0DAw</td>\n",
              "      <td>0</td>\n",
              "      <td>2013-03-04 05:40:33</td>\n",
              "      <td>1HtGcjZehXY8odctlBSIiQ</td>\n",
              "      <td>TA1KUSCu8GkWP9w0rmElxw</td>\n",
              "      <td>1</td>\n",
              "    </tr>\n",
              "    <tr>\n",
              "      <th>998</th>\n",
              "      <td>5.0</td>\n",
              "      <td>0</td>\n",
              "      <td>I went to this barber shop based on the yelp s...</td>\n",
              "      <td>0</td>\n",
              "      <td>957Jil3yuVaXFjgyU-_nFw</td>\n",
              "      <td>1</td>\n",
              "      <td>2014-10-09 14:54:41</td>\n",
              "      <td>JuNeSHwvwFWavIjp4GisrQ</td>\n",
              "      <td>Rq6QSybYpq9j9HUmlyhpEw</td>\n",
              "      <td>1</td>\n",
              "    </tr>\n",
              "    <tr>\n",
              "      <th>999</th>\n",
              "      <td>1.0</td>\n",
              "      <td>7</td>\n",
              "      <td>I went to this place last month by recommendat...</td>\n",
              "      <td>0</td>\n",
              "      <td>H0SIQekshdTEgO5IAlbTig</td>\n",
              "      <td>0</td>\n",
              "      <td>2019-06-12 15:58:13</td>\n",
              "      <td>F4kedCBG2OWogHiq8OomPQ</td>\n",
              "      <td>kZ78bwrRSrI6eCQw5mziRA</td>\n",
              "      <td>0</td>\n",
              "    </tr>\n",
              "  </tbody>\n",
              "</table>\n",
              "<p>1000 rows × 10 columns</p>\n",
              "</div>\n",
              "      <button class=\"colab-df-convert\" onclick=\"convertToInteractive('df-701b910d-020c-4295-9a3c-cec4714a9d26')\"\n",
              "              title=\"Convert this dataframe to an interactive table.\"\n",
              "              style=\"display:none;\">\n",
              "        \n",
              "  <svg xmlns=\"http://www.w3.org/2000/svg\" height=\"24px\"viewBox=\"0 0 24 24\"\n",
              "       width=\"24px\">\n",
              "    <path d=\"M0 0h24v24H0V0z\" fill=\"none\"/>\n",
              "    <path d=\"M18.56 5.44l.94 2.06.94-2.06 2.06-.94-2.06-.94-.94-2.06-.94 2.06-2.06.94zm-11 1L8.5 8.5l.94-2.06 2.06-.94-2.06-.94L8.5 2.5l-.94 2.06-2.06.94zm10 10l.94 2.06.94-2.06 2.06-.94-2.06-.94-.94-2.06-.94 2.06-2.06.94z\"/><path d=\"M17.41 7.96l-1.37-1.37c-.4-.4-.92-.59-1.43-.59-.52 0-1.04.2-1.43.59L10.3 9.45l-7.72 7.72c-.78.78-.78 2.05 0 2.83L4 21.41c.39.39.9.59 1.41.59.51 0 1.02-.2 1.41-.59l7.78-7.78 2.81-2.81c.8-.78.8-2.07 0-2.86zM5.41 20L4 18.59l7.72-7.72 1.47 1.35L5.41 20z\"/>\n",
              "  </svg>\n",
              "      </button>\n",
              "      \n",
              "  <style>\n",
              "    .colab-df-container {\n",
              "      display:flex;\n",
              "      flex-wrap:wrap;\n",
              "      gap: 12px;\n",
              "    }\n",
              "\n",
              "    .colab-df-convert {\n",
              "      background-color: #E8F0FE;\n",
              "      border: none;\n",
              "      border-radius: 50%;\n",
              "      cursor: pointer;\n",
              "      display: none;\n",
              "      fill: #1967D2;\n",
              "      height: 32px;\n",
              "      padding: 0 0 0 0;\n",
              "      width: 32px;\n",
              "    }\n",
              "\n",
              "    .colab-df-convert:hover {\n",
              "      background-color: #E2EBFA;\n",
              "      box-shadow: 0px 1px 2px rgba(60, 64, 67, 0.3), 0px 1px 3px 1px rgba(60, 64, 67, 0.15);\n",
              "      fill: #174EA6;\n",
              "    }\n",
              "\n",
              "    [theme=dark] .colab-df-convert {\n",
              "      background-color: #3B4455;\n",
              "      fill: #D2E3FC;\n",
              "    }\n",
              "\n",
              "    [theme=dark] .colab-df-convert:hover {\n",
              "      background-color: #434B5C;\n",
              "      box-shadow: 0px 1px 3px 1px rgba(0, 0, 0, 0.15);\n",
              "      filter: drop-shadow(0px 1px 2px rgba(0, 0, 0, 0.3));\n",
              "      fill: #FFFFFF;\n",
              "    }\n",
              "  </style>\n",
              "\n",
              "      <script>\n",
              "        const buttonEl =\n",
              "          document.querySelector('#df-701b910d-020c-4295-9a3c-cec4714a9d26 button.colab-df-convert');\n",
              "        buttonEl.style.display =\n",
              "          google.colab.kernel.accessAllowed ? 'block' : 'none';\n",
              "\n",
              "        async function convertToInteractive(key) {\n",
              "          const element = document.querySelector('#df-701b910d-020c-4295-9a3c-cec4714a9d26');\n",
              "          const dataTable =\n",
              "            await google.colab.kernel.invokeFunction('convertToInteractive',\n",
              "                                                     [key], {});\n",
              "          if (!dataTable) return;\n",
              "\n",
              "          const docLinkHtml = 'Like what you see? Visit the ' +\n",
              "            '<a target=\"_blank\" href=https://colab.research.google.com/notebooks/data_table.ipynb>data table notebook</a>'\n",
              "            + ' to learn more about interactive tables.';\n",
              "          element.innerHTML = '';\n",
              "          dataTable['output_type'] = 'display_data';\n",
              "          await google.colab.output.renderOutput(dataTable, element);\n",
              "          const docLink = document.createElement('div');\n",
              "          docLink.innerHTML = docLinkHtml;\n",
              "          element.appendChild(docLink);\n",
              "        }\n",
              "      </script>\n",
              "    </div>\n",
              "  </div>\n",
              "  "
            ]
          },
          "metadata": {},
          "execution_count": 51
        }
      ]
    },
    {
      "cell_type": "code",
      "source": [
        "from sklearn.model_selection import train_test_split\n",
        "\n",
        "# Step 1: train-test split\n",
        "X = df['text']\n",
        "y = df['pos_sentiment']\n",
        "print(X.shape, y.shape)\n",
        "# split X and y into training and testing sets. By default, it splits 75% training and 25% test\n",
        "# random_state=1 for reproducibility\n",
        "X_train, X_test, y_train, y_test = train_test_split(X, y, random_state=1)"
      ],
      "metadata": {
        "colab": {
          "base_uri": "https://localhost:8080/"
        },
        "id": "Z4lwZWIPO1OT",
        "outputId": "b86f72b0-c717-4ca2-fcaf-fb86746de2b1"
      },
      "execution_count": null,
      "outputs": [
        {
          "output_type": "stream",
          "name": "stdout",
          "text": [
            "(1000,) (1000,)\n"
          ]
        }
      ]
    },
    {
      "cell_type": "code",
      "source": [
        "#preprocess the text.\n",
        "def preprocess_corpus(texts):\n",
        "    mystopwords = set(stopwords.words(\"english\"))\n",
        "    def remove_stops_digits(tokens):\n",
        "        #Nested function that lowercases, removes stopwords and digits from a list of tokens\n",
        "        return [token.lower() for token in tokens if token.lower() not in mystopwords and not token.isdigit()\n",
        "               and token not in punctuation]\n",
        "    #This return statement below uses the above function to process twitter tokenizer output further. \n",
        "    return [remove_stops_digits(word_tokenize(text)) for text in texts]\n",
        "\n",
        "texts_processed_train = preprocess_corpus(X_train)\n",
        "texts_processed_test = preprocess_corpus(X_test)\n",
        "w2v_model = Word2Vec(texts_processed_train, size=300, window=5, min_count=2, workers=16, seed = 34)"
      ],
      "metadata": {
        "colab": {
          "base_uri": "https://localhost:8080/"
        },
        "id": "kPe7SsxuJtvX",
        "outputId": "624abecd-a189-4ab6-f6a2-eeb4c3c2b020"
      },
      "execution_count": null,
      "outputs": [
        {
          "output_type": "stream",
          "name": "stderr",
          "text": [
            "WARNING:gensim.models.base_any2vec:under 10 jobs per worker: consider setting a smaller `batch_words' for smoother alpha decay\n"
          ]
        }
      ]
    },
    {
      "cell_type": "code",
      "source": [
        "# Creating a feature vector by averaging all embeddings for all sentences\n",
        "def embedding_feats(list_of_lists):\n",
        "    DIMENSION = 300\n",
        "    zero_vector = np.zeros(DIMENSION)\n",
        "    feats = []\n",
        "    for tokens in list_of_lists:\n",
        "        feat_for_this =  np.zeros(DIMENSION)\n",
        "        count_for_this = 0 + 1e-5 # to avoid divide-by-zero \n",
        "        for token in tokens:\n",
        "            if token in w2v_model:\n",
        "                feat_for_this += w2v_model[token]\n",
        "                count_for_this +=1\n",
        "        if(count_for_this!=0):\n",
        "            feats.append(feat_for_this/count_for_this) \n",
        "        else:\n",
        "            feats.append(zero_vector)\n",
        "    return feats\n",
        "\n",
        "\n",
        "train_vectors = embedding_feats(texts_processed_train)\n",
        "test_vectors = embedding_feats(texts_processed_test)\n",
        "print(len(train_vectors))"
      ],
      "metadata": {
        "colab": {
          "base_uri": "https://localhost:8080/"
        },
        "outputId": "6dcd52d2-8bda-41f7-989b-e4267a4099d9",
        "id": "e9oEiK3kOLrb"
      },
      "execution_count": null,
      "outputs": [
        {
          "output_type": "stream",
          "name": "stdout",
          "text": [
            "750\n"
          ]
        }
      ]
    },
    {
      "cell_type": "code",
      "source": [
        "from tensorflow.keras.preprocessing.text import Tokenizer\n",
        "from tensorflow.keras.preprocessing.sequence import pad_sequences\n",
        "from tensorflow.keras.utils import to_categorical\n",
        "from tensorflow.keras.layers import Dense, Input, GlobalMaxPooling1D\n",
        "from tensorflow.keras.layers import Conv1D, MaxPooling1D, Embedding, LSTM\n",
        "from tensorflow.keras.models import Model, Sequential\n",
        "from tensorflow.keras.initializers import Constant\n",
        "rnnmodel2 = Sequential()\n",
        "rnnmodel2.add(LSTM(128, dropout=0.2, recurrent_dropout=0.2))\n",
        "rnnmodel2.add(Dense(2, activation='sigmoid'))\n",
        "rnnmodel2.compile(loss='binary_crossentropy',\n",
        "              optimizer='adam',\n",
        "              metrics=['accuracy'])\n",
        "print('Training the RNN')\n",
        "\n",
        "rnnmodel2.fit(train.values, y_train.values,\n",
        "          batch_size=32,\n",
        "          epochs=1)"
      ],
      "metadata": {
        "id": "n2-wnWAnQ0bx",
        "colab": {
          "base_uri": "https://localhost:8080/",
          "height": 780
        },
        "outputId": "6814e321-a15a-4baf-c633-a557c455f43d"
      },
      "execution_count": 70,
      "outputs": [
        {
          "output_type": "stream",
          "name": "stdout",
          "text": [
            "Training the RNN\n"
          ]
        },
        {
          "output_type": "error",
          "ename": "ValueError",
          "evalue": "ignored",
          "traceback": [
            "\u001b[0;31m---------------------------------------------------------------------------\u001b[0m",
            "\u001b[0;31mValueError\u001b[0m                                Traceback (most recent call last)",
            "\u001b[0;32m<ipython-input-70-070b9d3b3322>\u001b[0m in \u001b[0;36m<module>\u001b[0;34m\u001b[0m\n\u001b[1;32m     14\u001b[0m \u001b[0mprint\u001b[0m\u001b[0;34m(\u001b[0m\u001b[0;34m'Training the RNN'\u001b[0m\u001b[0;34m)\u001b[0m\u001b[0;34m\u001b[0m\u001b[0;34m\u001b[0m\u001b[0m\n\u001b[1;32m     15\u001b[0m \u001b[0;34m\u001b[0m\u001b[0m\n\u001b[0;32m---> 16\u001b[0;31m rnnmodel2.fit(train.values, y_train.values,\n\u001b[0m\u001b[1;32m     17\u001b[0m           \u001b[0mbatch_size\u001b[0m\u001b[0;34m=\u001b[0m\u001b[0;36m32\u001b[0m\u001b[0;34m,\u001b[0m\u001b[0;34m\u001b[0m\u001b[0;34m\u001b[0m\u001b[0m\n\u001b[1;32m     18\u001b[0m           epochs=1)\n",
            "\u001b[0;32m/usr/local/lib/python3.8/dist-packages/keras/utils/traceback_utils.py\u001b[0m in \u001b[0;36merror_handler\u001b[0;34m(*args, **kwargs)\u001b[0m\n\u001b[1;32m     68\u001b[0m             \u001b[0;31m# To get the full stack trace, call:\u001b[0m\u001b[0;34m\u001b[0m\u001b[0;34m\u001b[0m\u001b[0;34m\u001b[0m\u001b[0m\n\u001b[1;32m     69\u001b[0m             \u001b[0;31m# `tf.debugging.disable_traceback_filtering()`\u001b[0m\u001b[0;34m\u001b[0m\u001b[0;34m\u001b[0m\u001b[0;34m\u001b[0m\u001b[0m\n\u001b[0;32m---> 70\u001b[0;31m             \u001b[0;32mraise\u001b[0m \u001b[0me\u001b[0m\u001b[0;34m.\u001b[0m\u001b[0mwith_traceback\u001b[0m\u001b[0;34m(\u001b[0m\u001b[0mfiltered_tb\u001b[0m\u001b[0;34m)\u001b[0m \u001b[0;32mfrom\u001b[0m \u001b[0;32mNone\u001b[0m\u001b[0;34m\u001b[0m\u001b[0;34m\u001b[0m\u001b[0m\n\u001b[0m\u001b[1;32m     71\u001b[0m         \u001b[0;32mfinally\u001b[0m\u001b[0;34m:\u001b[0m\u001b[0;34m\u001b[0m\u001b[0;34m\u001b[0m\u001b[0m\n\u001b[1;32m     72\u001b[0m             \u001b[0;32mdel\u001b[0m \u001b[0mfiltered_tb\u001b[0m\u001b[0;34m\u001b[0m\u001b[0;34m\u001b[0m\u001b[0m\n",
            "\u001b[0;32m/usr/local/lib/python3.8/dist-packages/keras/engine/training.py\u001b[0m in \u001b[0;36mtf__train_function\u001b[0;34m(iterator)\u001b[0m\n\u001b[1;32m     13\u001b[0m                 \u001b[0;32mtry\u001b[0m\u001b[0;34m:\u001b[0m\u001b[0;34m\u001b[0m\u001b[0;34m\u001b[0m\u001b[0m\n\u001b[1;32m     14\u001b[0m                     \u001b[0mdo_return\u001b[0m \u001b[0;34m=\u001b[0m \u001b[0;32mTrue\u001b[0m\u001b[0;34m\u001b[0m\u001b[0;34m\u001b[0m\u001b[0m\n\u001b[0;32m---> 15\u001b[0;31m                     \u001b[0mretval_\u001b[0m \u001b[0;34m=\u001b[0m \u001b[0mag__\u001b[0m\u001b[0;34m.\u001b[0m\u001b[0mconverted_call\u001b[0m\u001b[0;34m(\u001b[0m\u001b[0mag__\u001b[0m\u001b[0;34m.\u001b[0m\u001b[0mld\u001b[0m\u001b[0;34m(\u001b[0m\u001b[0mstep_function\u001b[0m\u001b[0;34m)\u001b[0m\u001b[0;34m,\u001b[0m \u001b[0;34m(\u001b[0m\u001b[0mag__\u001b[0m\u001b[0;34m.\u001b[0m\u001b[0mld\u001b[0m\u001b[0;34m(\u001b[0m\u001b[0mself\u001b[0m\u001b[0;34m)\u001b[0m\u001b[0;34m,\u001b[0m \u001b[0mag__\u001b[0m\u001b[0;34m.\u001b[0m\u001b[0mld\u001b[0m\u001b[0;34m(\u001b[0m\u001b[0miterator\u001b[0m\u001b[0;34m)\u001b[0m\u001b[0;34m)\u001b[0m\u001b[0;34m,\u001b[0m \u001b[0;32mNone\u001b[0m\u001b[0;34m,\u001b[0m \u001b[0mfscope\u001b[0m\u001b[0;34m)\u001b[0m\u001b[0;34m\u001b[0m\u001b[0;34m\u001b[0m\u001b[0m\n\u001b[0m\u001b[1;32m     16\u001b[0m                 \u001b[0;32mexcept\u001b[0m\u001b[0;34m:\u001b[0m\u001b[0;34m\u001b[0m\u001b[0;34m\u001b[0m\u001b[0m\n\u001b[1;32m     17\u001b[0m                     \u001b[0mdo_return\u001b[0m \u001b[0;34m=\u001b[0m \u001b[0;32mFalse\u001b[0m\u001b[0;34m\u001b[0m\u001b[0;34m\u001b[0m\u001b[0m\n",
            "\u001b[0;31mValueError\u001b[0m: in user code:\n\n    File \"/usr/local/lib/python3.8/dist-packages/keras/engine/training.py\", line 1249, in train_function  *\n        return step_function(self, iterator)\n    File \"/usr/local/lib/python3.8/dist-packages/keras/engine/training.py\", line 1233, in step_function  **\n        outputs = model.distribute_strategy.run(run_step, args=(data,))\n    File \"/usr/local/lib/python3.8/dist-packages/keras/engine/training.py\", line 1222, in run_step  **\n        outputs = model.train_step(data)\n    File \"/usr/local/lib/python3.8/dist-packages/keras/engine/training.py\", line 1023, in train_step\n        y_pred = self(x, training=True)\n    File \"/usr/local/lib/python3.8/dist-packages/keras/utils/traceback_utils.py\", line 70, in error_handler\n        raise e.with_traceback(filtered_tb) from None\n    File \"/usr/local/lib/python3.8/dist-packages/keras/engine/input_spec.py\", line 232, in assert_input_compatibility\n        raise ValueError(\n\n    ValueError: Exception encountered when calling layer 'sequential_4' (type Sequential).\n    \n    Input 0 of layer \"lstm_3\" is incompatible with the layer: expected ndim=3, found ndim=2. Full shape received: (None, 300)\n    \n    Call arguments received by layer 'sequential_4' (type Sequential):\n      • inputs=tf.Tensor(shape=(None, 300), dtype=float32)\n      • training=True\n      • mask=None\n"
          ]
        }
      ]
    },
    {
      "cell_type": "code",
      "source": [
        "train = pd.DataFrame(train_vectors)"
      ],
      "metadata": {
        "id": "rguu9BcWSzYt"
      },
      "execution_count": 66,
      "outputs": []
    },
    {
      "cell_type": "code",
      "source": [
        "train.valuesl"
      ],
      "metadata": {
        "colab": {
          "base_uri": "https://localhost:8080/"
        },
        "id": "mOA0BdHRTA00",
        "outputId": "258fb18b-4f75-4b8a-b609-f8089a9c78b3"
      },
      "execution_count": 69,
      "outputs": [
        {
          "output_type": "execute_result",
          "data": {
            "text/plain": [
              "array([[0.00180448, 0.0718803 , 0.01669675, ..., 0.15826779, 0.01252296,\n",
              "        0.1404595 ],\n",
              "       [0.00172211, 0.06776762, 0.01542174, ..., 0.14844494, 0.01185709,\n",
              "        0.13254349],\n",
              "       [0.00164358, 0.06064278, 0.01361828, ..., 0.13258569, 0.01073586,\n",
              "        0.11837864],\n",
              "       ...,\n",
              "       [0.00154232, 0.06651065, 0.01512089, ..., 0.14542878, 0.01161331,\n",
              "        0.13001356],\n",
              "       [0.00187416, 0.07586331, 0.01743061, ..., 0.16579257, 0.0134207 ,\n",
              "        0.14783975],\n",
              "       [0.00174289, 0.08529268, 0.01935893, ..., 0.18515509, 0.01502483,\n",
              "        0.16523186]])"
            ]
          },
          "metadata": {},
          "execution_count": 69
        }
      ]
    },
    {
      "cell_type": "markdown",
      "source": [],
      "metadata": {
        "id": "-gAJZpsBSNYY"
      }
    },
    {
      "cell_type": "code",
      "source": [
        "y_train.values"
      ],
      "metadata": {
        "id": "7L3XZ7nWQvi3",
        "colab": {
          "base_uri": "https://localhost:8080/"
        },
        "outputId": "65d82b51-e1ff-41b7-df50-2f61b774cb3d"
      },
      "execution_count": 58,
      "outputs": [
        {
          "output_type": "execute_result",
          "data": {
            "text/plain": [
              "array([1, 1, 1, 1, 1, 0, 0, 0, 1, 1, 0, 1, 1, 1, 1, 0, 1, 1, 1, 0, 1, 0,\n",
              "       1, 1, 1, 0, 0, 1, 1, 0, 1, 0, 1, 0, 0, 0, 1, 1, 0, 1, 1, 0, 1, 1,\n",
              "       1, 1, 1, 1, 0, 1, 1, 0, 1, 1, 1, 0, 0, 0, 1, 1, 1, 0, 1, 0, 0, 0,\n",
              "       1, 1, 1, 1, 1, 1, 1, 1, 1, 1, 0, 0, 1, 1, 1, 1, 0, 1, 1, 1, 1, 1,\n",
              "       1, 1, 1, 1, 0, 1, 1, 1, 0, 0, 0, 1, 0, 1, 1, 1, 0, 0, 0, 1, 0, 0,\n",
              "       1, 1, 1, 0, 0, 1, 0, 1, 0, 1, 0, 1, 0, 0, 1, 1, 1, 1, 1, 0, 1, 1,\n",
              "       0, 1, 0, 0, 1, 1, 0, 1, 1, 1, 1, 1, 0, 0, 1, 0, 1, 1, 0, 1, 1, 0,\n",
              "       1, 1, 1, 0, 0, 0, 0, 1, 0, 1, 1, 0, 1, 1, 0, 1, 1, 1, 1, 1, 0, 1,\n",
              "       1, 1, 1, 1, 0, 1, 1, 1, 1, 0, 1, 1, 1, 0, 1, 1, 0, 1, 1, 1, 1, 1,\n",
              "       0, 0, 0, 1, 0, 1, 1, 0, 0, 1, 1, 1, 0, 0, 0, 1, 1, 1, 0, 1, 1, 1,\n",
              "       1, 0, 1, 1, 0, 1, 1, 1, 0, 0, 1, 0, 0, 0, 1, 0, 1, 0, 1, 1, 0, 1,\n",
              "       1, 0, 0, 1, 1, 1, 1, 1, 1, 0, 1, 0, 1, 0, 1, 0, 1, 1, 1, 1, 0, 1,\n",
              "       0, 1, 1, 1, 1, 1, 1, 0, 0, 1, 1, 0, 1, 1, 1, 1, 1, 0, 1, 0, 0, 1,\n",
              "       1, 1, 1, 0, 0, 1, 1, 1, 1, 1, 1, 1, 1, 1, 1, 1, 0, 0, 0, 1, 1, 0,\n",
              "       1, 1, 1, 1, 1, 1, 0, 0, 0, 0, 1, 0, 1, 1, 1, 1, 1, 1, 1, 0, 0, 1,\n",
              "       1, 1, 1, 1, 1, 0, 1, 0, 1, 1, 0, 0, 1, 1, 1, 1, 1, 1, 1, 1, 0, 1,\n",
              "       1, 1, 1, 1, 1, 1, 1, 1, 1, 1, 1, 1, 0, 1, 1, 1, 1, 0, 1, 1, 1, 0,\n",
              "       0, 1, 1, 1, 0, 1, 1, 1, 1, 0, 1, 1, 0, 1, 1, 1, 1, 0, 1, 0, 1, 0,\n",
              "       1, 1, 1, 1, 1, 1, 0, 0, 1, 1, 0, 1, 1, 1, 1, 1, 1, 1, 1, 0, 1, 1,\n",
              "       1, 1, 0, 1, 0, 1, 1, 0, 0, 1, 1, 1, 1, 1, 0, 1, 1, 1, 0, 1, 1, 1,\n",
              "       1, 1, 1, 1, 0, 1, 1, 0, 1, 0, 0, 0, 1, 1, 1, 1, 0, 1, 0, 0, 0, 1,\n",
              "       1, 1, 1, 1, 1, 1, 0, 0, 0, 0, 0, 0, 0, 0, 1, 0, 1, 1, 1, 1, 1, 1,\n",
              "       1, 1, 0, 1, 1, 1, 1, 0, 1, 1, 1, 0, 1, 1, 1, 1, 1, 0, 0, 1, 1, 1,\n",
              "       1, 0, 0, 1, 0, 1, 1, 1, 1, 1, 0, 1, 1, 0, 0, 1, 1, 1, 0, 0, 1, 1,\n",
              "       0, 0, 1, 0, 0, 1, 1, 0, 0, 1, 0, 1, 1, 1, 0, 0, 1, 0, 1, 1, 1, 1,\n",
              "       1, 0, 0, 1, 1, 1, 0, 1, 1, 0, 1, 0, 0, 1, 1, 0, 0, 1, 1, 1, 0, 1,\n",
              "       0, 1, 1, 0, 0, 1, 0, 1, 0, 1, 1, 0, 1, 1, 0, 1, 0, 0, 1, 0, 0, 0,\n",
              "       1, 1, 0, 0, 0, 1, 0, 1, 0, 1, 1, 1, 1, 1, 1, 1, 1, 1, 1, 0, 0, 0,\n",
              "       0, 1, 0, 0, 0, 0, 0, 1, 1, 1, 1, 0, 1, 1, 0, 1, 1, 1, 0, 0, 1, 0,\n",
              "       1, 1, 1, 1, 1, 1, 0, 1, 0, 1, 1, 0, 0, 1, 0, 1, 1, 1, 1, 0, 1, 1,\n",
              "       1, 1, 0, 0, 1, 1, 1, 1, 0, 1, 1, 1, 1, 1, 1, 1, 1, 1, 1, 0, 1, 0,\n",
              "       1, 1, 1, 1, 1, 1, 1, 0, 0, 0, 1, 1, 1, 1, 0, 1, 0, 1, 0, 0, 1, 1,\n",
              "       1, 0, 1, 1, 1, 1, 0, 1, 1, 0, 1, 1, 0, 1, 1, 0, 1, 1, 1, 0, 0, 1,\n",
              "       1, 0, 1, 1, 0, 0, 1, 1, 1, 1, 1, 0, 1, 1, 0, 1, 0, 0, 1, 1, 0, 1,\n",
              "       1, 1])"
            ]
          },
          "metadata": {},
          "execution_count": 58
        }
      ]
    },
    {
      "cell_type": "markdown",
      "source": [
        "However, up till the above step, I could not build a LSTM model by using the X_train_vector and the y_train_vector. "
      ],
      "metadata": {
        "id": "s0n1p3k_LUXR"
      }
    }
  ]
}