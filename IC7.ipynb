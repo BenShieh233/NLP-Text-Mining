{
  "nbformat": 4,
  "nbformat_minor": 0,
  "metadata": {
    "colab": {
      "provenance": [],
      "authorship_tag": "ABX9TyMFa/sk65iPLWisdVfTh9Un",
      "include_colab_link": true
    },
    "kernelspec": {
      "name": "python3",
      "display_name": "Python 3"
    },
    "language_info": {
      "name": "python"
    }
  },
  "cells": [
    {
      "cell_type": "markdown",
      "metadata": {
        "id": "view-in-github",
        "colab_type": "text"
      },
      "source": [
        "<a href=\"https://colab.research.google.com/github/BenShieh233/NLP-Text-Mining/blob/main/IC7.ipynb\" target=\"_parent\"><img src=\"https://colab.research.google.com/assets/colab-badge.svg\" alt=\"Open In Colab\"/></a>"
      ]
    },
    {
      "cell_type": "markdown",
      "source": [
        "#Topic Modelling"
      ],
      "metadata": {
        "id": "zNH1t5veGw7Q"
      }
    },
    {
      "cell_type": "code",
      "execution_count": 22,
      "metadata": {
        "colab": {
          "base_uri": "https://localhost:8080/"
        },
        "id": "Apy6yGktDyoQ",
        "outputId": "5fad3676-5632-418e-e803-920bcb1b6f11"
      },
      "outputs": [
        {
          "output_type": "stream",
          "name": "stderr",
          "text": [
            "[nltk_data] Downloading package stopwords to /root/nltk_data...\n",
            "[nltk_data]   Package stopwords is already up-to-date!\n",
            "[nltk_data] Downloading package punkt to /root/nltk_data...\n",
            "[nltk_data]   Package punkt is already up-to-date!\n",
            "[nltk_data] Downloading package wordnet to /root/nltk_data...\n",
            "[nltk_data]   Package wordnet is already up-to-date!\n",
            "[nltk_data] Downloading package omw-1.4 to /root/nltk_data...\n"
          ]
        }
      ],
      "source": [
        "import pandas as pd\n",
        "import re\n",
        "import string\n",
        "import nltk\n",
        "from nltk.tokenize import word_tokenize\n",
        "from nltk.corpus import stopwords\n",
        "from nltk.stem import WordNetLemmatizer\n",
        "nltk.download('stopwords')\n",
        "nltk.download('punkt')\n",
        "nltk.download('wordnet')\n",
        "nltk.download('omw-1.4')\n",
        "\n",
        "from gensim.models import LdaModel\n",
        "from gensim.corpora import Dictionary\n",
        "from pprint import pprint"
      ]
    },
    {
      "cell_type": "code",
      "source": [
        "from google.colab import drive\n",
        "drive.mount('/content/drive')\n",
        "df = pd.read_csv(\"/content/drive/MyDrive/INFOSYS765/yelp_review.csv\")\n",
        "df = df.iloc[:1000] # Keep only the first 1000 rows"
      ],
      "metadata": {
        "colab": {
          "base_uri": "https://localhost:8080/"
        },
        "id": "XrrhfcheFYBg",
        "outputId": "632fc9e4-1ecc-4846-8f2f-0084b8180757"
      },
      "execution_count": 3,
      "outputs": [
        {
          "output_type": "stream",
          "name": "stdout",
          "text": [
            "Drive already mounted at /content/drive; to attempt to forcibly remount, call drive.mount(\"/content/drive\", force_remount=True).\n"
          ]
        }
      ]
    },
    {
      "cell_type": "code",
      "source": [
        "df.head()"
      ],
      "metadata": {
        "colab": {
          "base_uri": "https://localhost:8080/",
          "height": 206
        },
        "id": "ZhZRsjJFKhY2",
        "outputId": "c08253c1-f601-462d-b24a-2295389b8358"
      },
      "execution_count": 4,
      "outputs": [
        {
          "output_type": "execute_result",
          "data": {
            "text/plain": [
              "   stars  useful                                               text  funny  \\\n",
              "0    4.0       0  First time waxing. I read all the other review...      0   \n",
              "1    5.0       0  I love my manicure! Such an affordable place. ...      0   \n",
              "2    4.0       0  Great food, fast service, they try to crank pe...      0   \n",
              "3    1.0       0  Save your money and go across the street the f...      0   \n",
              "4    4.0       0  Oops...this was for the Main St location:\\n\\n-...      0   \n",
              "\n",
              "                review_id  cool                 date                 user_id  \\\n",
              "0  V46usAbOSPIzurZy7DUU5A     0  2016-04-16 13:55:38  rD6noiuiMCcGuq6oPYFJdQ   \n",
              "1  CpNSsju9NFc-Xrpf5Hfqhg     0  2020-01-18 05:32:54  tTsUSklzH1oxPp2usth84A   \n",
              "2  RP7A24xD14Cbegmr1AokNQ     0  2015-01-25 14:49:09  -cnIq2OmV8CleS4bLOvCxQ   \n",
              "3  6a38lS1TjeWMqK-knuNAhA     0  2018-11-06 22:12:14  mzCkRflEka_vezCiBYYWGA   \n",
              "4  Q0QKTuceHzgmFeTtYSTzYg     0  2011-08-19 21:45:31  3zlK9eBVCpRWMPLjtAj6cQ   \n",
              "\n",
              "              business_id  \n",
              "0  b4NaB1u3AwgrhRMKsKgWsA  \n",
              "1  -otKp6RA94dfGsqa5jSDHQ  \n",
              "2  EA10YCkaxzRoCEOB38xv1Q  \n",
              "3  nkqaLepNTSrUYuZkzbBR5A  \n",
              "4  XtFhLvKV46H7a054X2_aFQ  "
            ],
            "text/html": [
              "\n",
              "  <div id=\"df-60dbe5e5-3be8-4150-904a-233b16d24c8d\">\n",
              "    <div class=\"colab-df-container\">\n",
              "      <div>\n",
              "<style scoped>\n",
              "    .dataframe tbody tr th:only-of-type {\n",
              "        vertical-align: middle;\n",
              "    }\n",
              "\n",
              "    .dataframe tbody tr th {\n",
              "        vertical-align: top;\n",
              "    }\n",
              "\n",
              "    .dataframe thead th {\n",
              "        text-align: right;\n",
              "    }\n",
              "</style>\n",
              "<table border=\"1\" class=\"dataframe\">\n",
              "  <thead>\n",
              "    <tr style=\"text-align: right;\">\n",
              "      <th></th>\n",
              "      <th>stars</th>\n",
              "      <th>useful</th>\n",
              "      <th>text</th>\n",
              "      <th>funny</th>\n",
              "      <th>review_id</th>\n",
              "      <th>cool</th>\n",
              "      <th>date</th>\n",
              "      <th>user_id</th>\n",
              "      <th>business_id</th>\n",
              "    </tr>\n",
              "  </thead>\n",
              "  <tbody>\n",
              "    <tr>\n",
              "      <th>0</th>\n",
              "      <td>4.0</td>\n",
              "      <td>0</td>\n",
              "      <td>First time waxing. I read all the other review...</td>\n",
              "      <td>0</td>\n",
              "      <td>V46usAbOSPIzurZy7DUU5A</td>\n",
              "      <td>0</td>\n",
              "      <td>2016-04-16 13:55:38</td>\n",
              "      <td>rD6noiuiMCcGuq6oPYFJdQ</td>\n",
              "      <td>b4NaB1u3AwgrhRMKsKgWsA</td>\n",
              "    </tr>\n",
              "    <tr>\n",
              "      <th>1</th>\n",
              "      <td>5.0</td>\n",
              "      <td>0</td>\n",
              "      <td>I love my manicure! Such an affordable place. ...</td>\n",
              "      <td>0</td>\n",
              "      <td>CpNSsju9NFc-Xrpf5Hfqhg</td>\n",
              "      <td>0</td>\n",
              "      <td>2020-01-18 05:32:54</td>\n",
              "      <td>tTsUSklzH1oxPp2usth84A</td>\n",
              "      <td>-otKp6RA94dfGsqa5jSDHQ</td>\n",
              "    </tr>\n",
              "    <tr>\n",
              "      <th>2</th>\n",
              "      <td>4.0</td>\n",
              "      <td>0</td>\n",
              "      <td>Great food, fast service, they try to crank pe...</td>\n",
              "      <td>0</td>\n",
              "      <td>RP7A24xD14Cbegmr1AokNQ</td>\n",
              "      <td>0</td>\n",
              "      <td>2015-01-25 14:49:09</td>\n",
              "      <td>-cnIq2OmV8CleS4bLOvCxQ</td>\n",
              "      <td>EA10YCkaxzRoCEOB38xv1Q</td>\n",
              "    </tr>\n",
              "    <tr>\n",
              "      <th>3</th>\n",
              "      <td>1.0</td>\n",
              "      <td>0</td>\n",
              "      <td>Save your money and go across the street the f...</td>\n",
              "      <td>0</td>\n",
              "      <td>6a38lS1TjeWMqK-knuNAhA</td>\n",
              "      <td>0</td>\n",
              "      <td>2018-11-06 22:12:14</td>\n",
              "      <td>mzCkRflEka_vezCiBYYWGA</td>\n",
              "      <td>nkqaLepNTSrUYuZkzbBR5A</td>\n",
              "    </tr>\n",
              "    <tr>\n",
              "      <th>4</th>\n",
              "      <td>4.0</td>\n",
              "      <td>0</td>\n",
              "      <td>Oops...this was for the Main St location:\\n\\n-...</td>\n",
              "      <td>0</td>\n",
              "      <td>Q0QKTuceHzgmFeTtYSTzYg</td>\n",
              "      <td>0</td>\n",
              "      <td>2011-08-19 21:45:31</td>\n",
              "      <td>3zlK9eBVCpRWMPLjtAj6cQ</td>\n",
              "      <td>XtFhLvKV46H7a054X2_aFQ</td>\n",
              "    </tr>\n",
              "  </tbody>\n",
              "</table>\n",
              "</div>\n",
              "      <button class=\"colab-df-convert\" onclick=\"convertToInteractive('df-60dbe5e5-3be8-4150-904a-233b16d24c8d')\"\n",
              "              title=\"Convert this dataframe to an interactive table.\"\n",
              "              style=\"display:none;\">\n",
              "        \n",
              "  <svg xmlns=\"http://www.w3.org/2000/svg\" height=\"24px\"viewBox=\"0 0 24 24\"\n",
              "       width=\"24px\">\n",
              "    <path d=\"M0 0h24v24H0V0z\" fill=\"none\"/>\n",
              "    <path d=\"M18.56 5.44l.94 2.06.94-2.06 2.06-.94-2.06-.94-.94-2.06-.94 2.06-2.06.94zm-11 1L8.5 8.5l.94-2.06 2.06-.94-2.06-.94L8.5 2.5l-.94 2.06-2.06.94zm10 10l.94 2.06.94-2.06 2.06-.94-2.06-.94-.94-2.06-.94 2.06-2.06.94z\"/><path d=\"M17.41 7.96l-1.37-1.37c-.4-.4-.92-.59-1.43-.59-.52 0-1.04.2-1.43.59L10.3 9.45l-7.72 7.72c-.78.78-.78 2.05 0 2.83L4 21.41c.39.39.9.59 1.41.59.51 0 1.02-.2 1.41-.59l7.78-7.78 2.81-2.81c.8-.78.8-2.07 0-2.86zM5.41 20L4 18.59l7.72-7.72 1.47 1.35L5.41 20z\"/>\n",
              "  </svg>\n",
              "      </button>\n",
              "      \n",
              "  <style>\n",
              "    .colab-df-container {\n",
              "      display:flex;\n",
              "      flex-wrap:wrap;\n",
              "      gap: 12px;\n",
              "    }\n",
              "\n",
              "    .colab-df-convert {\n",
              "      background-color: #E8F0FE;\n",
              "      border: none;\n",
              "      border-radius: 50%;\n",
              "      cursor: pointer;\n",
              "      display: none;\n",
              "      fill: #1967D2;\n",
              "      height: 32px;\n",
              "      padding: 0 0 0 0;\n",
              "      width: 32px;\n",
              "    }\n",
              "\n",
              "    .colab-df-convert:hover {\n",
              "      background-color: #E2EBFA;\n",
              "      box-shadow: 0px 1px 2px rgba(60, 64, 67, 0.3), 0px 1px 3px 1px rgba(60, 64, 67, 0.15);\n",
              "      fill: #174EA6;\n",
              "    }\n",
              "\n",
              "    [theme=dark] .colab-df-convert {\n",
              "      background-color: #3B4455;\n",
              "      fill: #D2E3FC;\n",
              "    }\n",
              "\n",
              "    [theme=dark] .colab-df-convert:hover {\n",
              "      background-color: #434B5C;\n",
              "      box-shadow: 0px 1px 3px 1px rgba(0, 0, 0, 0.15);\n",
              "      filter: drop-shadow(0px 1px 2px rgba(0, 0, 0, 0.3));\n",
              "      fill: #FFFFFF;\n",
              "    }\n",
              "  </style>\n",
              "\n",
              "      <script>\n",
              "        const buttonEl =\n",
              "          document.querySelector('#df-60dbe5e5-3be8-4150-904a-233b16d24c8d button.colab-df-convert');\n",
              "        buttonEl.style.display =\n",
              "          google.colab.kernel.accessAllowed ? 'block' : 'none';\n",
              "\n",
              "        async function convertToInteractive(key) {\n",
              "          const element = document.querySelector('#df-60dbe5e5-3be8-4150-904a-233b16d24c8d');\n",
              "          const dataTable =\n",
              "            await google.colab.kernel.invokeFunction('convertToInteractive',\n",
              "                                                     [key], {});\n",
              "          if (!dataTable) return;\n",
              "\n",
              "          const docLinkHtml = 'Like what you see? Visit the ' +\n",
              "            '<a target=\"_blank\" href=https://colab.research.google.com/notebooks/data_table.ipynb>data table notebook</a>'\n",
              "            + ' to learn more about interactive tables.';\n",
              "          element.innerHTML = '';\n",
              "          dataTable['output_type'] = 'display_data';\n",
              "          await google.colab.output.renderOutput(dataTable, element);\n",
              "          const docLink = document.createElement('div');\n",
              "          docLink.innerHTML = docLinkHtml;\n",
              "          element.appendChild(docLink);\n",
              "        }\n",
              "      </script>\n",
              "    </div>\n",
              "  </div>\n",
              "  "
            ]
          },
          "metadata": {},
          "execution_count": 4
        }
      ]
    },
    {
      "cell_type": "markdown",
      "source": [
        "### Text preprocessing"
      ],
      "metadata": {
        "id": "e-OZW9QbKu6w"
      }
    },
    {
      "cell_type": "code",
      "source": [
        "stopwords = nltk.corpus.stopwords.words('english')\n",
        "wn = WordNetLemmatizer()\n",
        "\n",
        "def preprocess_text(text):\n",
        "    # Lowercase the text\n",
        "    text = text.lower()\n",
        "    \n",
        "    # Remove punctuation\n",
        "    text = re.sub('[%s]' % re.escape(string.punctuation), '', text)\n",
        "    \n",
        "    # Remove numbers\n",
        "    text = re.sub(r'\\d+', '', text)\n",
        "    \n",
        "    # Tokenize text\n",
        "    tokens = word_tokenize(text)\n",
        "\n",
        "    # Remove stopwords, lemmatize and drop words length < 2\n",
        "    text = [wn.lemmatize(word) for word in tokens if word not in stopwords and len(word) > 2]\n",
        "    \n",
        "    return text"
      ],
      "metadata": {
        "id": "seYTvmLZKizZ"
      },
      "execution_count": 23,
      "outputs": []
    },
    {
      "cell_type": "code",
      "source": [
        "df['processed_summary'] = df['text'].apply(lambda x: preprocess_text(x))"
      ],
      "metadata": {
        "id": "IA1Wn7_VK6F5"
      },
      "execution_count": 24,
      "outputs": []
    },
    {
      "cell_type": "code",
      "source": [
        "df"
      ],
      "metadata": {
        "colab": {
          "base_uri": "https://localhost:8080/",
          "height": 641
        },
        "id": "MsqfEowDLkyG",
        "outputId": "87179800-0e81-4c87-b01d-d9f1c25b7caf"
      },
      "execution_count": 25,
      "outputs": [
        {
          "output_type": "execute_result",
          "data": {
            "text/plain": [
              "     stars  useful                                               text  funny  \\\n",
              "0      4.0       0  First time waxing. I read all the other review...      0   \n",
              "1      5.0       0  I love my manicure! Such an affordable place. ...      0   \n",
              "2      4.0       0  Great food, fast service, they try to crank pe...      0   \n",
              "3      1.0       0  Save your money and go across the street the f...      0   \n",
              "4      4.0       0  Oops...this was for the Main St location:\\n\\n-...      0   \n",
              "..     ...     ...                                                ...    ...   \n",
              "995    5.0       0  Great momos.. chicken momo was amazing.. \\nthe...      0   \n",
              "996    4.0       6  A friend suggested we eat here about a week ag...      5   \n",
              "997    5.0       2  Flip is the bomb! One of my all-time favorite ...      0   \n",
              "998    5.0       0  I went to this barber shop based on the yelp s...      0   \n",
              "999    1.0       7  I went to this place last month by recommendat...      0   \n",
              "\n",
              "                  review_id  cool                 date  \\\n",
              "0    V46usAbOSPIzurZy7DUU5A     0  2016-04-16 13:55:38   \n",
              "1    CpNSsju9NFc-Xrpf5Hfqhg     0  2020-01-18 05:32:54   \n",
              "2    RP7A24xD14Cbegmr1AokNQ     0  2015-01-25 14:49:09   \n",
              "3    6a38lS1TjeWMqK-knuNAhA     0  2018-11-06 22:12:14   \n",
              "4    Q0QKTuceHzgmFeTtYSTzYg     0  2011-08-19 21:45:31   \n",
              "..                      ...   ...                  ...   \n",
              "995  NKjAtoBv2_X5hvqNPFXYow     0  2017-03-19 01:26:22   \n",
              "996  m90725S_BQ0QZf7MG5IMig     3  2014-04-07 21:39:36   \n",
              "997  4I7AKPblHPCHSnGdFM0DAw     0  2013-03-04 05:40:33   \n",
              "998  957Jil3yuVaXFjgyU-_nFw     1  2014-10-09 14:54:41   \n",
              "999  H0SIQekshdTEgO5IAlbTig     0  2019-06-12 15:58:13   \n",
              "\n",
              "                    user_id             business_id  \\\n",
              "0    rD6noiuiMCcGuq6oPYFJdQ  b4NaB1u3AwgrhRMKsKgWsA   \n",
              "1    tTsUSklzH1oxPp2usth84A  -otKp6RA94dfGsqa5jSDHQ   \n",
              "2    -cnIq2OmV8CleS4bLOvCxQ  EA10YCkaxzRoCEOB38xv1Q   \n",
              "3    mzCkRflEka_vezCiBYYWGA  nkqaLepNTSrUYuZkzbBR5A   \n",
              "4    3zlK9eBVCpRWMPLjtAj6cQ  XtFhLvKV46H7a054X2_aFQ   \n",
              "..                      ...                     ...   \n",
              "995  QEzmBdpLMvcDNMEdbepBmg  fTSKD2e4FTyUbHCl93t1ow   \n",
              "996  w9zzMF3Z68omqkDbgsURoQ  JRA9UYISyXgkWzO3YAqNcg   \n",
              "997  1HtGcjZehXY8odctlBSIiQ  TA1KUSCu8GkWP9w0rmElxw   \n",
              "998  JuNeSHwvwFWavIjp4GisrQ  Rq6QSybYpq9j9HUmlyhpEw   \n",
              "999  F4kedCBG2OWogHiq8OomPQ  kZ78bwrRSrI6eCQw5mziRA   \n",
              "\n",
              "                                     processed_summary  \n",
              "0    [first, time, waxing, read, review, decided, t...  \n",
              "1    [love, manicure, affordable, place, manicurist...  \n",
              "2    [great, food, fast, service, try, crank, peopl...  \n",
              "3    [save, money, across, street, food, way, bette...  \n",
              "4    [oopsthis, main, location, visited, aladdin, w...  \n",
              "..                                                 ...  \n",
              "995  [great, momos, chicken, momo, amazing, free, m...  \n",
              "996  [friend, suggested, eat, week, ago, wanted, qu...  \n",
              "997  [flip, bomb, one, alltime, favorite, restauran...  \n",
              "998  [went, barber, shop, based, yelp, suggestion, ...  \n",
              "999  [went, place, last, month, recommendation, bff...  \n",
              "\n",
              "[1000 rows x 10 columns]"
            ],
            "text/html": [
              "\n",
              "  <div id=\"df-30c53e2f-88e9-4ee2-ad70-90d4f594bc0f\">\n",
              "    <div class=\"colab-df-container\">\n",
              "      <div>\n",
              "<style scoped>\n",
              "    .dataframe tbody tr th:only-of-type {\n",
              "        vertical-align: middle;\n",
              "    }\n",
              "\n",
              "    .dataframe tbody tr th {\n",
              "        vertical-align: top;\n",
              "    }\n",
              "\n",
              "    .dataframe thead th {\n",
              "        text-align: right;\n",
              "    }\n",
              "</style>\n",
              "<table border=\"1\" class=\"dataframe\">\n",
              "  <thead>\n",
              "    <tr style=\"text-align: right;\">\n",
              "      <th></th>\n",
              "      <th>stars</th>\n",
              "      <th>useful</th>\n",
              "      <th>text</th>\n",
              "      <th>funny</th>\n",
              "      <th>review_id</th>\n",
              "      <th>cool</th>\n",
              "      <th>date</th>\n",
              "      <th>user_id</th>\n",
              "      <th>business_id</th>\n",
              "      <th>processed_summary</th>\n",
              "    </tr>\n",
              "  </thead>\n",
              "  <tbody>\n",
              "    <tr>\n",
              "      <th>0</th>\n",
              "      <td>4.0</td>\n",
              "      <td>0</td>\n",
              "      <td>First time waxing. I read all the other review...</td>\n",
              "      <td>0</td>\n",
              "      <td>V46usAbOSPIzurZy7DUU5A</td>\n",
              "      <td>0</td>\n",
              "      <td>2016-04-16 13:55:38</td>\n",
              "      <td>rD6noiuiMCcGuq6oPYFJdQ</td>\n",
              "      <td>b4NaB1u3AwgrhRMKsKgWsA</td>\n",
              "      <td>[first, time, waxing, read, review, decided, t...</td>\n",
              "    </tr>\n",
              "    <tr>\n",
              "      <th>1</th>\n",
              "      <td>5.0</td>\n",
              "      <td>0</td>\n",
              "      <td>I love my manicure! Such an affordable place. ...</td>\n",
              "      <td>0</td>\n",
              "      <td>CpNSsju9NFc-Xrpf5Hfqhg</td>\n",
              "      <td>0</td>\n",
              "      <td>2020-01-18 05:32:54</td>\n",
              "      <td>tTsUSklzH1oxPp2usth84A</td>\n",
              "      <td>-otKp6RA94dfGsqa5jSDHQ</td>\n",
              "      <td>[love, manicure, affordable, place, manicurist...</td>\n",
              "    </tr>\n",
              "    <tr>\n",
              "      <th>2</th>\n",
              "      <td>4.0</td>\n",
              "      <td>0</td>\n",
              "      <td>Great food, fast service, they try to crank pe...</td>\n",
              "      <td>0</td>\n",
              "      <td>RP7A24xD14Cbegmr1AokNQ</td>\n",
              "      <td>0</td>\n",
              "      <td>2015-01-25 14:49:09</td>\n",
              "      <td>-cnIq2OmV8CleS4bLOvCxQ</td>\n",
              "      <td>EA10YCkaxzRoCEOB38xv1Q</td>\n",
              "      <td>[great, food, fast, service, try, crank, peopl...</td>\n",
              "    </tr>\n",
              "    <tr>\n",
              "      <th>3</th>\n",
              "      <td>1.0</td>\n",
              "      <td>0</td>\n",
              "      <td>Save your money and go across the street the f...</td>\n",
              "      <td>0</td>\n",
              "      <td>6a38lS1TjeWMqK-knuNAhA</td>\n",
              "      <td>0</td>\n",
              "      <td>2018-11-06 22:12:14</td>\n",
              "      <td>mzCkRflEka_vezCiBYYWGA</td>\n",
              "      <td>nkqaLepNTSrUYuZkzbBR5A</td>\n",
              "      <td>[save, money, across, street, food, way, bette...</td>\n",
              "    </tr>\n",
              "    <tr>\n",
              "      <th>4</th>\n",
              "      <td>4.0</td>\n",
              "      <td>0</td>\n",
              "      <td>Oops...this was for the Main St location:\\n\\n-...</td>\n",
              "      <td>0</td>\n",
              "      <td>Q0QKTuceHzgmFeTtYSTzYg</td>\n",
              "      <td>0</td>\n",
              "      <td>2011-08-19 21:45:31</td>\n",
              "      <td>3zlK9eBVCpRWMPLjtAj6cQ</td>\n",
              "      <td>XtFhLvKV46H7a054X2_aFQ</td>\n",
              "      <td>[oopsthis, main, location, visited, aladdin, w...</td>\n",
              "    </tr>\n",
              "    <tr>\n",
              "      <th>...</th>\n",
              "      <td>...</td>\n",
              "      <td>...</td>\n",
              "      <td>...</td>\n",
              "      <td>...</td>\n",
              "      <td>...</td>\n",
              "      <td>...</td>\n",
              "      <td>...</td>\n",
              "      <td>...</td>\n",
              "      <td>...</td>\n",
              "      <td>...</td>\n",
              "    </tr>\n",
              "    <tr>\n",
              "      <th>995</th>\n",
              "      <td>5.0</td>\n",
              "      <td>0</td>\n",
              "      <td>Great momos.. chicken momo was amazing.. \\nthe...</td>\n",
              "      <td>0</td>\n",
              "      <td>NKjAtoBv2_X5hvqNPFXYow</td>\n",
              "      <td>0</td>\n",
              "      <td>2017-03-19 01:26:22</td>\n",
              "      <td>QEzmBdpLMvcDNMEdbepBmg</td>\n",
              "      <td>fTSKD2e4FTyUbHCl93t1ow</td>\n",
              "      <td>[great, momos, chicken, momo, amazing, free, m...</td>\n",
              "    </tr>\n",
              "    <tr>\n",
              "      <th>996</th>\n",
              "      <td>4.0</td>\n",
              "      <td>6</td>\n",
              "      <td>A friend suggested we eat here about a week ag...</td>\n",
              "      <td>5</td>\n",
              "      <td>m90725S_BQ0QZf7MG5IMig</td>\n",
              "      <td>3</td>\n",
              "      <td>2014-04-07 21:39:36</td>\n",
              "      <td>w9zzMF3Z68omqkDbgsURoQ</td>\n",
              "      <td>JRA9UYISyXgkWzO3YAqNcg</td>\n",
              "      <td>[friend, suggested, eat, week, ago, wanted, qu...</td>\n",
              "    </tr>\n",
              "    <tr>\n",
              "      <th>997</th>\n",
              "      <td>5.0</td>\n",
              "      <td>2</td>\n",
              "      <td>Flip is the bomb! One of my all-time favorite ...</td>\n",
              "      <td>0</td>\n",
              "      <td>4I7AKPblHPCHSnGdFM0DAw</td>\n",
              "      <td>0</td>\n",
              "      <td>2013-03-04 05:40:33</td>\n",
              "      <td>1HtGcjZehXY8odctlBSIiQ</td>\n",
              "      <td>TA1KUSCu8GkWP9w0rmElxw</td>\n",
              "      <td>[flip, bomb, one, alltime, favorite, restauran...</td>\n",
              "    </tr>\n",
              "    <tr>\n",
              "      <th>998</th>\n",
              "      <td>5.0</td>\n",
              "      <td>0</td>\n",
              "      <td>I went to this barber shop based on the yelp s...</td>\n",
              "      <td>0</td>\n",
              "      <td>957Jil3yuVaXFjgyU-_nFw</td>\n",
              "      <td>1</td>\n",
              "      <td>2014-10-09 14:54:41</td>\n",
              "      <td>JuNeSHwvwFWavIjp4GisrQ</td>\n",
              "      <td>Rq6QSybYpq9j9HUmlyhpEw</td>\n",
              "      <td>[went, barber, shop, based, yelp, suggestion, ...</td>\n",
              "    </tr>\n",
              "    <tr>\n",
              "      <th>999</th>\n",
              "      <td>1.0</td>\n",
              "      <td>7</td>\n",
              "      <td>I went to this place last month by recommendat...</td>\n",
              "      <td>0</td>\n",
              "      <td>H0SIQekshdTEgO5IAlbTig</td>\n",
              "      <td>0</td>\n",
              "      <td>2019-06-12 15:58:13</td>\n",
              "      <td>F4kedCBG2OWogHiq8OomPQ</td>\n",
              "      <td>kZ78bwrRSrI6eCQw5mziRA</td>\n",
              "      <td>[went, place, last, month, recommendation, bff...</td>\n",
              "    </tr>\n",
              "  </tbody>\n",
              "</table>\n",
              "<p>1000 rows × 10 columns</p>\n",
              "</div>\n",
              "      <button class=\"colab-df-convert\" onclick=\"convertToInteractive('df-30c53e2f-88e9-4ee2-ad70-90d4f594bc0f')\"\n",
              "              title=\"Convert this dataframe to an interactive table.\"\n",
              "              style=\"display:none;\">\n",
              "        \n",
              "  <svg xmlns=\"http://www.w3.org/2000/svg\" height=\"24px\"viewBox=\"0 0 24 24\"\n",
              "       width=\"24px\">\n",
              "    <path d=\"M0 0h24v24H0V0z\" fill=\"none\"/>\n",
              "    <path d=\"M18.56 5.44l.94 2.06.94-2.06 2.06-.94-2.06-.94-.94-2.06-.94 2.06-2.06.94zm-11 1L8.5 8.5l.94-2.06 2.06-.94-2.06-.94L8.5 2.5l-.94 2.06-2.06.94zm10 10l.94 2.06.94-2.06 2.06-.94-2.06-.94-.94-2.06-.94 2.06-2.06.94z\"/><path d=\"M17.41 7.96l-1.37-1.37c-.4-.4-.92-.59-1.43-.59-.52 0-1.04.2-1.43.59L10.3 9.45l-7.72 7.72c-.78.78-.78 2.05 0 2.83L4 21.41c.39.39.9.59 1.41.59.51 0 1.02-.2 1.41-.59l7.78-7.78 2.81-2.81c.8-.78.8-2.07 0-2.86zM5.41 20L4 18.59l7.72-7.72 1.47 1.35L5.41 20z\"/>\n",
              "  </svg>\n",
              "      </button>\n",
              "      \n",
              "  <style>\n",
              "    .colab-df-container {\n",
              "      display:flex;\n",
              "      flex-wrap:wrap;\n",
              "      gap: 12px;\n",
              "    }\n",
              "\n",
              "    .colab-df-convert {\n",
              "      background-color: #E8F0FE;\n",
              "      border: none;\n",
              "      border-radius: 50%;\n",
              "      cursor: pointer;\n",
              "      display: none;\n",
              "      fill: #1967D2;\n",
              "      height: 32px;\n",
              "      padding: 0 0 0 0;\n",
              "      width: 32px;\n",
              "    }\n",
              "\n",
              "    .colab-df-convert:hover {\n",
              "      background-color: #E2EBFA;\n",
              "      box-shadow: 0px 1px 2px rgba(60, 64, 67, 0.3), 0px 1px 3px 1px rgba(60, 64, 67, 0.15);\n",
              "      fill: #174EA6;\n",
              "    }\n",
              "\n",
              "    [theme=dark] .colab-df-convert {\n",
              "      background-color: #3B4455;\n",
              "      fill: #D2E3FC;\n",
              "    }\n",
              "\n",
              "    [theme=dark] .colab-df-convert:hover {\n",
              "      background-color: #434B5C;\n",
              "      box-shadow: 0px 1px 3px 1px rgba(0, 0, 0, 0.15);\n",
              "      filter: drop-shadow(0px 1px 2px rgba(0, 0, 0, 0.3));\n",
              "      fill: #FFFFFF;\n",
              "    }\n",
              "  </style>\n",
              "\n",
              "      <script>\n",
              "        const buttonEl =\n",
              "          document.querySelector('#df-30c53e2f-88e9-4ee2-ad70-90d4f594bc0f button.colab-df-convert');\n",
              "        buttonEl.style.display =\n",
              "          google.colab.kernel.accessAllowed ? 'block' : 'none';\n",
              "\n",
              "        async function convertToInteractive(key) {\n",
              "          const element = document.querySelector('#df-30c53e2f-88e9-4ee2-ad70-90d4f594bc0f');\n",
              "          const dataTable =\n",
              "            await google.colab.kernel.invokeFunction('convertToInteractive',\n",
              "                                                     [key], {});\n",
              "          if (!dataTable) return;\n",
              "\n",
              "          const docLinkHtml = 'Like what you see? Visit the ' +\n",
              "            '<a target=\"_blank\" href=https://colab.research.google.com/notebooks/data_table.ipynb>data table notebook</a>'\n",
              "            + ' to learn more about interactive tables.';\n",
              "          element.innerHTML = '';\n",
              "          dataTable['output_type'] = 'display_data';\n",
              "          await google.colab.output.renderOutput(dataTable, element);\n",
              "          const docLink = document.createElement('div');\n",
              "          docLink.innerHTML = docLinkHtml;\n",
              "          element.appendChild(docLink);\n",
              "        }\n",
              "      </script>\n",
              "    </div>\n",
              "  </div>\n",
              "  "
            ]
          },
          "metadata": {},
          "execution_count": 25
        }
      ]
    },
    {
      "cell_type": "markdown",
      "source": [
        "### (1) LDA"
      ],
      "metadata": {
        "id": "lMneEDorL4h8"
      }
    },
    {
      "cell_type": "code",
      "source": [
        "import gensim\n",
        "from gensim.utils import simple_preprocess\n",
        "\n",
        "def sent_to_words(sentences):\n",
        "    for sentence in sentences:\n",
        "        yield(gensim.utils.simple_preprocess(str(sentence), deacc=True))  # deacc=True removes punctuations"
      ],
      "metadata": {
        "id": "d1rlQdn2LzJ4"
      },
      "execution_count": 27,
      "outputs": []
    },
    {
      "cell_type": "code",
      "source": [
        "data = df['processed_summary'].values.tolist()"
      ],
      "metadata": {
        "id": "IJmce8JBL3Tf"
      },
      "execution_count": 28,
      "outputs": []
    },
    {
      "cell_type": "code",
      "source": [
        "data_words = list(sent_to_words(data))"
      ],
      "metadata": {
        "id": "57jFWCaHL6yU"
      },
      "execution_count": 29,
      "outputs": []
    },
    {
      "cell_type": "code",
      "source": [
        "import gensim.corpora as corpora\n",
        "\n",
        "# Create Dictionary\n",
        "id2word = corpora.Dictionary(data_words)\n",
        "\n",
        "# Create Corpus\n",
        "texts = data_words\n",
        "\n",
        "# Term Document Frequency\n",
        "corpus = [id2word.doc2bow(text) for text in texts]\n",
        "\n",
        "\n",
        "lda_model = gensim.models.LdaMulticore(corpus=corpus,\n",
        "                                       id2word=id2word,\n",
        "                                       num_topics=5, \n",
        "                                       random_state=100,\n",
        "                                       chunksize=100,\n",
        "                                       passes=10,\n",
        "                                       per_word_topics=True)"
      ],
      "metadata": {
        "id": "GurllRnJL-Zu"
      },
      "execution_count": 31,
      "outputs": []
    },
    {
      "cell_type": "code",
      "source": [
        "for idx in range(5):\n",
        "    print(\"Topic #%s:\" % idx, lda_model.print_topic(idx, 10))\n",
        "print(\"=\" * 20)"
      ],
      "metadata": {
        "colab": {
          "base_uri": "https://localhost:8080/"
        },
        "id": "Dya0slfiboMH",
        "outputId": "d6792cd1-a19c-4ada-d88f-83822d6af6c6"
      },
      "execution_count": 33,
      "outputs": [
        {
          "output_type": "stream",
          "name": "stdout",
          "text": [
            "Topic #0: 0.009*\"burger\" + 0.007*\"coffee\" + 0.005*\"room\" + 0.005*\"great\" + 0.005*\"espresso\" + 0.005*\"much\" + 0.004*\"like\" + 0.004*\"chocolate\" + 0.004*\"class\" + 0.004*\"downtown\"\n",
            "Topic #1: 0.009*\"time\" + 0.008*\"would\" + 0.007*\"back\" + 0.007*\"told\" + 0.007*\"hair\" + 0.006*\"know\" + 0.006*\"didnt\" + 0.006*\"get\" + 0.006*\"said\" + 0.006*\"one\"\n",
            "Topic #2: 0.010*\"day\" + 0.009*\"car\" + 0.009*\"get\" + 0.009*\"service\" + 0.008*\"would\" + 0.007*\"time\" + 0.007*\"back\" + 0.005*\"work\" + 0.005*\"great\" + 0.005*\"could\"\n",
            "Topic #3: 0.007*\"dog\" + 0.006*\"year\" + 0.005*\"day\" + 0.004*\"true\" + 0.004*\"week\" + 0.004*\"flight\" + 0.003*\"one\" + 0.003*\"money\" + 0.003*\"ramen\" + 0.003*\"without\"\n",
            "Topic #4: 0.018*\"food\" + 0.015*\"place\" + 0.015*\"good\" + 0.010*\"great\" + 0.009*\"like\" + 0.008*\"really\" + 0.008*\"one\" + 0.008*\"time\" + 0.007*\"restaurant\" + 0.007*\"service\"\n",
            "====================\n"
          ]
        }
      ]
    },
    {
      "cell_type": "markdown",
      "source": [
        "Topic #0 could be related to food since words like \"burger\", \"coffee\", \"espresso\", and \"chocolate\" are assinged high weights in this class.\n",
        "Topic #1 could be the about comments of the consumers since verbs appear the most frequently in this class.\n",
        "Topic #2 could be about car and service.\n",
        "Topic #3 could be about time since \"year\", \"day\", and \"week\" appear in this class.\n",
        "Topic #4 could be about the sentiments since adjectives including \"good\" and \"great\" appear in this class."
      ],
      "metadata": {
        "id": "vO53FCSAMPnp"
      }
    },
    {
      "cell_type": "markdown",
      "source": [
        "### (2) Perplexity and coherence scores"
      ],
      "metadata": {
        "id": "3aemwBCHNg_2"
      }
    },
    {
      "cell_type": "code",
      "source": [
        "lda_model.log_perplexity(corpus)"
      ],
      "metadata": {
        "colab": {
          "base_uri": "https://localhost:8080/"
        },
        "id": "G5Ehr9Gkb5-p",
        "outputId": "d8329f48-2739-479a-b367-43d4c1e3e713"
      },
      "execution_count": 35,
      "outputs": [
        {
          "output_type": "execute_result",
          "data": {
            "text/plain": [
              "-7.963675561873074"
            ]
          },
          "metadata": {},
          "execution_count": 35
        }
      ]
    },
    {
      "cell_type": "markdown",
      "source": [
        "The perplexity score is -7.963675561873074."
      ],
      "metadata": {
        "id": "NORV8SXLNuCD"
      }
    },
    {
      "cell_type": "code",
      "source": [
        "from gensim.models import CoherenceModel\n",
        "\n",
        "# Compute Coherence Score\n",
        "coherence_model_lda = CoherenceModel(model=lda_model, texts=data_words, dictionary=id2word, coherence='c_v')\n",
        "coherence_lda = coherence_model_lda.get_coherence()\n",
        "print('Coherence Score: ', coherence_lda)"
      ],
      "metadata": {
        "colab": {
          "base_uri": "https://localhost:8080/"
        },
        "id": "SqeAhTtMa4-B",
        "outputId": "bdab82f1-0d26-41ea-caba-f5da96330119"
      },
      "execution_count": 36,
      "outputs": [
        {
          "output_type": "stream",
          "name": "stdout",
          "text": [
            "Coherence Score:  0.3696401050380394\n"
          ]
        }
      ]
    },
    {
      "cell_type": "markdown",
      "source": [
        "The coherence score is 0.3696401050380394."
      ],
      "metadata": {
        "id": "4BQa5_avNzlj"
      }
    },
    {
      "cell_type": "markdown",
      "source": [
        "### (3) Modify the LDA model by setting the number of topics from two to ten."
      ],
      "metadata": {
        "id": "qI9I8O2UN-wx"
      }
    },
    {
      "cell_type": "code",
      "source": [
        "# supporting function\n",
        "def compute_coherence_values(corpus, dictionary, k, a, b):\n",
        "    \n",
        "    lda_model = gensim.models.LdaMulticore(corpus=corpus,\n",
        "                                           id2word=dictionary,\n",
        "                                           num_topics=k, \n",
        "                                           random_state=100,\n",
        "                                           chunksize=100,\n",
        "                                           passes=10,\n",
        "                                           alpha=a,\n",
        "                                           eta=b)\n",
        "    \n",
        "    coherence_model_lda = CoherenceModel(model=lda_model, texts=data_words, dictionary=id2word, coherence='c_v')\n",
        "    \n",
        "    return coherence_model_lda.get_coherence()"
      ],
      "metadata": {
        "id": "xxzZ0bbAcIwW"
      },
      "execution_count": 37,
      "outputs": []
    },
    {
      "cell_type": "code",
      "source": [
        "import numpy as np\n",
        "import tqdm\n",
        "\n",
        "grid = {}\n",
        "grid['Validation_Set'] = {}\n",
        "\n",
        "# Topics range: Number of Topics (K)\n",
        "min_topics = 2\n",
        "max_topics = 11\n",
        "step_size = 1\n",
        "topics_range = range(min_topics, max_topics, step_size)\n",
        "\n",
        "# Alpha parameter: Dirichlet hyperparameter alpha: Document-Topic Density\n",
        "alpha = [0.01]\n",
        "'''\n",
        "alpha = list(np.arange(0.01, 1, 0.3))\n",
        "alpha.append('symmetric')\n",
        "alpha.append('asymmetric')\n",
        "'''\n",
        "\n",
        "# Beta parameter: Dirichlet hyperparameter beta: Word-Topic Density\n",
        "beta = [0.1]\n",
        "'''\n",
        "beta = list(np.arange(0.01, 1, 0.3))\n",
        "beta.append('symmetric')\n",
        "'''\n",
        "\n",
        "# Validation sets\n",
        "num_of_docs = len(corpus)\n",
        "corpus_sets = [gensim.utils.ClippedCorpus(corpus, int(num_of_docs*0.75)), \n",
        "               corpus]\n",
        "\n",
        "corpus_title = ['75% Corpus', '100% Corpus']\n",
        "\n",
        "model_results = {'Validation_Set': [],\n",
        "                 'Topics': [],\n",
        "                 'Alpha': [],\n",
        "                 'Beta': [],\n",
        "                 'Coherence': []\n",
        "                }\n",
        "\n",
        "# Can take a long time to run\n",
        "if 1 == 1:\n",
        "    pbar = tqdm.tqdm(total=(len(beta)*len(alpha)*len(topics_range)*len(corpus_title)))\n",
        "    \n",
        "    # iterate through validation corpuses\n",
        "    for i in range(len(corpus_sets)):\n",
        "        # iterate through number of topics\n",
        "        for k in topics_range:\n",
        "            # iterate through alpha values\n",
        "            for a in alpha:\n",
        "                # iterare through beta values\n",
        "                for b in beta:\n",
        "                    # get the coherence score for the given parameters\n",
        "                    cv = compute_coherence_values(corpus=corpus_sets[i], dictionary=id2word, \n",
        "                                                  k=k, a=a, b=b)\n",
        "                    # Save the model results\n",
        "                    model_results['Validation_Set'].append(corpus_title[i])\n",
        "                    model_results['Topics'].append(k)\n",
        "                    model_results['Alpha'].append(a)\n",
        "                    model_results['Beta'].append(b)\n",
        "                    model_results['Coherence'].append(cv)\n",
        "                    \n",
        "                    pbar.update(1)\n",
        "    pbar.close()"
      ],
      "metadata": {
        "colab": {
          "base_uri": "https://localhost:8080/"
        },
        "id": "HhmX3gf4b9wu",
        "outputId": "4a024811-f57a-48e1-88ca-48ec60638fe0"
      },
      "execution_count": 38,
      "outputs": [
        {
          "output_type": "stream",
          "name": "stderr",
          "text": [
            "100%|██████████| 18/18 [03:02<00:00, 10.14s/it]\n"
          ]
        }
      ]
    },
    {
      "cell_type": "code",
      "source": [
        "model_results = pd.DataFrame(model_results)\n",
        "model_results"
      ],
      "metadata": {
        "colab": {
          "base_uri": "https://localhost:8080/",
          "height": 613
        },
        "id": "wTdaqgRighcq",
        "outputId": "9eb52424-a93b-4cd8-fa9f-62724e1d9800"
      },
      "execution_count": 39,
      "outputs": [
        {
          "output_type": "execute_result",
          "data": {
            "text/plain": [
              "   Validation_Set  Topics  Alpha  Beta  Coherence\n",
              "0      75% Corpus       2   0.01   0.1   0.328279\n",
              "1      75% Corpus       3   0.01   0.1   0.292417\n",
              "2      75% Corpus       4   0.01   0.1   0.298977\n",
              "3      75% Corpus       5   0.01   0.1   0.279169\n",
              "4      75% Corpus       6   0.01   0.1   0.331522\n",
              "5      75% Corpus       7   0.01   0.1   0.313172\n",
              "6      75% Corpus       8   0.01   0.1   0.382199\n",
              "7      75% Corpus       9   0.01   0.1   0.356543\n",
              "8      75% Corpus      10   0.01   0.1   0.349939\n",
              "9     100% Corpus       2   0.01   0.1   0.335890\n",
              "10    100% Corpus       3   0.01   0.1   0.317652\n",
              "11    100% Corpus       4   0.01   0.1   0.349078\n",
              "12    100% Corpus       5   0.01   0.1   0.311467\n",
              "13    100% Corpus       6   0.01   0.1   0.366404\n",
              "14    100% Corpus       7   0.01   0.1   0.359368\n",
              "15    100% Corpus       8   0.01   0.1   0.425878\n",
              "16    100% Corpus       9   0.01   0.1   0.393935\n",
              "17    100% Corpus      10   0.01   0.1   0.404666"
            ],
            "text/html": [
              "\n",
              "  <div id=\"df-3c48e5bf-9aad-48a0-962a-ffaeaeb822df\">\n",
              "    <div class=\"colab-df-container\">\n",
              "      <div>\n",
              "<style scoped>\n",
              "    .dataframe tbody tr th:only-of-type {\n",
              "        vertical-align: middle;\n",
              "    }\n",
              "\n",
              "    .dataframe tbody tr th {\n",
              "        vertical-align: top;\n",
              "    }\n",
              "\n",
              "    .dataframe thead th {\n",
              "        text-align: right;\n",
              "    }\n",
              "</style>\n",
              "<table border=\"1\" class=\"dataframe\">\n",
              "  <thead>\n",
              "    <tr style=\"text-align: right;\">\n",
              "      <th></th>\n",
              "      <th>Validation_Set</th>\n",
              "      <th>Topics</th>\n",
              "      <th>Alpha</th>\n",
              "      <th>Beta</th>\n",
              "      <th>Coherence</th>\n",
              "    </tr>\n",
              "  </thead>\n",
              "  <tbody>\n",
              "    <tr>\n",
              "      <th>0</th>\n",
              "      <td>75% Corpus</td>\n",
              "      <td>2</td>\n",
              "      <td>0.01</td>\n",
              "      <td>0.1</td>\n",
              "      <td>0.328279</td>\n",
              "    </tr>\n",
              "    <tr>\n",
              "      <th>1</th>\n",
              "      <td>75% Corpus</td>\n",
              "      <td>3</td>\n",
              "      <td>0.01</td>\n",
              "      <td>0.1</td>\n",
              "      <td>0.292417</td>\n",
              "    </tr>\n",
              "    <tr>\n",
              "      <th>2</th>\n",
              "      <td>75% Corpus</td>\n",
              "      <td>4</td>\n",
              "      <td>0.01</td>\n",
              "      <td>0.1</td>\n",
              "      <td>0.298977</td>\n",
              "    </tr>\n",
              "    <tr>\n",
              "      <th>3</th>\n",
              "      <td>75% Corpus</td>\n",
              "      <td>5</td>\n",
              "      <td>0.01</td>\n",
              "      <td>0.1</td>\n",
              "      <td>0.279169</td>\n",
              "    </tr>\n",
              "    <tr>\n",
              "      <th>4</th>\n",
              "      <td>75% Corpus</td>\n",
              "      <td>6</td>\n",
              "      <td>0.01</td>\n",
              "      <td>0.1</td>\n",
              "      <td>0.331522</td>\n",
              "    </tr>\n",
              "    <tr>\n",
              "      <th>5</th>\n",
              "      <td>75% Corpus</td>\n",
              "      <td>7</td>\n",
              "      <td>0.01</td>\n",
              "      <td>0.1</td>\n",
              "      <td>0.313172</td>\n",
              "    </tr>\n",
              "    <tr>\n",
              "      <th>6</th>\n",
              "      <td>75% Corpus</td>\n",
              "      <td>8</td>\n",
              "      <td>0.01</td>\n",
              "      <td>0.1</td>\n",
              "      <td>0.382199</td>\n",
              "    </tr>\n",
              "    <tr>\n",
              "      <th>7</th>\n",
              "      <td>75% Corpus</td>\n",
              "      <td>9</td>\n",
              "      <td>0.01</td>\n",
              "      <td>0.1</td>\n",
              "      <td>0.356543</td>\n",
              "    </tr>\n",
              "    <tr>\n",
              "      <th>8</th>\n",
              "      <td>75% Corpus</td>\n",
              "      <td>10</td>\n",
              "      <td>0.01</td>\n",
              "      <td>0.1</td>\n",
              "      <td>0.349939</td>\n",
              "    </tr>\n",
              "    <tr>\n",
              "      <th>9</th>\n",
              "      <td>100% Corpus</td>\n",
              "      <td>2</td>\n",
              "      <td>0.01</td>\n",
              "      <td>0.1</td>\n",
              "      <td>0.335890</td>\n",
              "    </tr>\n",
              "    <tr>\n",
              "      <th>10</th>\n",
              "      <td>100% Corpus</td>\n",
              "      <td>3</td>\n",
              "      <td>0.01</td>\n",
              "      <td>0.1</td>\n",
              "      <td>0.317652</td>\n",
              "    </tr>\n",
              "    <tr>\n",
              "      <th>11</th>\n",
              "      <td>100% Corpus</td>\n",
              "      <td>4</td>\n",
              "      <td>0.01</td>\n",
              "      <td>0.1</td>\n",
              "      <td>0.349078</td>\n",
              "    </tr>\n",
              "    <tr>\n",
              "      <th>12</th>\n",
              "      <td>100% Corpus</td>\n",
              "      <td>5</td>\n",
              "      <td>0.01</td>\n",
              "      <td>0.1</td>\n",
              "      <td>0.311467</td>\n",
              "    </tr>\n",
              "    <tr>\n",
              "      <th>13</th>\n",
              "      <td>100% Corpus</td>\n",
              "      <td>6</td>\n",
              "      <td>0.01</td>\n",
              "      <td>0.1</td>\n",
              "      <td>0.366404</td>\n",
              "    </tr>\n",
              "    <tr>\n",
              "      <th>14</th>\n",
              "      <td>100% Corpus</td>\n",
              "      <td>7</td>\n",
              "      <td>0.01</td>\n",
              "      <td>0.1</td>\n",
              "      <td>0.359368</td>\n",
              "    </tr>\n",
              "    <tr>\n",
              "      <th>15</th>\n",
              "      <td>100% Corpus</td>\n",
              "      <td>8</td>\n",
              "      <td>0.01</td>\n",
              "      <td>0.1</td>\n",
              "      <td>0.425878</td>\n",
              "    </tr>\n",
              "    <tr>\n",
              "      <th>16</th>\n",
              "      <td>100% Corpus</td>\n",
              "      <td>9</td>\n",
              "      <td>0.01</td>\n",
              "      <td>0.1</td>\n",
              "      <td>0.393935</td>\n",
              "    </tr>\n",
              "    <tr>\n",
              "      <th>17</th>\n",
              "      <td>100% Corpus</td>\n",
              "      <td>10</td>\n",
              "      <td>0.01</td>\n",
              "      <td>0.1</td>\n",
              "      <td>0.404666</td>\n",
              "    </tr>\n",
              "  </tbody>\n",
              "</table>\n",
              "</div>\n",
              "      <button class=\"colab-df-convert\" onclick=\"convertToInteractive('df-3c48e5bf-9aad-48a0-962a-ffaeaeb822df')\"\n",
              "              title=\"Convert this dataframe to an interactive table.\"\n",
              "              style=\"display:none;\">\n",
              "        \n",
              "  <svg xmlns=\"http://www.w3.org/2000/svg\" height=\"24px\"viewBox=\"0 0 24 24\"\n",
              "       width=\"24px\">\n",
              "    <path d=\"M0 0h24v24H0V0z\" fill=\"none\"/>\n",
              "    <path d=\"M18.56 5.44l.94 2.06.94-2.06 2.06-.94-2.06-.94-.94-2.06-.94 2.06-2.06.94zm-11 1L8.5 8.5l.94-2.06 2.06-.94-2.06-.94L8.5 2.5l-.94 2.06-2.06.94zm10 10l.94 2.06.94-2.06 2.06-.94-2.06-.94-.94-2.06-.94 2.06-2.06.94z\"/><path d=\"M17.41 7.96l-1.37-1.37c-.4-.4-.92-.59-1.43-.59-.52 0-1.04.2-1.43.59L10.3 9.45l-7.72 7.72c-.78.78-.78 2.05 0 2.83L4 21.41c.39.39.9.59 1.41.59.51 0 1.02-.2 1.41-.59l7.78-7.78 2.81-2.81c.8-.78.8-2.07 0-2.86zM5.41 20L4 18.59l7.72-7.72 1.47 1.35L5.41 20z\"/>\n",
              "  </svg>\n",
              "      </button>\n",
              "      \n",
              "  <style>\n",
              "    .colab-df-container {\n",
              "      display:flex;\n",
              "      flex-wrap:wrap;\n",
              "      gap: 12px;\n",
              "    }\n",
              "\n",
              "    .colab-df-convert {\n",
              "      background-color: #E8F0FE;\n",
              "      border: none;\n",
              "      border-radius: 50%;\n",
              "      cursor: pointer;\n",
              "      display: none;\n",
              "      fill: #1967D2;\n",
              "      height: 32px;\n",
              "      padding: 0 0 0 0;\n",
              "      width: 32px;\n",
              "    }\n",
              "\n",
              "    .colab-df-convert:hover {\n",
              "      background-color: #E2EBFA;\n",
              "      box-shadow: 0px 1px 2px rgba(60, 64, 67, 0.3), 0px 1px 3px 1px rgba(60, 64, 67, 0.15);\n",
              "      fill: #174EA6;\n",
              "    }\n",
              "\n",
              "    [theme=dark] .colab-df-convert {\n",
              "      background-color: #3B4455;\n",
              "      fill: #D2E3FC;\n",
              "    }\n",
              "\n",
              "    [theme=dark] .colab-df-convert:hover {\n",
              "      background-color: #434B5C;\n",
              "      box-shadow: 0px 1px 3px 1px rgba(0, 0, 0, 0.15);\n",
              "      filter: drop-shadow(0px 1px 2px rgba(0, 0, 0, 0.3));\n",
              "      fill: #FFFFFF;\n",
              "    }\n",
              "  </style>\n",
              "\n",
              "      <script>\n",
              "        const buttonEl =\n",
              "          document.querySelector('#df-3c48e5bf-9aad-48a0-962a-ffaeaeb822df button.colab-df-convert');\n",
              "        buttonEl.style.display =\n",
              "          google.colab.kernel.accessAllowed ? 'block' : 'none';\n",
              "\n",
              "        async function convertToInteractive(key) {\n",
              "          const element = document.querySelector('#df-3c48e5bf-9aad-48a0-962a-ffaeaeb822df');\n",
              "          const dataTable =\n",
              "            await google.colab.kernel.invokeFunction('convertToInteractive',\n",
              "                                                     [key], {});\n",
              "          if (!dataTable) return;\n",
              "\n",
              "          const docLinkHtml = 'Like what you see? Visit the ' +\n",
              "            '<a target=\"_blank\" href=https://colab.research.google.com/notebooks/data_table.ipynb>data table notebook</a>'\n",
              "            + ' to learn more about interactive tables.';\n",
              "          element.innerHTML = '';\n",
              "          dataTable['output_type'] = 'display_data';\n",
              "          await google.colab.output.renderOutput(dataTable, element);\n",
              "          const docLink = document.createElement('div');\n",
              "          docLink.innerHTML = docLinkHtml;\n",
              "          element.appendChild(docLink);\n",
              "        }\n",
              "      </script>\n",
              "    </div>\n",
              "  </div>\n",
              "  "
            ]
          },
          "metadata": {},
          "execution_count": 39
        }
      ]
    },
    {
      "cell_type": "markdown",
      "source": [
        "Therefore, we obtain the highest coherence score, 0.425878, when their is a 100% validation set and 8 topics in total."
      ],
      "metadata": {
        "id": "HirVy_H1Ppmk"
      }
    },
    {
      "cell_type": "code",
      "source": [
        "df1 = model_results[model_results['Validation_Set'] == \"100% Corpus\"]\n",
        "x_values = df1['Topics'].values.tolist()\n",
        "y_values = df1['Coherence'].values.tolist()"
      ],
      "metadata": {
        "id": "FS7R-ugrh-GJ"
      },
      "execution_count": 42,
      "outputs": []
    },
    {
      "cell_type": "code",
      "source": [
        "import matplotlib.pyplot as plt\n",
        "\n",
        "plt.plot(x_values, y_values, 'b', label=\"Coherence Score\")\n",
        "plt.ylabel('Coherence Score')\n",
        "plt.xlabel('no. topics')\n",
        "plt.legend()\n",
        "plt.show()"
      ],
      "metadata": {
        "colab": {
          "base_uri": "https://localhost:8080/",
          "height": 279
        },
        "id": "MyvTN0pyg1Om",
        "outputId": "73c86305-45fb-4102-fbd3-3224bc20eb48"
      },
      "execution_count": 43,
      "outputs": [
        {
          "output_type": "display_data",
          "data": {
            "text/plain": [
              "<Figure size 432x288 with 1 Axes>"
            ],
            "image/png": "[encoded data removed]"
          },
          "metadata": {
            "needs_background": "light"
          }
        }
      ]
    },
    {
      "cell_type": "markdown",
      "source": [
        "### (4) Optimal value and comparison"
      ],
      "metadata": {
        "id": "_VaiU9aLSRPf"
      }
    },
    {
      "cell_type": "code",
      "source": [
        "lda_model = gensim.models.LdaMulticore(corpus=corpus,\n",
        "                                       id2word=id2word,\n",
        "                                       num_topics=8, \n",
        "                                       random_state=100,\n",
        "                                       chunksize=100,\n",
        "                                       passes=10,\n",
        "                                       per_word_topics=True)"
      ],
      "metadata": {
        "id": "Vrlr8i2cQEKV"
      },
      "execution_count": 44,
      "outputs": []
    },
    {
      "cell_type": "code",
      "source": [
        "for idx in range(8):\n",
        "    print(\"Topic #%s:\" % idx, lda_model.print_topic(idx, 10))\n",
        "print(\"=\" * 20)"
      ],
      "metadata": {
        "colab": {
          "base_uri": "https://localhost:8080/"
        },
        "id": "_rUSfguUQLXk",
        "outputId": "bfce2a22-5523-475c-d87c-f336f85093a5"
      },
      "execution_count": 45,
      "outputs": [
        {
          "output_type": "stream",
          "name": "stdout",
          "text": [
            "Topic #0: 0.014*\"good\" + 0.011*\"chicken\" + 0.011*\"sauce\" + 0.011*\"pork\" + 0.011*\"noodle\" + 0.010*\"flavor\" + 0.009*\"beef\" + 0.009*\"food\" + 0.009*\"burger\" + 0.007*\"fried\"\n",
            "Topic #1: 0.010*\"location\" + 0.010*\"bacon\" + 0.006*\"closing\" + 0.005*\"social\" + 0.005*\"customer\" + 0.005*\"wouldve\" + 0.005*\"said\" + 0.004*\"answer\" + 0.004*\"screen\" + 0.004*\"flower\"\n",
            "Topic #2: 0.028*\"car\" + 0.009*\"brake\" + 0.007*\"team\" + 0.005*\"smell\" + 0.005*\"drove\" + 0.005*\"information\" + 0.005*\"milk\" + 0.004*\"problem\" + 0.004*\"found\" + 0.004*\"waste\"\n",
            "Topic #3: 0.008*\"healthy\" + 0.007*\"board\" + 0.006*\"thou\" + 0.006*\"dollar\" + 0.006*\"low\" + 0.006*\"lie\" + 0.006*\"wear\" + 0.005*\"sister\" + 0.004*\"creative\" + 0.004*\"vegan\"\n",
            "Topic #4: 0.021*\"food\" + 0.019*\"good\" + 0.014*\"place\" + 0.014*\"great\" + 0.010*\"chicken\" + 0.010*\"best\" + 0.009*\"service\" + 0.009*\"time\" + 0.008*\"delicious\" + 0.008*\"restaurant\"\n",
            "Topic #5: 0.013*\"day\" + 0.010*\"room\" + 0.009*\"car\" + 0.008*\"work\" + 0.008*\"nail\" + 0.006*\"class\" + 0.005*\"would\" + 0.005*\"company\" + 0.005*\"done\" + 0.005*\"year\"\n",
            "Topic #6: 0.011*\"best\" + 0.008*\"coffee\" + 0.008*\"espresso\" + 0.007*\"new\" + 0.006*\"fun\" + 0.006*\"idea\" + 0.005*\"location\" + 0.005*\"training\" + 0.005*\"suggest\" + 0.005*\"indian\"\n",
            "Topic #7: 0.012*\"place\" + 0.011*\"get\" + 0.010*\"time\" + 0.009*\"one\" + 0.009*\"food\" + 0.009*\"great\" + 0.009*\"would\" + 0.008*\"back\" + 0.008*\"like\" + 0.007*\"service\"\n",
            "====================\n"
          ]
        }
      ]
    },
    {
      "cell_type": "markdown",
      "source": [
        "I can see that Topic #0 contains food and intuitively it can be view as the food topic, which is also included in the clusters in IC5.\n",
        "Also, Topic #4 is quite similar with the \"feedback\" cluster in IC5, since \"good\", \"great\", \"service\" and \"delicious\" are involved in this cluster. However, there are also different topics by these two methods. For example, Topic #3 could be the class of category of food, which does not appear in the clusters in IC5. The same happen to Topic #6, which is possibly the class of drink (coffee). I think LDA is more effective in revealing the underlying topics of the studied data, since each document could involves different topics. Under such a context, LDA based on likelihood of topics are more general than clustering."
      ],
      "metadata": {
        "id": "gWBGG_wnQXL2"
      }
    },
    {
      "cell_type": "markdown",
      "source": [
        "### (5) Briefly discuss the similarity and differences between text clustering and topic modeling."
      ],
      "metadata": {
        "id": "slAfy0bXSItQ"
      }
    },
    {
      "cell_type": "markdown",
      "source": [
        "Firslty, both topic modeling and text clustering are unsupervised learning algorithms, where we need to decide a parameter K that represents the number of topics. However, topic modeling such as LDA assigns a document to a mixture of topics and calculates the probability of which topic the document belongs to. On the other side, text clustering partitions the N documents in K disjoint clusters. "
      ],
      "metadata": {
        "id": "PTG716vASbgN"
      }
    }
  ]
}