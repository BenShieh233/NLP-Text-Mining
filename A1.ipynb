{
  "nbformat": 4,
  "nbformat_minor": 0,
  "metadata": {
    "colab": {
      "provenance": [],
      "collapsed_sections": [
        "s7PyIpTL5-wK",
        "7JAKhiWmCtr_",
        "UfwEQAZBC5eK",
        "7HyHlYvFQz_O",
        "7DtY2sO2jZI1",
        "t7BjMkq7ymiq",
        "MoI0RbLzys_9"
      ],
      "authorship_tag": "ABX9TyNnFDXCQb+U0jpn1Tm34vAP",
      "include_colab_link": true
    },
    "kernelspec": {
      "name": "python3",
      "display_name": "Python 3"
    },
    "language_info": {
      "name": "python"
    }
  },
  "cells": [
    {
      "cell_type": "markdown",
      "metadata": {
        "id": "view-in-github",
        "colab_type": "text"
      },
      "source": [
        "<a href=\"https://colab.research.google.com/github/BenShieh233/NLP-Text-Mining/blob/main/A1.ipynb\" target=\"_parent\"><img src=\"https://colab.research.google.com/assets/colab-badge.svg\" alt=\"Open In Colab\"/></a>"
      ]
    },
    {
      "cell_type": "markdown",
      "source": [
        "### 1.Import Libraries"
      ],
      "metadata": {
        "id": "s7PyIpTL5-wK"
      }
    },
    {
      "cell_type": "code",
      "execution_count": 2,
      "metadata": {
        "colab": {
          "base_uri": "https://localhost:8080/"
        },
        "id": "Up0egQQKybdq",
        "outputId": "2a0be04a-72da-455b-9978-e832fc47acd5"
      },
      "outputs": [
        {
          "output_type": "stream",
          "name": "stderr",
          "text": [
            "[nltk_data] Downloading package stopwords to /root/nltk_data...\n",
            "[nltk_data]   Package stopwords is already up-to-date!\n",
            "[nltk_data] Downloading package wordnet to /root/nltk_data...\n",
            "[nltk_data]   Package wordnet is already up-to-date!\n"
          ]
        }
      ],
      "source": [
        "import warnings\n",
        "warnings.filterwarnings('ignore')\n",
        "import pandas as pd\n",
        "import numpy as np\n",
        "\n",
        "import string\n",
        "import re\n",
        "\n",
        "import nltk\n",
        "\n",
        "nltk.download('stopwords')\n",
        "from nltk.stem import WordNetLemmatizer\n",
        "nltk.download('wordnet')\n",
        "from nltk.stem import PorterStemmer\n",
        "\n",
        "from sklearn.feature_extraction import _stop_words\n",
        "\n",
        "# matplotlib imports are used to plot confusion matrices for the classifiers\n",
        "import matplotlib as mpl \n",
        "import matplotlib.cm as cm \n",
        "import matplotlib.pyplot as plt \n",
        "\n",
        "# import feature extraction methods from sklearn\n",
        "from sklearn.feature_extraction.text import CountVectorizer\n",
        "from sklearn.feature_extraction import _stop_words\n",
        "\n",
        "# pre-processing of text\n",
        "import string\n",
        "import re\n",
        "\n",
        "# import classifiers from sklearn\n",
        "from sklearn.naive_bayes import MultinomialNB\n",
        "from sklearn.linear_model import LogisticRegression\n",
        "from sklearn.svm import LinearSVC\n",
        "\n",
        "# import different metrics to evaluate the classifiers\n",
        "from sklearn.metrics import accuracy_score\n",
        "from sklearn import metrics\n",
        "\n",
        "# from sklearn.model_selection import train_test_split\n",
        "from sklearn.metrics import confusion_matrix \n",
        "from sklearn import metrics\n",
        "\n",
        "# import time function from time module to track the training duration\n",
        "from time import time"
      ]
    },
    {
      "cell_type": "code",
      "source": [
        "from google.colab import drive\n",
        "drive.mount('/content/drive')"
      ],
      "metadata": {
        "colab": {
          "base_uri": "https://localhost:8080/"
        },
        "id": "tI9zVurW6IxG",
        "outputId": "3daa4d10-20c3-439a-de4f-bbef931241ac"
      },
      "execution_count": 3,
      "outputs": [
        {
          "output_type": "stream",
          "name": "stdout",
          "text": [
            "Drive already mounted at /content/drive; to attempt to forcibly remount, call drive.mount(\"/content/drive\", force_remount=True).\n"
          ]
        }
      ]
    },
    {
      "cell_type": "code",
      "source": [
        "df = pd.read_csv(\"/content/drive/MyDrive/INFOSYS765/covid_tweets.csv\", encoding=\"utf-8\")\n",
        "df"
      ],
      "metadata": {
        "colab": {
          "base_uri": "https://localhost:8080/",
          "height": 0
        },
        "id": "JSl_iVAbCVP7",
        "outputId": "71248acf-a3a8-4f4f-892d-1d6d92c84743"
      },
      "execution_count": 4,
      "outputs": [
        {
          "output_type": "execute_result",
          "data": {
            "text/plain": [
              "       UserName  ScreenName                      Location     TweetAt  \\\n",
              "0          3799       48751                        London  16-03-2020   \n",
              "1          3800       48752                            UK  16-03-2020   \n",
              "2          3801       48753                     Vagabonds  16-03-2020   \n",
              "3          3802       48754                           NaN  16-03-2020   \n",
              "4          3803       48755                           NaN  16-03-2020   \n",
              "...         ...         ...                           ...         ...   \n",
              "41152     44951       89903  Wellington City, New Zealand  14-04-2020   \n",
              "41153     44952       89904                           NaN  14-04-2020   \n",
              "41154     44953       89905                           NaN  14-04-2020   \n",
              "41155     44954       89906                           NaN  14-04-2020   \n",
              "41156     44955       89907  i love you so much || he/him  14-04-2020   \n",
              "\n",
              "                                           OriginalTweet           Sentiment  \n",
              "0      @MeNyrbie @Phil_Gahan @Chrisitv https://t.co/i...             Neutral  \n",
              "1      advice Talk to your neighbours family to excha...            Positive  \n",
              "2      Coronavirus Australia: Woolworths to give elde...            Positive  \n",
              "3      My food stock is not the only one which is emp...            Positive  \n",
              "4      Me, ready to go at supermarket during the #COV...  Extremely Negative  \n",
              "...                                                  ...                 ...  \n",
              "41152  Airline pilots offering to stock supermarket s...             Neutral  \n",
              "41153  Response to complaint not provided citing COVI...  Extremely Negative  \n",
              "41154  You know itÂ’s getting tough when @KameronWild...            Positive  \n",
              "41155  Is it wrong that the smell of hand sanitizer i...             Neutral  \n",
              "41156  @TartiiCat Well new/used Rift S are going for ...            Negative  \n",
              "\n",
              "[41157 rows x 6 columns]"
            ],
            "text/html": [
              "\n",
              "  <div id=\"df-af2ad8d2-d567-487d-99e4-26dbbc3cd583\">\n",
              "    <div class=\"colab-df-container\">\n",
              "      <div>\n",
              "<style scoped>\n",
              "    .dataframe tbody tr th:only-of-type {\n",
              "        vertical-align: middle;\n",
              "    }\n",
              "\n",
              "    .dataframe tbody tr th {\n",
              "        vertical-align: top;\n",
              "    }\n",
              "\n",
              "    .dataframe thead th {\n",
              "        text-align: right;\n",
              "    }\n",
              "</style>\n",
              "<table border=\"1\" class=\"dataframe\">\n",
              "  <thead>\n",
              "    <tr style=\"text-align: right;\">\n",
              "      <th></th>\n",
              "      <th>UserName</th>\n",
              "      <th>ScreenName</th>\n",
              "      <th>Location</th>\n",
              "      <th>TweetAt</th>\n",
              "      <th>OriginalTweet</th>\n",
              "      <th>Sentiment</th>\n",
              "    </tr>\n",
              "  </thead>\n",
              "  <tbody>\n",
              "    <tr>\n",
              "      <th>0</th>\n",
              "      <td>3799</td>\n",
              "      <td>48751</td>\n",
              "      <td>London</td>\n",
              "      <td>16-03-2020</td>\n",
              "      <td>@MeNyrbie @Phil_Gahan @Chrisitv https://t.co/i...</td>\n",
              "      <td>Neutral</td>\n",
              "    </tr>\n",
              "    <tr>\n",
              "      <th>1</th>\n",
              "      <td>3800</td>\n",
              "      <td>48752</td>\n",
              "      <td>UK</td>\n",
              "      <td>16-03-2020</td>\n",
              "      <td>advice Talk to your neighbours family to excha...</td>\n",
              "      <td>Positive</td>\n",
              "    </tr>\n",
              "    <tr>\n",
              "      <th>2</th>\n",
              "      <td>3801</td>\n",
              "      <td>48753</td>\n",
              "      <td>Vagabonds</td>\n",
              "      <td>16-03-2020</td>\n",
              "      <td>Coronavirus Australia: Woolworths to give elde...</td>\n",
              "      <td>Positive</td>\n",
              "    </tr>\n",
              "    <tr>\n",
              "      <th>3</th>\n",
              "      <td>3802</td>\n",
              "      <td>48754</td>\n",
              "      <td>NaN</td>\n",
              "      <td>16-03-2020</td>\n",
              "      <td>My food stock is not the only one which is emp...</td>\n",
              "      <td>Positive</td>\n",
              "    </tr>\n",
              "    <tr>\n",
              "      <th>4</th>\n",
              "      <td>3803</td>\n",
              "      <td>48755</td>\n",
              "      <td>NaN</td>\n",
              "      <td>16-03-2020</td>\n",
              "      <td>Me, ready to go at supermarket during the #COV...</td>\n",
              "      <td>Extremely Negative</td>\n",
              "    </tr>\n",
              "    <tr>\n",
              "      <th>...</th>\n",
              "      <td>...</td>\n",
              "      <td>...</td>\n",
              "      <td>...</td>\n",
              "      <td>...</td>\n",
              "      <td>...</td>\n",
              "      <td>...</td>\n",
              "    </tr>\n",
              "    <tr>\n",
              "      <th>41152</th>\n",
              "      <td>44951</td>\n",
              "      <td>89903</td>\n",
              "      <td>Wellington City, New Zealand</td>\n",
              "      <td>14-04-2020</td>\n",
              "      <td>Airline pilots offering to stock supermarket s...</td>\n",
              "      <td>Neutral</td>\n",
              "    </tr>\n",
              "    <tr>\n",
              "      <th>41153</th>\n",
              "      <td>44952</td>\n",
              "      <td>89904</td>\n",
              "      <td>NaN</td>\n",
              "      <td>14-04-2020</td>\n",
              "      <td>Response to complaint not provided citing COVI...</td>\n",
              "      <td>Extremely Negative</td>\n",
              "    </tr>\n",
              "    <tr>\n",
              "      <th>41154</th>\n",
              "      <td>44953</td>\n",
              "      <td>89905</td>\n",
              "      <td>NaN</td>\n",
              "      <td>14-04-2020</td>\n",
              "      <td>You know itÂ’s getting tough when @KameronWild...</td>\n",
              "      <td>Positive</td>\n",
              "    </tr>\n",
              "    <tr>\n",
              "      <th>41155</th>\n",
              "      <td>44954</td>\n",
              "      <td>89906</td>\n",
              "      <td>NaN</td>\n",
              "      <td>14-04-2020</td>\n",
              "      <td>Is it wrong that the smell of hand sanitizer i...</td>\n",
              "      <td>Neutral</td>\n",
              "    </tr>\n",
              "    <tr>\n",
              "      <th>41156</th>\n",
              "      <td>44955</td>\n",
              "      <td>89907</td>\n",
              "      <td>i love you so much || he/him</td>\n",
              "      <td>14-04-2020</td>\n",
              "      <td>@TartiiCat Well new/used Rift S are going for ...</td>\n",
              "      <td>Negative</td>\n",
              "    </tr>\n",
              "  </tbody>\n",
              "</table>\n",
              "<p>41157 rows × 6 columns</p>\n",
              "</div>\n",
              "      <button class=\"colab-df-convert\" onclick=\"convertToInteractive('df-af2ad8d2-d567-487d-99e4-26dbbc3cd583')\"\n",
              "              title=\"Convert this dataframe to an interactive table.\"\n",
              "              style=\"display:none;\">\n",
              "        \n",
              "  <svg xmlns=\"http://www.w3.org/2000/svg\" height=\"24px\"viewBox=\"0 0 24 24\"\n",
              "       width=\"24px\">\n",
              "    <path d=\"M0 0h24v24H0V0z\" fill=\"none\"/>\n",
              "    <path d=\"M18.56 5.44l.94 2.06.94-2.06 2.06-.94-2.06-.94-.94-2.06-.94 2.06-2.06.94zm-11 1L8.5 8.5l.94-2.06 2.06-.94-2.06-.94L8.5 2.5l-.94 2.06-2.06.94zm10 10l.94 2.06.94-2.06 2.06-.94-2.06-.94-.94-2.06-.94 2.06-2.06.94z\"/><path d=\"M17.41 7.96l-1.37-1.37c-.4-.4-.92-.59-1.43-.59-.52 0-1.04.2-1.43.59L10.3 9.45l-7.72 7.72c-.78.78-.78 2.05 0 2.83L4 21.41c.39.39.9.59 1.41.59.51 0 1.02-.2 1.41-.59l7.78-7.78 2.81-2.81c.8-.78.8-2.07 0-2.86zM5.41 20L4 18.59l7.72-7.72 1.47 1.35L5.41 20z\"/>\n",
              "  </svg>\n",
              "      </button>\n",
              "      \n",
              "  <style>\n",
              "    .colab-df-container {\n",
              "      display:flex;\n",
              "      flex-wrap:wrap;\n",
              "      gap: 12px;\n",
              "    }\n",
              "\n",
              "    .colab-df-convert {\n",
              "      background-color: #E8F0FE;\n",
              "      border: none;\n",
              "      border-radius: 50%;\n",
              "      cursor: pointer;\n",
              "      display: none;\n",
              "      fill: #1967D2;\n",
              "      height: 32px;\n",
              "      padding: 0 0 0 0;\n",
              "      width: 32px;\n",
              "    }\n",
              "\n",
              "    .colab-df-convert:hover {\n",
              "      background-color: #E2EBFA;\n",
              "      box-shadow: 0px 1px 2px rgba(60, 64, 67, 0.3), 0px 1px 3px 1px rgba(60, 64, 67, 0.15);\n",
              "      fill: #174EA6;\n",
              "    }\n",
              "\n",
              "    [theme=dark] .colab-df-convert {\n",
              "      background-color: #3B4455;\n",
              "      fill: #D2E3FC;\n",
              "    }\n",
              "\n",
              "    [theme=dark] .colab-df-convert:hover {\n",
              "      background-color: #434B5C;\n",
              "      box-shadow: 0px 1px 3px 1px rgba(0, 0, 0, 0.15);\n",
              "      filter: drop-shadow(0px 1px 2px rgba(0, 0, 0, 0.3));\n",
              "      fill: #FFFFFF;\n",
              "    }\n",
              "  </style>\n",
              "\n",
              "      <script>\n",
              "        const buttonEl =\n",
              "          document.querySelector('#df-af2ad8d2-d567-487d-99e4-26dbbc3cd583 button.colab-df-convert');\n",
              "        buttonEl.style.display =\n",
              "          google.colab.kernel.accessAllowed ? 'block' : 'none';\n",
              "\n",
              "        async function convertToInteractive(key) {\n",
              "          const element = document.querySelector('#df-af2ad8d2-d567-487d-99e4-26dbbc3cd583');\n",
              "          const dataTable =\n",
              "            await google.colab.kernel.invokeFunction('convertToInteractive',\n",
              "                                                     [key], {});\n",
              "          if (!dataTable) return;\n",
              "\n",
              "          const docLinkHtml = 'Like what you see? Visit the ' +\n",
              "            '<a target=\"_blank\" href=https://colab.research.google.com/notebooks/data_table.ipynb>data table notebook</a>'\n",
              "            + ' to learn more about interactive tables.';\n",
              "          element.innerHTML = '';\n",
              "          dataTable['output_type'] = 'display_data';\n",
              "          await google.colab.output.renderOutput(dataTable, element);\n",
              "          const docLink = document.createElement('div');\n",
              "          docLink.innerHTML = docLinkHtml;\n",
              "          element.appendChild(docLink);\n",
              "        }\n",
              "      </script>\n",
              "    </div>\n",
              "  </div>\n",
              "  "
            ]
          },
          "metadata": {},
          "execution_count": 4
        }
      ]
    },
    {
      "cell_type": "markdown",
      "source": [
        "### Q1 Data Transformation"
      ],
      "metadata": {
        "id": "7JAKhiWmCtr_"
      }
    },
    {
      "cell_type": "code",
      "source": [
        "df['Sentiment'].unique()"
      ],
      "metadata": {
        "colab": {
          "base_uri": "https://localhost:8080/"
        },
        "id": "hGqibLju9gFJ",
        "outputId": "d34317df-fc27-4ac3-8fb0-bf7ca83f886e"
      },
      "execution_count": 5,
      "outputs": [
        {
          "output_type": "execute_result",
          "data": {
            "text/plain": [
              "array(['Neutral', 'Positive', 'Extremely Negative', 'Negative',\n",
              "       'Extremely Positive'], dtype=object)"
            ]
          },
          "metadata": {},
          "execution_count": 5
        }
      ]
    },
    {
      "cell_type": "code",
      "source": [
        "# Label 'positive' and 'extremely positive' to value 1\n",
        "def binary_classifier(df):\n",
        "  df['sentiment_score'] = df['Sentiment'].apply(lambda x: 1 if x in ['Positive','Extremely Positive'] else 0) # transform values 'negative' and 'extremely negative' to value 0\n",
        "  df = df[df['Sentiment'] != 'Neutral'].drop(columns = 'Sentiment').reset_index() # Drop observatins with the value 'neutral'\n",
        "  df = df.drop(columns = 'index')\n",
        "  return df"
      ],
      "metadata": {
        "id": "SaGYJd5m_hqh"
      },
      "execution_count": 6,
      "outputs": []
    },
    {
      "cell_type": "code",
      "source": [
        "df1 = binary_classifier(df)"
      ],
      "metadata": {
        "id": "uvkEicF6__Sw"
      },
      "execution_count": 7,
      "outputs": []
    },
    {
      "cell_type": "code",
      "source": [
        "df1"
      ],
      "metadata": {
        "colab": {
          "base_uri": "https://localhost:8080/",
          "height": 0
        },
        "id": "OonMFBwCB4-t",
        "outputId": "3de2fc42-7641-43dc-a82c-a80d44a8f7af"
      },
      "execution_count": 8,
      "outputs": [
        {
          "output_type": "execute_result",
          "data": {
            "text/plain": [
              "       UserName  ScreenName                      Location     TweetAt  \\\n",
              "0          3800       48752                            UK  16-03-2020   \n",
              "1          3801       48753                     Vagabonds  16-03-2020   \n",
              "2          3802       48754                           NaN  16-03-2020   \n",
              "3          3803       48755                           NaN  16-03-2020   \n",
              "4          3804       48756     ÃœT: 36.319708,-82.363649  16-03-2020   \n",
              "...         ...         ...                           ...         ...   \n",
              "33439     44949       89901                          OHIO  14-04-2020   \n",
              "33440     44950       89902                           NaN  14-04-2020   \n",
              "33441     44952       89904                           NaN  14-04-2020   \n",
              "33442     44953       89905                           NaN  14-04-2020   \n",
              "33443     44955       89907  i love you so much || he/him  14-04-2020   \n",
              "\n",
              "                                           OriginalTweet  sentiment_score  \n",
              "0      advice Talk to your neighbours family to excha...                1  \n",
              "1      Coronavirus Australia: Woolworths to give elde...                1  \n",
              "2      My food stock is not the only one which is emp...                1  \n",
              "3      Me, ready to go at supermarket during the #COV...                0  \n",
              "4      As news of the regionÂ’s first confirmed COVID...                1  \n",
              "...                                                  ...              ...  \n",
              "33439  I never that weÂ’d be in a situation &amp; wor...                1  \n",
              "33440  @MrSilverScott you are definitely my man. I fe...                1  \n",
              "33441  Response to complaint not provided citing COVI...                0  \n",
              "33442  You know itÂ’s getting tough when @KameronWild...                1  \n",
              "33443  @TartiiCat Well new/used Rift S are going for ...                0  \n",
              "\n",
              "[33444 rows x 6 columns]"
            ],
            "text/html": [
              "\n",
              "  <div id=\"df-a9257a5c-a567-4843-a0d0-3da0fabb07ca\">\n",
              "    <div class=\"colab-df-container\">\n",
              "      <div>\n",
              "<style scoped>\n",
              "    .dataframe tbody tr th:only-of-type {\n",
              "        vertical-align: middle;\n",
              "    }\n",
              "\n",
              "    .dataframe tbody tr th {\n",
              "        vertical-align: top;\n",
              "    }\n",
              "\n",
              "    .dataframe thead th {\n",
              "        text-align: right;\n",
              "    }\n",
              "</style>\n",
              "<table border=\"1\" class=\"dataframe\">\n",
              "  <thead>\n",
              "    <tr style=\"text-align: right;\">\n",
              "      <th></th>\n",
              "      <th>UserName</th>\n",
              "      <th>ScreenName</th>\n",
              "      <th>Location</th>\n",
              "      <th>TweetAt</th>\n",
              "      <th>OriginalTweet</th>\n",
              "      <th>sentiment_score</th>\n",
              "    </tr>\n",
              "  </thead>\n",
              "  <tbody>\n",
              "    <tr>\n",
              "      <th>0</th>\n",
              "      <td>3800</td>\n",
              "      <td>48752</td>\n",
              "      <td>UK</td>\n",
              "      <td>16-03-2020</td>\n",
              "      <td>advice Talk to your neighbours family to excha...</td>\n",
              "      <td>1</td>\n",
              "    </tr>\n",
              "    <tr>\n",
              "      <th>1</th>\n",
              "      <td>3801</td>\n",
              "      <td>48753</td>\n",
              "      <td>Vagabonds</td>\n",
              "      <td>16-03-2020</td>\n",
              "      <td>Coronavirus Australia: Woolworths to give elde...</td>\n",
              "      <td>1</td>\n",
              "    </tr>\n",
              "    <tr>\n",
              "      <th>2</th>\n",
              "      <td>3802</td>\n",
              "      <td>48754</td>\n",
              "      <td>NaN</td>\n",
              "      <td>16-03-2020</td>\n",
              "      <td>My food stock is not the only one which is emp...</td>\n",
              "      <td>1</td>\n",
              "    </tr>\n",
              "    <tr>\n",
              "      <th>3</th>\n",
              "      <td>3803</td>\n",
              "      <td>48755</td>\n",
              "      <td>NaN</td>\n",
              "      <td>16-03-2020</td>\n",
              "      <td>Me, ready to go at supermarket during the #COV...</td>\n",
              "      <td>0</td>\n",
              "    </tr>\n",
              "    <tr>\n",
              "      <th>4</th>\n",
              "      <td>3804</td>\n",
              "      <td>48756</td>\n",
              "      <td>ÃœT: 36.319708,-82.363649</td>\n",
              "      <td>16-03-2020</td>\n",
              "      <td>As news of the regionÂ’s first confirmed COVID...</td>\n",
              "      <td>1</td>\n",
              "    </tr>\n",
              "    <tr>\n",
              "      <th>...</th>\n",
              "      <td>...</td>\n",
              "      <td>...</td>\n",
              "      <td>...</td>\n",
              "      <td>...</td>\n",
              "      <td>...</td>\n",
              "      <td>...</td>\n",
              "    </tr>\n",
              "    <tr>\n",
              "      <th>33439</th>\n",
              "      <td>44949</td>\n",
              "      <td>89901</td>\n",
              "      <td>OHIO</td>\n",
              "      <td>14-04-2020</td>\n",
              "      <td>I never that weÂ’d be in a situation &amp;amp; wor...</td>\n",
              "      <td>1</td>\n",
              "    </tr>\n",
              "    <tr>\n",
              "      <th>33440</th>\n",
              "      <td>44950</td>\n",
              "      <td>89902</td>\n",
              "      <td>NaN</td>\n",
              "      <td>14-04-2020</td>\n",
              "      <td>@MrSilverScott you are definitely my man. I fe...</td>\n",
              "      <td>1</td>\n",
              "    </tr>\n",
              "    <tr>\n",
              "      <th>33441</th>\n",
              "      <td>44952</td>\n",
              "      <td>89904</td>\n",
              "      <td>NaN</td>\n",
              "      <td>14-04-2020</td>\n",
              "      <td>Response to complaint not provided citing COVI...</td>\n",
              "      <td>0</td>\n",
              "    </tr>\n",
              "    <tr>\n",
              "      <th>33442</th>\n",
              "      <td>44953</td>\n",
              "      <td>89905</td>\n",
              "      <td>NaN</td>\n",
              "      <td>14-04-2020</td>\n",
              "      <td>You know itÂ’s getting tough when @KameronWild...</td>\n",
              "      <td>1</td>\n",
              "    </tr>\n",
              "    <tr>\n",
              "      <th>33443</th>\n",
              "      <td>44955</td>\n",
              "      <td>89907</td>\n",
              "      <td>i love you so much || he/him</td>\n",
              "      <td>14-04-2020</td>\n",
              "      <td>@TartiiCat Well new/used Rift S are going for ...</td>\n",
              "      <td>0</td>\n",
              "    </tr>\n",
              "  </tbody>\n",
              "</table>\n",
              "<p>33444 rows × 6 columns</p>\n",
              "</div>\n",
              "      <button class=\"colab-df-convert\" onclick=\"convertToInteractive('df-a9257a5c-a567-4843-a0d0-3da0fabb07ca')\"\n",
              "              title=\"Convert this dataframe to an interactive table.\"\n",
              "              style=\"display:none;\">\n",
              "        \n",
              "  <svg xmlns=\"http://www.w3.org/2000/svg\" height=\"24px\"viewBox=\"0 0 24 24\"\n",
              "       width=\"24px\">\n",
              "    <path d=\"M0 0h24v24H0V0z\" fill=\"none\"/>\n",
              "    <path d=\"M18.56 5.44l.94 2.06.94-2.06 2.06-.94-2.06-.94-.94-2.06-.94 2.06-2.06.94zm-11 1L8.5 8.5l.94-2.06 2.06-.94-2.06-.94L8.5 2.5l-.94 2.06-2.06.94zm10 10l.94 2.06.94-2.06 2.06-.94-2.06-.94-.94-2.06-.94 2.06-2.06.94z\"/><path d=\"M17.41 7.96l-1.37-1.37c-.4-.4-.92-.59-1.43-.59-.52 0-1.04.2-1.43.59L10.3 9.45l-7.72 7.72c-.78.78-.78 2.05 0 2.83L4 21.41c.39.39.9.59 1.41.59.51 0 1.02-.2 1.41-.59l7.78-7.78 2.81-2.81c.8-.78.8-2.07 0-2.86zM5.41 20L4 18.59l7.72-7.72 1.47 1.35L5.41 20z\"/>\n",
              "  </svg>\n",
              "      </button>\n",
              "      \n",
              "  <style>\n",
              "    .colab-df-container {\n",
              "      display:flex;\n",
              "      flex-wrap:wrap;\n",
              "      gap: 12px;\n",
              "    }\n",
              "\n",
              "    .colab-df-convert {\n",
              "      background-color: #E8F0FE;\n",
              "      border: none;\n",
              "      border-radius: 50%;\n",
              "      cursor: pointer;\n",
              "      display: none;\n",
              "      fill: #1967D2;\n",
              "      height: 32px;\n",
              "      padding: 0 0 0 0;\n",
              "      width: 32px;\n",
              "    }\n",
              "\n",
              "    .colab-df-convert:hover {\n",
              "      background-color: #E2EBFA;\n",
              "      box-shadow: 0px 1px 2px rgba(60, 64, 67, 0.3), 0px 1px 3px 1px rgba(60, 64, 67, 0.15);\n",
              "      fill: #174EA6;\n",
              "    }\n",
              "\n",
              "    [theme=dark] .colab-df-convert {\n",
              "      background-color: #3B4455;\n",
              "      fill: #D2E3FC;\n",
              "    }\n",
              "\n",
              "    [theme=dark] .colab-df-convert:hover {\n",
              "      background-color: #434B5C;\n",
              "      box-shadow: 0px 1px 3px 1px rgba(0, 0, 0, 0.15);\n",
              "      filter: drop-shadow(0px 1px 2px rgba(0, 0, 0, 0.3));\n",
              "      fill: #FFFFFF;\n",
              "    }\n",
              "  </style>\n",
              "\n",
              "      <script>\n",
              "        const buttonEl =\n",
              "          document.querySelector('#df-a9257a5c-a567-4843-a0d0-3da0fabb07ca button.colab-df-convert');\n",
              "        buttonEl.style.display =\n",
              "          google.colab.kernel.accessAllowed ? 'block' : 'none';\n",
              "\n",
              "        async function convertToInteractive(key) {\n",
              "          const element = document.querySelector('#df-a9257a5c-a567-4843-a0d0-3da0fabb07ca');\n",
              "          const dataTable =\n",
              "            await google.colab.kernel.invokeFunction('convertToInteractive',\n",
              "                                                     [key], {});\n",
              "          if (!dataTable) return;\n",
              "\n",
              "          const docLinkHtml = 'Like what you see? Visit the ' +\n",
              "            '<a target=\"_blank\" href=https://colab.research.google.com/notebooks/data_table.ipynb>data table notebook</a>'\n",
              "            + ' to learn more about interactive tables.';\n",
              "          element.innerHTML = '';\n",
              "          dataTable['output_type'] = 'display_data';\n",
              "          await google.colab.output.renderOutput(dataTable, element);\n",
              "          const docLink = document.createElement('div');\n",
              "          docLink.innerHTML = docLinkHtml;\n",
              "          element.appendChild(docLink);\n",
              "        }\n",
              "      </script>\n",
              "    </div>\n",
              "  </div>\n",
              "  "
            ]
          },
          "metadata": {},
          "execution_count": 8
        }
      ]
    },
    {
      "cell_type": "markdown",
      "source": [
        "### Q2 Define the text preprocessing function"
      ],
      "metadata": {
        "id": "UfwEQAZBC5eK"
      }
    },
    {
      "cell_type": "code",
      "source": [
        "stopwords = _stop_words.ENGLISH_STOP_WORDS\n",
        "ps = PorterStemmer()\n",
        "def clean(doc): # doc is a string of text\n",
        "    doc = re.sub(r\"https\\S+\", \"\", doc) # remove the url after each tweet\n",
        "    doc = \"\".join([char for char in doc if char not in string.punctuation and not char.isdigit()]) # remove punctuations and digits\n",
        "    doc = \" \".join([token.lower() for token in doc.split() if token not in stopwords]) # lowercase of letters, tokenization and remove the stopwords\n",
        "    doc = \" \".join([ps.stem(token) for token in doc.split()]) # Stemming\n",
        "    return doc\n"
      ],
      "metadata": {
        "id": "2WybW1YTtqw5"
      },
      "execution_count": 9,
      "outputs": []
    },
    {
      "cell_type": "code",
      "source": [
        "df1['OriginalTweet'] = df1['OriginalTweet'].apply(lambda x: clean(x))"
      ],
      "metadata": {
        "id": "0hj1pnz02ecF"
      },
      "execution_count": 10,
      "outputs": []
    },
    {
      "cell_type": "code",
      "source": [
        "df1"
      ],
      "metadata": {
        "colab": {
          "base_uri": "https://localhost:8080/",
          "height": 0
        },
        "id": "fF9i733QJmMI",
        "outputId": "7b47073b-3222-44c8-bf91-17a98ca3b605"
      },
      "execution_count": 11,
      "outputs": [
        {
          "output_type": "execute_result",
          "data": {
            "text/plain": [
              "       UserName  ScreenName                      Location     TweetAt  \\\n",
              "0          3800       48752                            UK  16-03-2020   \n",
              "1          3801       48753                     Vagabonds  16-03-2020   \n",
              "2          3802       48754                           NaN  16-03-2020   \n",
              "3          3803       48755                           NaN  16-03-2020   \n",
              "4          3804       48756     ÃœT: 36.319708,-82.363649  16-03-2020   \n",
              "...         ...         ...                           ...         ...   \n",
              "33439     44949       89901                          OHIO  14-04-2020   \n",
              "33440     44950       89902                           NaN  14-04-2020   \n",
              "33441     44952       89904                           NaN  14-04-2020   \n",
              "33442     44953       89905                           NaN  14-04-2020   \n",
              "33443     44955       89907  i love you so much || he/him  14-04-2020   \n",
              "\n",
              "                                           OriginalTweet  sentiment_score  \n",
              "0      advic talk neighbour famili exchang phone numb...                1  \n",
              "1      coronaviru australia woolworth elderli disabl ...                1  \n",
              "2      my food stock pleas dont panic there will be e...                1  \n",
              "3      me readi supermarket covid outbreak not im par...                0  \n",
              "4      as news regionâ’ confirm covid case came sulli...                1  \n",
              "...                                                  ...              ...  \n",
              "33439  i weâ’d situat amp world go supermarket pick p...                1  \n",
              "33440  mrsilverscott definit man i feel like fall nee...                1  \n",
              "33441  respons complaint provid cite covid relat dela...                0  \n",
              "33442  you know itâ’ get tough kameronwild ration toi...                1  \n",
              "33443  tartiicat well newus rift s go amazon rn norma...                0  \n",
              "\n",
              "[33444 rows x 6 columns]"
            ],
            "text/html": [
              "\n",
              "  <div id=\"df-c2320cc3-bb2d-415a-a721-dfb361f85d66\">\n",
              "    <div class=\"colab-df-container\">\n",
              "      <div>\n",
              "<style scoped>\n",
              "    .dataframe tbody tr th:only-of-type {\n",
              "        vertical-align: middle;\n",
              "    }\n",
              "\n",
              "    .dataframe tbody tr th {\n",
              "        vertical-align: top;\n",
              "    }\n",
              "\n",
              "    .dataframe thead th {\n",
              "        text-align: right;\n",
              "    }\n",
              "</style>\n",
              "<table border=\"1\" class=\"dataframe\">\n",
              "  <thead>\n",
              "    <tr style=\"text-align: right;\">\n",
              "      <th></th>\n",
              "      <th>UserName</th>\n",
              "      <th>ScreenName</th>\n",
              "      <th>Location</th>\n",
              "      <th>TweetAt</th>\n",
              "      <th>OriginalTweet</th>\n",
              "      <th>sentiment_score</th>\n",
              "    </tr>\n",
              "  </thead>\n",
              "  <tbody>\n",
              "    <tr>\n",
              "      <th>0</th>\n",
              "      <td>3800</td>\n",
              "      <td>48752</td>\n",
              "      <td>UK</td>\n",
              "      <td>16-03-2020</td>\n",
              "      <td>advic talk neighbour famili exchang phone numb...</td>\n",
              "      <td>1</td>\n",
              "    </tr>\n",
              "    <tr>\n",
              "      <th>1</th>\n",
              "      <td>3801</td>\n",
              "      <td>48753</td>\n",
              "      <td>Vagabonds</td>\n",
              "      <td>16-03-2020</td>\n",
              "      <td>coronaviru australia woolworth elderli disabl ...</td>\n",
              "      <td>1</td>\n",
              "    </tr>\n",
              "    <tr>\n",
              "      <th>2</th>\n",
              "      <td>3802</td>\n",
              "      <td>48754</td>\n",
              "      <td>NaN</td>\n",
              "      <td>16-03-2020</td>\n",
              "      <td>my food stock pleas dont panic there will be e...</td>\n",
              "      <td>1</td>\n",
              "    </tr>\n",
              "    <tr>\n",
              "      <th>3</th>\n",
              "      <td>3803</td>\n",
              "      <td>48755</td>\n",
              "      <td>NaN</td>\n",
              "      <td>16-03-2020</td>\n",
              "      <td>me readi supermarket covid outbreak not im par...</td>\n",
              "      <td>0</td>\n",
              "    </tr>\n",
              "    <tr>\n",
              "      <th>4</th>\n",
              "      <td>3804</td>\n",
              "      <td>48756</td>\n",
              "      <td>ÃœT: 36.319708,-82.363649</td>\n",
              "      <td>16-03-2020</td>\n",
              "      <td>as news regionâ’ confirm covid case came sulli...</td>\n",
              "      <td>1</td>\n",
              "    </tr>\n",
              "    <tr>\n",
              "      <th>...</th>\n",
              "      <td>...</td>\n",
              "      <td>...</td>\n",
              "      <td>...</td>\n",
              "      <td>...</td>\n",
              "      <td>...</td>\n",
              "      <td>...</td>\n",
              "    </tr>\n",
              "    <tr>\n",
              "      <th>33439</th>\n",
              "      <td>44949</td>\n",
              "      <td>89901</td>\n",
              "      <td>OHIO</td>\n",
              "      <td>14-04-2020</td>\n",
              "      <td>i weâ’d situat amp world go supermarket pick p...</td>\n",
              "      <td>1</td>\n",
              "    </tr>\n",
              "    <tr>\n",
              "      <th>33440</th>\n",
              "      <td>44950</td>\n",
              "      <td>89902</td>\n",
              "      <td>NaN</td>\n",
              "      <td>14-04-2020</td>\n",
              "      <td>mrsilverscott definit man i feel like fall nee...</td>\n",
              "      <td>1</td>\n",
              "    </tr>\n",
              "    <tr>\n",
              "      <th>33441</th>\n",
              "      <td>44952</td>\n",
              "      <td>89904</td>\n",
              "      <td>NaN</td>\n",
              "      <td>14-04-2020</td>\n",
              "      <td>respons complaint provid cite covid relat dela...</td>\n",
              "      <td>0</td>\n",
              "    </tr>\n",
              "    <tr>\n",
              "      <th>33442</th>\n",
              "      <td>44953</td>\n",
              "      <td>89905</td>\n",
              "      <td>NaN</td>\n",
              "      <td>14-04-2020</td>\n",
              "      <td>you know itâ’ get tough kameronwild ration toi...</td>\n",
              "      <td>1</td>\n",
              "    </tr>\n",
              "    <tr>\n",
              "      <th>33443</th>\n",
              "      <td>44955</td>\n",
              "      <td>89907</td>\n",
              "      <td>i love you so much || he/him</td>\n",
              "      <td>14-04-2020</td>\n",
              "      <td>tartiicat well newus rift s go amazon rn norma...</td>\n",
              "      <td>0</td>\n",
              "    </tr>\n",
              "  </tbody>\n",
              "</table>\n",
              "<p>33444 rows × 6 columns</p>\n",
              "</div>\n",
              "      <button class=\"colab-df-convert\" onclick=\"convertToInteractive('df-c2320cc3-bb2d-415a-a721-dfb361f85d66')\"\n",
              "              title=\"Convert this dataframe to an interactive table.\"\n",
              "              style=\"display:none;\">\n",
              "        \n",
              "  <svg xmlns=\"http://www.w3.org/2000/svg\" height=\"24px\"viewBox=\"0 0 24 24\"\n",
              "       width=\"24px\">\n",
              "    <path d=\"M0 0h24v24H0V0z\" fill=\"none\"/>\n",
              "    <path d=\"M18.56 5.44l.94 2.06.94-2.06 2.06-.94-2.06-.94-.94-2.06-.94 2.06-2.06.94zm-11 1L8.5 8.5l.94-2.06 2.06-.94-2.06-.94L8.5 2.5l-.94 2.06-2.06.94zm10 10l.94 2.06.94-2.06 2.06-.94-2.06-.94-.94-2.06-.94 2.06-2.06.94z\"/><path d=\"M17.41 7.96l-1.37-1.37c-.4-.4-.92-.59-1.43-.59-.52 0-1.04.2-1.43.59L10.3 9.45l-7.72 7.72c-.78.78-.78 2.05 0 2.83L4 21.41c.39.39.9.59 1.41.59.51 0 1.02-.2 1.41-.59l7.78-7.78 2.81-2.81c.8-.78.8-2.07 0-2.86zM5.41 20L4 18.59l7.72-7.72 1.47 1.35L5.41 20z\"/>\n",
              "  </svg>\n",
              "      </button>\n",
              "      \n",
              "  <style>\n",
              "    .colab-df-container {\n",
              "      display:flex;\n",
              "      flex-wrap:wrap;\n",
              "      gap: 12px;\n",
              "    }\n",
              "\n",
              "    .colab-df-convert {\n",
              "      background-color: #E8F0FE;\n",
              "      border: none;\n",
              "      border-radius: 50%;\n",
              "      cursor: pointer;\n",
              "      display: none;\n",
              "      fill: #1967D2;\n",
              "      height: 32px;\n",
              "      padding: 0 0 0 0;\n",
              "      width: 32px;\n",
              "    }\n",
              "\n",
              "    .colab-df-convert:hover {\n",
              "      background-color: #E2EBFA;\n",
              "      box-shadow: 0px 1px 2px rgba(60, 64, 67, 0.3), 0px 1px 3px 1px rgba(60, 64, 67, 0.15);\n",
              "      fill: #174EA6;\n",
              "    }\n",
              "\n",
              "    [theme=dark] .colab-df-convert {\n",
              "      background-color: #3B4455;\n",
              "      fill: #D2E3FC;\n",
              "    }\n",
              "\n",
              "    [theme=dark] .colab-df-convert:hover {\n",
              "      background-color: #434B5C;\n",
              "      box-shadow: 0px 1px 3px 1px rgba(0, 0, 0, 0.15);\n",
              "      filter: drop-shadow(0px 1px 2px rgba(0, 0, 0, 0.3));\n",
              "      fill: #FFFFFF;\n",
              "    }\n",
              "  </style>\n",
              "\n",
              "      <script>\n",
              "        const buttonEl =\n",
              "          document.querySelector('#df-c2320cc3-bb2d-415a-a721-dfb361f85d66 button.colab-df-convert');\n",
              "        buttonEl.style.display =\n",
              "          google.colab.kernel.accessAllowed ? 'block' : 'none';\n",
              "\n",
              "        async function convertToInteractive(key) {\n",
              "          const element = document.querySelector('#df-c2320cc3-bb2d-415a-a721-dfb361f85d66');\n",
              "          const dataTable =\n",
              "            await google.colab.kernel.invokeFunction('convertToInteractive',\n",
              "                                                     [key], {});\n",
              "          if (!dataTable) return;\n",
              "\n",
              "          const docLinkHtml = 'Like what you see? Visit the ' +\n",
              "            '<a target=\"_blank\" href=https://colab.research.google.com/notebooks/data_table.ipynb>data table notebook</a>'\n",
              "            + ' to learn more about interactive tables.';\n",
              "          element.innerHTML = '';\n",
              "          dataTable['output_type'] = 'display_data';\n",
              "          await google.colab.output.renderOutput(dataTable, element);\n",
              "          const docLink = document.createElement('div');\n",
              "          docLink.innerHTML = docLinkHtml;\n",
              "          element.appendChild(docLink);\n",
              "        }\n",
              "      </script>\n",
              "    </div>\n",
              "  </div>\n",
              "  "
            ]
          },
          "metadata": {},
          "execution_count": 11
        }
      ]
    },
    {
      "cell_type": "markdown",
      "source": [
        "### Q3 Use the tweet content to predict tweet sentiment."
      ],
      "metadata": {
        "id": "R4Rq-xbXOxRW"
      }
    },
    {
      "cell_type": "markdown",
      "source": [
        "#### (1) Split the data into training and test sets."
      ],
      "metadata": {
        "id": "7HyHlYvFQz_O"
      }
    },
    {
      "cell_type": "code",
      "source": [
        "import sklearn\n",
        "#from sklearn.cross_validation import train_test_split\n",
        "from sklearn.model_selection import train_test_split\n",
        "\n",
        "# Step 1: train-test split\n",
        "X = df1['OriginalTweet']\n",
        "y = df1['sentiment_score']\n",
        "print(X.shape, y.shape)\n",
        "# split X and y into training and testing sets. By default, it splits 75% training and 25% test\n",
        "# random_state=1 for reproducibility\n",
        "X_train, X_test, y_train, y_test = train_test_split(X, y, random_state=1)\n",
        "print(X_train.shape, y_train.shape)\n",
        "print(X_test.shape, y_test.shape)"
      ],
      "metadata": {
        "colab": {
          "base_uri": "https://localhost:8080/"
        },
        "id": "1PtpXz1gQ4iq",
        "outputId": "fa3b84a6-7612-47d1-b120-fb47396ca6ea"
      },
      "execution_count": 12,
      "outputs": [
        {
          "output_type": "stream",
          "name": "stdout",
          "text": [
            "(33444,) (33444,)\n",
            "(25083,) (25083,)\n",
            "(8361,) (8361,)\n"
          ]
        }
      ]
    },
    {
      "cell_type": "markdown",
      "source": [
        "#### (2) Use CountVectorizer to generate vectors to represent each review."
      ],
      "metadata": {
        "id": "e_RMF_ZJQW60"
      }
    },
    {
      "cell_type": "code",
      "source": [
        "# Step 2-3: Preprocess and Vectorize train and test data\n",
        "vect = CountVectorizer(preprocessor=clean) # instantiate a vectoriezer\n",
        "X_train_dtm = vect.fit_transform(X_train)# use it to extract features from training data\n",
        "# transform testing data (using training data's features)\n",
        "X_test_dtm = vect.transform(X_test)\n",
        "print(X_train_dtm.shape, X_test_dtm.shape)"
      ],
      "metadata": {
        "colab": {
          "base_uri": "https://localhost:8080/"
        },
        "id": "UdU6AbbJPjAa",
        "outputId": "8c9324cb-6679-45db-b774-2e30f0e15069"
      },
      "execution_count": 15,
      "outputs": [
        {
          "output_type": "stream",
          "name": "stdout",
          "text": [
            "(25083, 34393) (8361, 34393)\n"
          ]
        }
      ]
    },
    {
      "cell_type": "code",
      "source": [
        "X_train_dtm"
      ],
      "metadata": {
        "colab": {
          "base_uri": "https://localhost:8080/"
        },
        "id": "1HgQLIN_1B8a",
        "outputId": "5ddecb17-64c7-45c7-e402-8e1b9d4af144"
      },
      "execution_count": 16,
      "outputs": [
        {
          "output_type": "execute_result",
          "data": {
            "text/plain": [
              "<25083x34393 sparse matrix of type '<class 'numpy.int64'>'\n",
              "\twith 412921 stored elements in Compressed Sparse Row format>"
            ]
          },
          "metadata": {},
          "execution_count": 16
        }
      ]
    },
    {
      "cell_type": "markdown",
      "source": [
        "#### (3) Use these vectors and Naive Bayes to predict the review sentiment."
      ],
      "metadata": {
        "id": "GT4uy0XGRyOc"
      }
    },
    {
      "cell_type": "code",
      "execution_count": 17,
      "metadata": {
        "colab": {
          "base_uri": "https://localhost:8080/"
        },
        "id": "7o8OM_hOpyz0",
        "outputId": "5b1610ab-de05-4a28-a5f7-d35f00d234c2"
      },
      "outputs": [
        {
          "output_type": "stream",
          "name": "stdout",
          "text": [
            "CPU times: user 12.5 ms, sys: 0 ns, total: 12.5 ms\n",
            "Wall time: 16.3 ms\n"
          ]
        }
      ],
      "source": [
        "# Step 3: Train the classifier and predict for test data\n",
        "nb = MultinomialNB() # instantiate a Multinomial Naive Bayes model\n",
        "%time nb.fit(X_train_dtm, y_train) # train the model(timing it with an IPython \"magic command\")\n",
        "y_pred_class = nb.predict(X_test_dtm) # make class predictions for X_test_dtm"
      ]
    },
    {
      "cell_type": "code",
      "execution_count": 18,
      "metadata": {
        "colab": {
          "base_uri": "https://localhost:8080/",
          "height": 512
        },
        "id": "LeeGEQadp0Jw",
        "outputId": "7772787e-f777-491c-eee9-1644bcfaef10"
      },
      "outputs": [
        {
          "output_type": "stream",
          "name": "stdout",
          "text": [
            "Accuracy:  0.7910537017103217\n",
            "Recall: 0.8268843659136659\n",
            "F1 score: 0.8088830543704191\n"
          ]
        },
        {
          "output_type": "display_data",
          "data": {
            "text/plain": [
              "<Figure size 576x432 with 2 Axes>"
            ],
            "image/png": "[encoded data removed]"
          },
          "metadata": {
            "needs_background": "light"
          }
        }
      ],
      "source": [
        "# Step 4: Evaluate the classifier using various measures\n",
        "\n",
        "# Function to plot confusion matrix. \n",
        "# Ref:http://scikit-learn.org/stable/auto_examples/model_selection/plot_confusion_matrix.html\n",
        "import itertools\n",
        "from sklearn.metrics import roc_auc_score\n",
        "\n",
        "def plot_confusion_matrix(cm, classes,\n",
        "                          normalize=False,\n",
        "                          title='Confusion matrix',\n",
        "                          cmap=plt.cm.Blues):\n",
        "    \"\"\"\n",
        "    This function prints and plots the confusion matrix.\n",
        "    Normalization can be applied by setting `normalize=True`.\n",
        "    \"\"\"\n",
        "    if normalize:\n",
        "        cm = cm.astype('float') / cm.sum(axis=1)[:, np.newaxis]\n",
        "\n",
        "    plt.imshow(cm, interpolation='nearest', cmap=cmap)\n",
        "    plt.title(title)\n",
        "    plt.colorbar()\n",
        "    tick_marks = np.arange(len(classes))\n",
        "    plt.xticks(tick_marks, classes, rotation=45)\n",
        "    plt.yticks(tick_marks, classes)\n",
        "\n",
        "    fmt = '.2f' if normalize else 'd'\n",
        "    thresh = cm.max() / 2.\n",
        "    for i, j in itertools.product(range(cm.shape[0]), range(cm.shape[1])):\n",
        "        plt.text(j, i, format(cm[i, j], fmt),\n",
        "                 horizontalalignment=\"center\",\n",
        "                 color=\"white\" if cm[i, j] > thresh else \"black\")\n",
        "\n",
        "    plt.tight_layout()\n",
        "    plt.ylabel('True label',fontsize=15)\n",
        "    plt.xlabel('Predicted label',fontsize=15)\n",
        "    \n",
        "    \n",
        "# Print accuracy:\n",
        "print(\"Accuracy: \", metrics.accuracy_score(y_test, y_pred_class))\n",
        "print(\"Recall:\",metrics.recall_score(y_test, y_pred_class))\n",
        "print(\"F1 score:\",metrics.f1_score(y_test, y_pred_class))\n",
        "    \n",
        "# print the confusion matrix\n",
        "cnf_matrix = confusion_matrix(y_test, y_pred_class)\n",
        "plt.figure(figsize=(8,6))\n",
        "plot_confusion_matrix(cnf_matrix, classes=['Not Relevant','Relevant'],normalize=True,\n",
        "                      title='Confusion matrix with all features')"
      ]
    },
    {
      "cell_type": "markdown",
      "source": [
        "#### (4) Use logistics regression with the balanced class to predict the sentiments."
      ],
      "metadata": {
        "id": "T9ecBhjiSU7f"
      }
    },
    {
      "cell_type": "code",
      "execution_count": 38,
      "metadata": {
        "colab": {
          "base_uri": "https://localhost:8080/",
          "height": 512
        },
        "id": "JqULNYZyp74J",
        "outputId": "5e4dec83-0a63-4320-d603-32e566cdc320"
      },
      "outputs": [
        {
          "output_type": "stream",
          "name": "stdout",
          "text": [
            "Accuracy:  0.8625762468604234\n",
            "Recall: 0.8749720420487587\n",
            "F1 score: 0.8719491808759612\n"
          ]
        },
        {
          "output_type": "display_data",
          "data": {
            "text/plain": [
              "<Figure size 576x432 with 2 Axes>"
            ],
            "image/png": "[encoded data removed]"
          },
          "metadata": {
            "needs_background": "light"
          }
        }
      ],
      "source": [
        "from sklearn.linear_model import LogisticRegression # import\n",
        "\n",
        "logreg = LogisticRegression(class_weight=\"balanced\") # instantiate a logistic regression model\n",
        "logreg.fit(X_train_dtm, y_train) # fit the model with training data\n",
        "\n",
        "# Make predictions on test data\n",
        "y_pred_class = logreg.predict(X_test_dtm)\n",
        "\n",
        "# calculate evaluation measures:\n",
        "print(\"Accuracy: \", accuracy_score(y_test, y_pred_class))\n",
        "print(\"Recall:\",metrics.recall_score(y_test, y_pred_class))\n",
        "print(\"F1 score:\",metrics.f1_score(y_test, y_pred_class))\n",
        "cnf_matrix = confusion_matrix(y_test, y_pred_class)\n",
        "plt.figure(figsize=(8,6))\n",
        "plot_confusion_matrix(cnf_matrix, classes=['Not Relevant','Relevant'],normalize=True,\n",
        "                      title='Confusion matrix with normalization')"
      ]
    },
    {
      "cell_type": "markdown",
      "source": [
        "#### (5) Use SVM with the balanced dataset to predict the review sentiment."
      ],
      "metadata": {
        "id": "dUYE553KSiG1"
      }
    },
    {
      "cell_type": "code",
      "execution_count": 39,
      "metadata": {
        "colab": {
          "base_uri": "https://localhost:8080/",
          "height": 512
        },
        "id": "Poo8sZfuqDen",
        "outputId": "f90088fe-4248-49b8-ecc4-35203bbe3030"
      },
      "outputs": [
        {
          "output_type": "stream",
          "name": "stdout",
          "text": [
            "Accuracy:  0.841526133237651\n",
            "Recall: 0.8584209349138895\n",
            "F1 score: 0.8527941339851127\n"
          ]
        },
        {
          "output_type": "display_data",
          "data": {
            "text/plain": [
              "<Figure size 576x432 with 2 Axes>"
            ],
            "image/png": "[encoded data removed]"
          },
          "metadata": {
            "needs_background": "light"
          }
        }
      ],
      "source": [
        "from sklearn.svm import LinearSVC\n",
        "\n",
        "classifier = LinearSVC(class_weight='balanced') # instantiate a logistic regression model\n",
        "classifier.fit(X_train_dtm, y_train) # fit the model with training data\n",
        "\n",
        "# Make predictions on test data\n",
        "y_pred_class = classifier.predict(X_test_dtm)\n",
        "\n",
        "# calculate evaluation measures:\n",
        "print(\"Accuracy: \", metrics.accuracy_score(y_test, y_pred_class))\n",
        "print(\"Recall:\",metrics.recall_score(y_test, y_pred_class))\n",
        "print(\"F1 score:\",metrics.f1_score(y_test, y_pred_class))\n",
        "cnf_matrix = confusion_matrix(y_test, y_pred_class)\n",
        "plt.figure(figsize=(8,6))\n",
        "plot_confusion_matrix(cnf_matrix, classes=['Not Relevant','Relevant'],normalize=True,\n",
        "                      title='Confusion matrix with normalization')"
      ]
    },
    {
      "cell_type": "markdown",
      "source": [
        "### Q4 Summary"
      ],
      "metadata": {
        "id": "QrJ0_1aYTjys"
      }
    },
    {
      "cell_type": "markdown",
      "source": [
        "In the prediction part, I applied three different approaches, the Naive Bayes Classifier, the logistics regression, and the SVM to predict the sentiment scores of the test data. Among all of the classifiers, the logistics regression performs the best with the highest F1-score of 0.87. The SVM's predictions was the second, outputing a F1-score of 0.85 while the Naive Bayes provides a F1-score of 0.812."
      ],
      "metadata": {
        "id": "cEwpGLz0Tm05"
      }
    },
    {
      "cell_type": "markdown",
      "source": [
        "### Q5 Bonus Questions"
      ],
      "metadata": {
        "id": "Fw3-QpheiMp4"
      }
    },
    {
      "cell_type": "markdown",
      "source": [
        "#### (1) Bag of words"
      ],
      "metadata": {
        "id": "2HIcqGZBihLC"
      }
    },
    {
      "cell_type": "code",
      "execution_count": 40,
      "metadata": {
        "colab": {
          "base_uri": "https://localhost:8080/"
        },
        "outputId": "2a74e850-0bc1-4e7e-dde2-cdf847fc4db3",
        "id": "zW9qMK26M1qv"
      },
      "outputs": [
        {
          "output_type": "stream",
          "name": "stdout",
          "text": [
            "(25083, 631705) (8361, 631705)\n"
          ]
        }
      ],
      "source": [
        "# Step 2-3: Preprocess and Vectorize train and test data\n",
        "vect = CountVectorizer(ngram_range=(1,3), preprocessor=clean) # instantiate a vectoriezer\n",
        "X_train_dtm = vect.fit_transform(X_train)# use it to extract features from training data\n",
        "# transform testing data (using training data's features)\n",
        "X_test_dtm = vect.transform(X_test)\n",
        "print(X_train_dtm.shape, X_test_dtm.shape)\n"
      ]
    },
    {
      "cell_type": "markdown",
      "source": [
        "##### (1.1) Naive Bayes"
      ],
      "metadata": {
        "id": "6QpE49u7jBxT"
      }
    },
    {
      "cell_type": "code",
      "source": [
        "nb = MultinomialNB() # instantiate a Multinomial Naive Bayes model\n",
        "%time nb.fit(X_train_dtm, y_train) # train the model(timing it with an IPython \"magic command\")\n",
        "y_pred_class = nb.predict(X_test_dtm)"
      ],
      "metadata": {
        "colab": {
          "base_uri": "https://localhost:8080/"
        },
        "id": "BQbOkJ-ri4YZ",
        "outputId": "8f9b8dae-2126-489d-e5e7-3dbdf9b08621"
      },
      "execution_count": 41,
      "outputs": [
        {
          "output_type": "stream",
          "name": "stdout",
          "text": [
            "CPU times: user 57.3 ms, sys: 12 ms, total: 69.4 ms\n",
            "Wall time: 73 ms\n"
          ]
        }
      ]
    },
    {
      "cell_type": "code",
      "source": [
        "# Print accuracy:\n",
        "print(\"Accuracy: \", metrics.accuracy_score(y_test, y_pred_class))\n",
        "print(\"Recall:\",metrics.recall_score(y_test, y_pred_class))\n",
        "print(\"F1 score:\",metrics.f1_score(y_test, y_pred_class))\n",
        "    \n",
        "# print the confusion matrix\n",
        "cnf_matrix = confusion_matrix(y_test, y_pred_class)\n",
        "plt.figure(figsize=(8,6))\n",
        "plot_confusion_matrix(cnf_matrix, classes=['Not Relevant','Relevant'],normalize=True,\n",
        "                      title='Confusion matrix with all features')"
      ],
      "metadata": {
        "colab": {
          "base_uri": "https://localhost:8080/",
          "height": 512
        },
        "id": "41Is_dkei7Wk",
        "outputId": "bb376c6c-4022-4809-e01b-85a4413c6fc6"
      },
      "execution_count": 43,
      "outputs": [
        {
          "output_type": "stream",
          "name": "stdout",
          "text": [
            "Accuracy:  0.7743092931467528\n",
            "Recall: 0.8608812346231268\n",
            "F1 score: 0.8031298904538341\n"
          ]
        },
        {
          "output_type": "display_data",
          "data": {
            "text/plain": [
              "<Figure size 576x432 with 2 Axes>"
            ],
            "image/png": "[encoded data removed]"
          },
          "metadata": {
            "needs_background": "light"
          }
        }
      ]
    },
    {
      "cell_type": "markdown",
      "source": [
        "##### (1.2) Logistics Regression"
      ],
      "metadata": {
        "id": "TY54BZ-ijGCO"
      }
    },
    {
      "cell_type": "code",
      "source": [
        "logreg = LogisticRegression(class_weight=\"balanced\") # instantiate a logistic regression model\n",
        "logreg.fit(X_train_dtm, y_train) # fit the model with training data\n",
        "\n",
        "# Make predictions on test data\n",
        "y_pred_class = logreg.predict(X_test_dtm)\n",
        "\n",
        "# calculate evaluation measures:\n",
        "print(\"Accuracy: \", accuracy_score(y_test, y_pred_class))\n",
        "print(\"Recall:\",metrics.recall_score(y_test, y_pred_class))\n",
        "print(\"F1 score:\",metrics.f1_score(y_test, y_pred_class))\n",
        "cnf_matrix = confusion_matrix(y_test, y_pred_class)\n",
        "plt.figure(figsize=(8,6))\n",
        "plot_confusion_matrix(cnf_matrix, classes=['Not Relevant','Relevant'],normalize=True,\n",
        "                      title='Confusion matrix with normalization')"
      ],
      "metadata": {
        "colab": {
          "base_uri": "https://localhost:8080/",
          "height": 512
        },
        "id": "B1iDVvfLi93s",
        "outputId": "873f64d2-c0a3-47e9-bb9b-ff0fab6e87a1"
      },
      "execution_count": 44,
      "outputs": [
        {
          "output_type": "stream",
          "name": "stdout",
          "text": [
            "Accuracy:  0.8557588805166846\n",
            "Recall: 0.8725117423395213\n",
            "F1 score: 0.8661190053285968\n"
          ]
        },
        {
          "output_type": "display_data",
          "data": {
            "text/plain": [
              "<Figure size 576x432 with 2 Axes>"
            ],
            "image/png": "[encoded data removed]"
          },
          "metadata": {
            "needs_background": "light"
          }
        }
      ]
    },
    {
      "cell_type": "markdown",
      "source": [
        "##### (1.3) SVM"
      ],
      "metadata": {
        "id": "XfqQl-O4jOzF"
      }
    },
    {
      "cell_type": "code",
      "source": [
        "vect = CountVectorizer(ngram_range=(1,3), preprocessor=clean) # Step-1\n",
        "X_train_dtm = vect.fit_transform(X_train) # combined step 2 and 3\n",
        "X_test_dtm = vect.transform(X_test)\n",
        "\n",
        "classifier = LinearSVC(class_weight='balanced') # instantiate a logistic regression model\n",
        "classifier.fit(X_train_dtm, y_train) # fit the model with training data\n",
        "\n",
        "# Make predictions on test data\n",
        "y_pred_class = classifier.predict(X_test_dtm)\n",
        "\n",
        "# calculate evaluation measures:\n",
        "print(\"Accuracy: \", metrics.accuracy_score(y_test, y_pred_class))\n",
        "print(\"Recall:\",metrics.recall_score(y_test, y_pred_class))\n",
        "print(\"F1 score:\",metrics.f1_score(y_test, y_pred_class))\n",
        "cnf_matrix = confusion_matrix(y_test, y_pred_class)\n",
        "plt.figure(figsize=(8,6))\n",
        "plot_confusion_matrix(cnf_matrix, classes=['Not Relevant','Relevant'],normalize=True,\n",
        "                      title='Confusion matrix with normalization')"
      ],
      "metadata": {
        "colab": {
          "base_uri": "https://localhost:8080/",
          "height": 512
        },
        "id": "f3cV0aX-jNUj",
        "outputId": "d7e9ab3b-297e-4850-93f2-02ee56fc6ebb"
      },
      "execution_count": 45,
      "outputs": [
        {
          "output_type": "stream",
          "name": "stdout",
          "text": [
            "Accuracy:  0.8589881593110872\n",
            "Recall: 0.8796689778573026\n",
            "F1 score: 0.8696517412935323\n"
          ]
        },
        {
          "output_type": "display_data",
          "data": {
            "text/plain": [
              "<Figure size 576x432 with 2 Axes>"
            ],
            "image/png": "[encoded data removed]"
          },
          "metadata": {
            "needs_background": "light"
          }
        }
      ]
    },
    {
      "cell_type": "markdown",
      "source": [
        "By using the Bag of words text representation method, the F1-scores of the Naive Bayes classifier and the logistics regression decrease. On the contrary, the SVM classifier performs the best by improving the F1-score from 0.85 to 0.87."
      ],
      "metadata": {
        "id": "03jBeUetjdqk"
      }
    },
    {
      "cell_type": "markdown",
      "source": [
        "#### (2) TF-IDF representation"
      ],
      "metadata": {
        "id": "7DtY2sO2jZI1"
      }
    },
    {
      "cell_type": "code",
      "source": [
        "from sklearn.feature_extraction.text import TfidfVectorizer\n",
        "\n",
        "tfidf = TfidfVectorizer(preprocessor=clean, ngram_range = (1,3))\n",
        "X_train_dtm = tfidf.fit_transform(X_train)\n",
        "X_test_dtm = tfidf.transform(X_test)\n",
        "print(X_train_dtm.shape, X_test_dtm.shape)"
      ],
      "metadata": {
        "colab": {
          "base_uri": "https://localhost:8080/"
        },
        "id": "rJkDfzCCjVQt",
        "outputId": "54d491e8-5691-4355-dc4b-2fead8e4ee58"
      },
      "execution_count": 46,
      "outputs": [
        {
          "output_type": "stream",
          "name": "stdout",
          "text": [
            "(25083, 631705) (8361, 631705)\n"
          ]
        }
      ]
    },
    {
      "cell_type": "markdown",
      "source": [
        "##### (2.1) Naive Bayes"
      ],
      "metadata": {
        "id": "8dxZaR5ukAeK"
      }
    },
    {
      "cell_type": "code",
      "execution_count": 48,
      "metadata": {
        "colab": {
          "base_uri": "https://localhost:8080/"
        },
        "outputId": "fc074369-ffb4-4aad-e15b-d2428b5ac9d7",
        "id": "rz6vpTyGPzH1"
      },
      "outputs": [
        {
          "output_type": "stream",
          "name": "stdout",
          "text": [
            "CPU times: user 89.5 ms, sys: 1.02 ms, total: 90.5 ms\n",
            "Wall time: 213 ms\n"
          ]
        }
      ],
      "source": [
        "# Step 3: Train the classifier and predict for test data\n",
        "nb = MultinomialNB() # instantiate a Multinomial Naive Bayes model\n",
        "%time nb.fit(X_train_dtm, y_train) # train the model(timing it with an IPython \"magic command\")\n",
        "y_pred_class = nb.predict(X_test_dtm) # make class predictions for X_test_dtm"
      ]
    },
    {
      "cell_type": "code",
      "source": [
        "# Print accuracy:\n",
        "print(\"Accuracy: \", metrics.accuracy_score(y_test, y_pred_class))\n",
        "print(\"Recall:\",metrics.recall_score(y_test, y_pred_class))\n",
        "print(\"F1 score:\",metrics.f1_score(y_test, y_pred_class))\n",
        "    \n",
        "# print the confusion matrix\n",
        "cnf_matrix = confusion_matrix(y_test, y_pred_class)\n",
        "plt.figure(figsize=(8,6))\n",
        "plot_confusion_matrix(cnf_matrix, classes=['Not Relevant','Relevant'],normalize=True,\n",
        "                      title='Confusion matrix with all features')"
      ],
      "metadata": {
        "colab": {
          "base_uri": "https://localhost:8080/",
          "height": 512
        },
        "id": "4UJn001IkYJD",
        "outputId": "04b93339-4157-4094-fa69-c44597bff124"
      },
      "execution_count": 49,
      "outputs": [
        {
          "output_type": "stream",
          "name": "stdout",
          "text": [
            "Accuracy:  0.7493122832197106\n",
            "Recall: 0.9416237978080966\n",
            "F1 score: 0.8006846709775581\n"
          ]
        },
        {
          "output_type": "display_data",
          "data": {
            "text/plain": [
              "<Figure size 576x432 with 2 Axes>"
            ],
            "image/png": "[encoded data removed]"
          },
          "metadata": {
            "needs_background": "light"
          }
        }
      ]
    },
    {
      "cell_type": "markdown",
      "source": [
        "##### (2.2) Logistics Regression"
      ],
      "metadata": {
        "id": "jgo-j9MOkD6H"
      }
    },
    {
      "cell_type": "code",
      "execution_count": 50,
      "metadata": {
        "colab": {
          "base_uri": "https://localhost:8080/",
          "height": 512
        },
        "outputId": "b3df8218-d026-404f-f0d6-ba5f56b4b48e",
        "id": "S2HxdoQcyc3_"
      },
      "outputs": [
        {
          "output_type": "stream",
          "name": "stdout",
          "text": [
            "Accuracy:  0.8231072838177251\n",
            "Recall: 0.8358309103108924\n",
            "F1 score: 0.8348039763207862\n"
          ]
        },
        {
          "output_type": "display_data",
          "data": {
            "text/plain": [
              "<Figure size 576x432 with 2 Axes>"
            ],
            "image/png": "[encoded data removed]"
          },
          "metadata": {
            "needs_background": "light"
          }
        }
      ],
      "source": [
        "logreg = LogisticRegression(class_weight=\"balanced\") # instantiate a logistic regression model\n",
        "logreg.fit(X_train_dtm, y_train) # fit the model with training data\n",
        "\n",
        "# Make predictions on test data\n",
        "y_pred_class = logreg.predict(X_test_dtm)\n",
        "\n",
        "# calculate evaluation measures:\n",
        "print(\"Accuracy: \", accuracy_score(y_test, y_pred_class))\n",
        "print(\"Recall:\",metrics.recall_score(y_test, y_pred_class))\n",
        "print(\"F1 score:\",metrics.f1_score(y_test, y_pred_class))\n",
        "cnf_matrix = confusion_matrix(y_test, y_pred_class)\n",
        "plt.figure(figsize=(8,6))\n",
        "plot_confusion_matrix(cnf_matrix, classes=['Not Relevant','Relevant'],normalize=True,\n",
        "                      title='Confusion matrix with normalization')"
      ]
    },
    {
      "cell_type": "markdown",
      "source": [
        "##### (2.3) SVM"
      ],
      "metadata": {
        "id": "jlANYRsrkMgl"
      }
    },
    {
      "cell_type": "code",
      "source": [
        "classifier = LinearSVC(class_weight='balanced') # instantiate a logistic regression model\n",
        "classifier.fit(X_train_dtm, y_train) # fit the model with training data\n",
        "\n",
        "# Make predictions on test data\n",
        "y_pred_class = classifier.predict(X_test_dtm)\n",
        "\n",
        "# calculate evaluation measures:\n",
        "print(\"Accuracy: \", metrics.accuracy_score(y_test, y_pred_class))\n",
        "print(\"Recall:\",metrics.recall_score(y_test, y_pred_class))\n",
        "print(\"F1 score:\",metrics.f1_score(y_test, y_pred_class))\n",
        "cnf_matrix = confusion_matrix(y_test, y_pred_class)\n",
        "plt.figure(figsize=(8,6))\n",
        "plot_confusion_matrix(cnf_matrix, classes=['Not Relevant','Relevant'],normalize=True,\n",
        "                      title='Confusion matrix with normalization')"
      ],
      "metadata": {
        "colab": {
          "base_uri": "https://localhost:8080/",
          "height": 512
        },
        "id": "IxgWO3tIkiVs",
        "outputId": "0d1d29ec-f216-4d3a-da22-128332c188cd"
      },
      "execution_count": 51,
      "outputs": [
        {
          "output_type": "stream",
          "name": "stdout",
          "text": [
            "Accuracy:  0.8518119842124148\n",
            "Recall: 0.8711697606799373\n",
            "F1 score: 0.8627755011629195\n"
          ]
        },
        {
          "output_type": "display_data",
          "data": {
            "text/plain": [
              "<Figure size 576x432 with 2 Axes>"
            ],
            "image/png": "[encoded data removed]"
          },
          "metadata": {
            "needs_background": "light"
          }
        }
      ]
    },
    {
      "cell_type": "markdown",
      "source": [
        "By using the TF-IDF text representation with n-grams from 1 to 3, the SVM outperforms the other two classifers by improving its F1-score to 0.86, while the others' F1-score decrease simultaneously. "
      ],
      "metadata": {
        "id": "DnMc6gyykpdB"
      }
    },
    {
      "cell_type": "markdown",
      "source": [
        "#### (3) Word Embedding or Document Embedding"
      ],
      "metadata": {
        "id": "fdbgXyKulM7r"
      }
    },
    {
      "cell_type": "markdown",
      "source": [
        "##### (3.1) Preparing Vectors for Tweets"
      ],
      "metadata": {
        "id": "t7BjMkq7ymiq"
      }
    },
    {
      "cell_type": "code",
      "source": [
        "from gensim.models import Word2Vec\n",
        "tweets = df1['OriginalTweet'].apply(lambda x: x.split())\n",
        "w2v_model = Word2Vec(tweets, size=300, window=5, min_count=2, workers=16, seed = 34)"
      ],
      "metadata": {
        "id": "tW2HJScxtdw8"
      },
      "execution_count": 25,
      "outputs": []
    },
    {
      "cell_type": "code",
      "source": [
        "def word_vector(tweet):\n",
        "  vec = np.zeros(300).reshape((1, 300))\n",
        "  count = 0\n",
        "  for word in tweet:\n",
        "    try:\n",
        "      vec += w2v_model[word].reshape((1, 300))\n",
        "      count += 1\n",
        "    except KeyError:\n",
        "      continue\n",
        "  if count != 0:\n",
        "    vec /= count\n",
        "  return vec"
      ],
      "metadata": {
        "id": "QXEVZDiXtpS1"
      },
      "execution_count": 56,
      "outputs": []
    },
    {
      "cell_type": "code",
      "source": [
        "wordvec_arrays = np.zeros(((len(tweets)), 300))\n",
        "for i in range(len(tweets)):\n",
        "  wordvec_arrays[i,:] = word_vector(tweets[i])"
      ],
      "metadata": {
        "id": "_ijRv_6uuWB6"
      },
      "execution_count": 57,
      "outputs": []
    },
    {
      "cell_type": "code",
      "source": [
        "wordvec_df = pd.DataFrame(wordvec_arrays)\n",
        "wordvec_df"
      ],
      "metadata": {
        "colab": {
          "base_uri": "https://localhost:8080/",
          "height": 487
        },
        "id": "bE-GQvRSvE6s",
        "outputId": "e949444c-7309-40cd-873e-dab3f8504e5d"
      },
      "execution_count": 58,
      "outputs": [
        {
          "output_type": "execute_result",
          "data": {
            "text/plain": [
              "            0         1         2         3         4         5         6    \\\n",
              "0      0.363447 -0.294811 -0.020796  0.096552  0.159397 -0.015228  0.279369   \n",
              "1      0.644120 -0.519401 -0.040454  0.129201  0.191703  0.112008  0.291837   \n",
              "2      0.595771 -0.451649 -0.144241  0.108994 -0.003102 -0.029049  0.415259   \n",
              "3      0.608977 -0.444382 -0.132595  0.060604 -0.051587  0.122360  0.408640   \n",
              "4      0.497242 -0.340885 -0.167460  0.185959 -0.026932  0.124842  0.328093   \n",
              "...         ...       ...       ...       ...       ...       ...       ...   \n",
              "33439  0.534114 -0.232819 -0.037035  0.095522  0.023325  0.175626  0.327533   \n",
              "33440  0.511177 -0.339124 -0.037076  0.103551 -0.001348  0.206920  0.301285   \n",
              "33441  0.443702 -0.159481 -0.036290  0.267735  0.249707 -0.044319  0.210942   \n",
              "33442  0.913654 -0.252907 -0.084015  0.281287 -0.126588  0.191148  0.461515   \n",
              "33443  0.422615 -0.294282 -0.073060  0.015062  0.185319  0.071690  0.224683   \n",
              "\n",
              "            7         8         9    ...       290       291       292  \\\n",
              "0     -0.068683  0.187676  0.045649  ...  0.271331  0.055288  0.161028   \n",
              "1     -0.079559  0.109901  0.124466  ...  0.332081  0.213502 -0.090339   \n",
              "2     -0.065599  0.112860  0.030410  ...  0.404063  0.180608  0.132144   \n",
              "3     -0.153531 -0.047992  0.055885  ...  0.308520  0.181426  0.060875   \n",
              "4     -0.123740  0.077996  0.079604  ...  0.183208  0.048982  0.168467   \n",
              "...         ...       ...       ...  ...       ...       ...       ...   \n",
              "33439 -0.102110 -0.036340  0.131844  ...  0.259801  0.039711  0.198987   \n",
              "33440  0.008318 -0.032171  0.156037  ...  0.218922  0.003495  0.199930   \n",
              "33441 -0.086813  0.196336 -0.012426  ...  0.361037  0.149299  0.003925   \n",
              "33442 -0.132735 -0.162266  0.136288  ...  0.367689  0.154722  0.456398   \n",
              "33443 -0.101521  0.058660  0.058285  ...  0.197160  0.194720  0.133514   \n",
              "\n",
              "            293       294       295       296       297       298       299  \n",
              "0     -0.230850  0.294848 -0.117322 -0.041281  0.053718  0.122380 -0.038740  \n",
              "1     -0.576539  0.349629 -0.423677 -0.019160  0.144996  0.239099  0.050753  \n",
              "2     -0.378418  0.178602 -0.031381 -0.059790  0.079066  0.538456 -0.043671  \n",
              "3     -0.519460  0.206513 -0.147702  0.022501  0.085853  0.564600 -0.038606  \n",
              "4     -0.296680  0.198406 -0.052622  0.108269  0.095911  0.344861  0.029497  \n",
              "...         ...       ...       ...       ...       ...       ...       ...  \n",
              "33439 -0.391784  0.065228 -0.218810  0.098413  0.105008  0.324224  0.062732  \n",
              "33440 -0.376674  0.075932 -0.260833  0.016034  0.049422  0.312369  0.123828  \n",
              "33441 -0.134626  0.404021 -0.031300 -0.053833  0.196910  0.018478  0.040903  \n",
              "33442 -0.525083 -0.064620 -0.154753  0.170071  0.169261  0.620058 -0.051631  \n",
              "33443 -0.252605  0.178439 -0.191364 -0.039197  0.022305  0.155281  0.093443  \n",
              "\n",
              "[33444 rows x 300 columns]"
            ],
            "text/html": [
              "\n",
              "  <div id=\"df-7c73c336-8cd2-4874-8af7-14ec8b422ac8\">\n",
              "    <div class=\"colab-df-container\">\n",
              "      <div>\n",
              "<style scoped>\n",
              "    .dataframe tbody tr th:only-of-type {\n",
              "        vertical-align: middle;\n",
              "    }\n",
              "\n",
              "    .dataframe tbody tr th {\n",
              "        vertical-align: top;\n",
              "    }\n",
              "\n",
              "    .dataframe thead th {\n",
              "        text-align: right;\n",
              "    }\n",
              "</style>\n",
              "<table border=\"1\" class=\"dataframe\">\n",
              "  <thead>\n",
              "    <tr style=\"text-align: right;\">\n",
              "      <th></th>\n",
              "      <th>0</th>\n",
              "      <th>1</th>\n",
              "      <th>2</th>\n",
              "      <th>3</th>\n",
              "      <th>4</th>\n",
              "      <th>5</th>\n",
              "      <th>6</th>\n",
              "      <th>7</th>\n",
              "      <th>8</th>\n",
              "      <th>9</th>\n",
              "      <th>...</th>\n",
              "      <th>290</th>\n",
              "      <th>291</th>\n",
              "      <th>292</th>\n",
              "      <th>293</th>\n",
              "      <th>294</th>\n",
              "      <th>295</th>\n",
              "      <th>296</th>\n",
              "      <th>297</th>\n",
              "      <th>298</th>\n",
              "      <th>299</th>\n",
              "    </tr>\n",
              "  </thead>\n",
              "  <tbody>\n",
              "    <tr>\n",
              "      <th>0</th>\n",
              "      <td>0.363447</td>\n",
              "      <td>-0.294811</td>\n",
              "      <td>-0.020796</td>\n",
              "      <td>0.096552</td>\n",
              "      <td>0.159397</td>\n",
              "      <td>-0.015228</td>\n",
              "      <td>0.279369</td>\n",
              "      <td>-0.068683</td>\n",
              "      <td>0.187676</td>\n",
              "      <td>0.045649</td>\n",
              "      <td>...</td>\n",
              "      <td>0.271331</td>\n",
              "      <td>0.055288</td>\n",
              "      <td>0.161028</td>\n",
              "      <td>-0.230850</td>\n",
              "      <td>0.294848</td>\n",
              "      <td>-0.117322</td>\n",
              "      <td>-0.041281</td>\n",
              "      <td>0.053718</td>\n",
              "      <td>0.122380</td>\n",
              "      <td>-0.038740</td>\n",
              "    </tr>\n",
              "    <tr>\n",
              "      <th>1</th>\n",
              "      <td>0.644120</td>\n",
              "      <td>-0.519401</td>\n",
              "      <td>-0.040454</td>\n",
              "      <td>0.129201</td>\n",
              "      <td>0.191703</td>\n",
              "      <td>0.112008</td>\n",
              "      <td>0.291837</td>\n",
              "      <td>-0.079559</td>\n",
              "      <td>0.109901</td>\n",
              "      <td>0.124466</td>\n",
              "      <td>...</td>\n",
              "      <td>0.332081</td>\n",
              "      <td>0.213502</td>\n",
              "      <td>-0.090339</td>\n",
              "      <td>-0.576539</td>\n",
              "      <td>0.349629</td>\n",
              "      <td>-0.423677</td>\n",
              "      <td>-0.019160</td>\n",
              "      <td>0.144996</td>\n",
              "      <td>0.239099</td>\n",
              "      <td>0.050753</td>\n",
              "    </tr>\n",
              "    <tr>\n",
              "      <th>2</th>\n",
              "      <td>0.595771</td>\n",
              "      <td>-0.451649</td>\n",
              "      <td>-0.144241</td>\n",
              "      <td>0.108994</td>\n",
              "      <td>-0.003102</td>\n",
              "      <td>-0.029049</td>\n",
              "      <td>0.415259</td>\n",
              "      <td>-0.065599</td>\n",
              "      <td>0.112860</td>\n",
              "      <td>0.030410</td>\n",
              "      <td>...</td>\n",
              "      <td>0.404063</td>\n",
              "      <td>0.180608</td>\n",
              "      <td>0.132144</td>\n",
              "      <td>-0.378418</td>\n",
              "      <td>0.178602</td>\n",
              "      <td>-0.031381</td>\n",
              "      <td>-0.059790</td>\n",
              "      <td>0.079066</td>\n",
              "      <td>0.538456</td>\n",
              "      <td>-0.043671</td>\n",
              "    </tr>\n",
              "    <tr>\n",
              "      <th>3</th>\n",
              "      <td>0.608977</td>\n",
              "      <td>-0.444382</td>\n",
              "      <td>-0.132595</td>\n",
              "      <td>0.060604</td>\n",
              "      <td>-0.051587</td>\n",
              "      <td>0.122360</td>\n",
              "      <td>0.408640</td>\n",
              "      <td>-0.153531</td>\n",
              "      <td>-0.047992</td>\n",
              "      <td>0.055885</td>\n",
              "      <td>...</td>\n",
              "      <td>0.308520</td>\n",
              "      <td>0.181426</td>\n",
              "      <td>0.060875</td>\n",
              "      <td>-0.519460</td>\n",
              "      <td>0.206513</td>\n",
              "      <td>-0.147702</td>\n",
              "      <td>0.022501</td>\n",
              "      <td>0.085853</td>\n",
              "      <td>0.564600</td>\n",
              "      <td>-0.038606</td>\n",
              "    </tr>\n",
              "    <tr>\n",
              "      <th>4</th>\n",
              "      <td>0.497242</td>\n",
              "      <td>-0.340885</td>\n",
              "      <td>-0.167460</td>\n",
              "      <td>0.185959</td>\n",
              "      <td>-0.026932</td>\n",
              "      <td>0.124842</td>\n",
              "      <td>0.328093</td>\n",
              "      <td>-0.123740</td>\n",
              "      <td>0.077996</td>\n",
              "      <td>0.079604</td>\n",
              "      <td>...</td>\n",
              "      <td>0.183208</td>\n",
              "      <td>0.048982</td>\n",
              "      <td>0.168467</td>\n",
              "      <td>-0.296680</td>\n",
              "      <td>0.198406</td>\n",
              "      <td>-0.052622</td>\n",
              "      <td>0.108269</td>\n",
              "      <td>0.095911</td>\n",
              "      <td>0.344861</td>\n",
              "      <td>0.029497</td>\n",
              "    </tr>\n",
              "    <tr>\n",
              "      <th>...</th>\n",
              "      <td>...</td>\n",
              "      <td>...</td>\n",
              "      <td>...</td>\n",
              "      <td>...</td>\n",
              "      <td>...</td>\n",
              "      <td>...</td>\n",
              "      <td>...</td>\n",
              "      <td>...</td>\n",
              "      <td>...</td>\n",
              "      <td>...</td>\n",
              "      <td>...</td>\n",
              "      <td>...</td>\n",
              "      <td>...</td>\n",
              "      <td>...</td>\n",
              "      <td>...</td>\n",
              "      <td>...</td>\n",
              "      <td>...</td>\n",
              "      <td>...</td>\n",
              "      <td>...</td>\n",
              "      <td>...</td>\n",
              "      <td>...</td>\n",
              "    </tr>\n",
              "    <tr>\n",
              "      <th>33439</th>\n",
              "      <td>0.534114</td>\n",
              "      <td>-0.232819</td>\n",
              "      <td>-0.037035</td>\n",
              "      <td>0.095522</td>\n",
              "      <td>0.023325</td>\n",
              "      <td>0.175626</td>\n",
              "      <td>0.327533</td>\n",
              "      <td>-0.102110</td>\n",
              "      <td>-0.036340</td>\n",
              "      <td>0.131844</td>\n",
              "      <td>...</td>\n",
              "      <td>0.259801</td>\n",
              "      <td>0.039711</td>\n",
              "      <td>0.198987</td>\n",
              "      <td>-0.391784</td>\n",
              "      <td>0.065228</td>\n",
              "      <td>-0.218810</td>\n",
              "      <td>0.098413</td>\n",
              "      <td>0.105008</td>\n",
              "      <td>0.324224</td>\n",
              "      <td>0.062732</td>\n",
              "    </tr>\n",
              "    <tr>\n",
              "      <th>33440</th>\n",
              "      <td>0.511177</td>\n",
              "      <td>-0.339124</td>\n",
              "      <td>-0.037076</td>\n",
              "      <td>0.103551</td>\n",
              "      <td>-0.001348</td>\n",
              "      <td>0.206920</td>\n",
              "      <td>0.301285</td>\n",
              "      <td>0.008318</td>\n",
              "      <td>-0.032171</td>\n",
              "      <td>0.156037</td>\n",
              "      <td>...</td>\n",
              "      <td>0.218922</td>\n",
              "      <td>0.003495</td>\n",
              "      <td>0.199930</td>\n",
              "      <td>-0.376674</td>\n",
              "      <td>0.075932</td>\n",
              "      <td>-0.260833</td>\n",
              "      <td>0.016034</td>\n",
              "      <td>0.049422</td>\n",
              "      <td>0.312369</td>\n",
              "      <td>0.123828</td>\n",
              "    </tr>\n",
              "    <tr>\n",
              "      <th>33441</th>\n",
              "      <td>0.443702</td>\n",
              "      <td>-0.159481</td>\n",
              "      <td>-0.036290</td>\n",
              "      <td>0.267735</td>\n",
              "      <td>0.249707</td>\n",
              "      <td>-0.044319</td>\n",
              "      <td>0.210942</td>\n",
              "      <td>-0.086813</td>\n",
              "      <td>0.196336</td>\n",
              "      <td>-0.012426</td>\n",
              "      <td>...</td>\n",
              "      <td>0.361037</td>\n",
              "      <td>0.149299</td>\n",
              "      <td>0.003925</td>\n",
              "      <td>-0.134626</td>\n",
              "      <td>0.404021</td>\n",
              "      <td>-0.031300</td>\n",
              "      <td>-0.053833</td>\n",
              "      <td>0.196910</td>\n",
              "      <td>0.018478</td>\n",
              "      <td>0.040903</td>\n",
              "    </tr>\n",
              "    <tr>\n",
              "      <th>33442</th>\n",
              "      <td>0.913654</td>\n",
              "      <td>-0.252907</td>\n",
              "      <td>-0.084015</td>\n",
              "      <td>0.281287</td>\n",
              "      <td>-0.126588</td>\n",
              "      <td>0.191148</td>\n",
              "      <td>0.461515</td>\n",
              "      <td>-0.132735</td>\n",
              "      <td>-0.162266</td>\n",
              "      <td>0.136288</td>\n",
              "      <td>...</td>\n",
              "      <td>0.367689</td>\n",
              "      <td>0.154722</td>\n",
              "      <td>0.456398</td>\n",
              "      <td>-0.525083</td>\n",
              "      <td>-0.064620</td>\n",
              "      <td>-0.154753</td>\n",
              "      <td>0.170071</td>\n",
              "      <td>0.169261</td>\n",
              "      <td>0.620058</td>\n",
              "      <td>-0.051631</td>\n",
              "    </tr>\n",
              "    <tr>\n",
              "      <th>33443</th>\n",
              "      <td>0.422615</td>\n",
              "      <td>-0.294282</td>\n",
              "      <td>-0.073060</td>\n",
              "      <td>0.015062</td>\n",
              "      <td>0.185319</td>\n",
              "      <td>0.071690</td>\n",
              "      <td>0.224683</td>\n",
              "      <td>-0.101521</td>\n",
              "      <td>0.058660</td>\n",
              "      <td>0.058285</td>\n",
              "      <td>...</td>\n",
              "      <td>0.197160</td>\n",
              "      <td>0.194720</td>\n",
              "      <td>0.133514</td>\n",
              "      <td>-0.252605</td>\n",
              "      <td>0.178439</td>\n",
              "      <td>-0.191364</td>\n",
              "      <td>-0.039197</td>\n",
              "      <td>0.022305</td>\n",
              "      <td>0.155281</td>\n",
              "      <td>0.093443</td>\n",
              "    </tr>\n",
              "  </tbody>\n",
              "</table>\n",
              "<p>33444 rows × 300 columns</p>\n",
              "</div>\n",
              "      <button class=\"colab-df-convert\" onclick=\"convertToInteractive('df-7c73c336-8cd2-4874-8af7-14ec8b422ac8')\"\n",
              "              title=\"Convert this dataframe to an interactive table.\"\n",
              "              style=\"display:none;\">\n",
              "        \n",
              "  <svg xmlns=\"http://www.w3.org/2000/svg\" height=\"24px\"viewBox=\"0 0 24 24\"\n",
              "       width=\"24px\">\n",
              "    <path d=\"M0 0h24v24H0V0z\" fill=\"none\"/>\n",
              "    <path d=\"M18.56 5.44l.94 2.06.94-2.06 2.06-.94-2.06-.94-.94-2.06-.94 2.06-2.06.94zm-11 1L8.5 8.5l.94-2.06 2.06-.94-2.06-.94L8.5 2.5l-.94 2.06-2.06.94zm10 10l.94 2.06.94-2.06 2.06-.94-2.06-.94-.94-2.06-.94 2.06-2.06.94z\"/><path d=\"M17.41 7.96l-1.37-1.37c-.4-.4-.92-.59-1.43-.59-.52 0-1.04.2-1.43.59L10.3 9.45l-7.72 7.72c-.78.78-.78 2.05 0 2.83L4 21.41c.39.39.9.59 1.41.59.51 0 1.02-.2 1.41-.59l7.78-7.78 2.81-2.81c.8-.78.8-2.07 0-2.86zM5.41 20L4 18.59l7.72-7.72 1.47 1.35L5.41 20z\"/>\n",
              "  </svg>\n",
              "      </button>\n",
              "      \n",
              "  <style>\n",
              "    .colab-df-container {\n",
              "      display:flex;\n",
              "      flex-wrap:wrap;\n",
              "      gap: 12px;\n",
              "    }\n",
              "\n",
              "    .colab-df-convert {\n",
              "      background-color: #E8F0FE;\n",
              "      border: none;\n",
              "      border-radius: 50%;\n",
              "      cursor: pointer;\n",
              "      display: none;\n",
              "      fill: #1967D2;\n",
              "      height: 32px;\n",
              "      padding: 0 0 0 0;\n",
              "      width: 32px;\n",
              "    }\n",
              "\n",
              "    .colab-df-convert:hover {\n",
              "      background-color: #E2EBFA;\n",
              "      box-shadow: 0px 1px 2px rgba(60, 64, 67, 0.3), 0px 1px 3px 1px rgba(60, 64, 67, 0.15);\n",
              "      fill: #174EA6;\n",
              "    }\n",
              "\n",
              "    [theme=dark] .colab-df-convert {\n",
              "      background-color: #3B4455;\n",
              "      fill: #D2E3FC;\n",
              "    }\n",
              "\n",
              "    [theme=dark] .colab-df-convert:hover {\n",
              "      background-color: #434B5C;\n",
              "      box-shadow: 0px 1px 3px 1px rgba(0, 0, 0, 0.15);\n",
              "      filter: drop-shadow(0px 1px 2px rgba(0, 0, 0, 0.3));\n",
              "      fill: #FFFFFF;\n",
              "    }\n",
              "  </style>\n",
              "\n",
              "      <script>\n",
              "        const buttonEl =\n",
              "          document.querySelector('#df-7c73c336-8cd2-4874-8af7-14ec8b422ac8 button.colab-df-convert');\n",
              "        buttonEl.style.display =\n",
              "          google.colab.kernel.accessAllowed ? 'block' : 'none';\n",
              "\n",
              "        async function convertToInteractive(key) {\n",
              "          const element = document.querySelector('#df-7c73c336-8cd2-4874-8af7-14ec8b422ac8');\n",
              "          const dataTable =\n",
              "            await google.colab.kernel.invokeFunction('convertToInteractive',\n",
              "                                                     [key], {});\n",
              "          if (!dataTable) return;\n",
              "\n",
              "          const docLinkHtml = 'Like what you see? Visit the ' +\n",
              "            '<a target=\"_blank\" href=https://colab.research.google.com/notebooks/data_table.ipynb>data table notebook</a>'\n",
              "            + ' to learn more about interactive tables.';\n",
              "          element.innerHTML = '';\n",
              "          dataTable['output_type'] = 'display_data';\n",
              "          await google.colab.output.renderOutput(dataTable, element);\n",
              "          const docLink = document.createElement('div');\n",
              "          docLink.innerHTML = docLinkHtml;\n",
              "          element.appendChild(docLink);\n",
              "        }\n",
              "      </script>\n",
              "    </div>\n",
              "  </div>\n",
              "  "
            ]
          },
          "metadata": {},
          "execution_count": 58
        }
      ]
    },
    {
      "cell_type": "code",
      "source": [
        "wordvec_df = pd.concat([wordvec_df, df1['sentiment_score']], axis = 1)"
      ],
      "metadata": {
        "id": "7wquxx1UvYpA"
      },
      "execution_count": 59,
      "outputs": []
    },
    {
      "cell_type": "code",
      "source": [
        "wordvec_df"
      ],
      "metadata": {
        "colab": {
          "base_uri": "https://localhost:8080/",
          "height": 487
        },
        "id": "9LmyXrzSx4Pj",
        "outputId": "2eb1b28c-542e-4019-bab5-b1faeeeb890a"
      },
      "execution_count": 60,
      "outputs": [
        {
          "output_type": "execute_result",
          "data": {
            "text/plain": [
              "              0         1         2         3         4         5         6  \\\n",
              "0      0.363447 -0.294811 -0.020796  0.096552  0.159397 -0.015228  0.279369   \n",
              "1      0.644120 -0.519401 -0.040454  0.129201  0.191703  0.112008  0.291837   \n",
              "2      0.595771 -0.451649 -0.144241  0.108994 -0.003102 -0.029049  0.415259   \n",
              "3      0.608977 -0.444382 -0.132595  0.060604 -0.051587  0.122360  0.408640   \n",
              "4      0.497242 -0.340885 -0.167460  0.185959 -0.026932  0.124842  0.328093   \n",
              "...         ...       ...       ...       ...       ...       ...       ...   \n",
              "33439  0.534114 -0.232819 -0.037035  0.095522  0.023325  0.175626  0.327533   \n",
              "33440  0.511177 -0.339124 -0.037076  0.103551 -0.001348  0.206920  0.301285   \n",
              "33441  0.443702 -0.159481 -0.036290  0.267735  0.249707 -0.044319  0.210942   \n",
              "33442  0.913654 -0.252907 -0.084015  0.281287 -0.126588  0.191148  0.461515   \n",
              "33443  0.422615 -0.294282 -0.073060  0.015062  0.185319  0.071690  0.224683   \n",
              "\n",
              "              7         8         9  ...       291       292       293  \\\n",
              "0     -0.068683  0.187676  0.045649  ...  0.055288  0.161028 -0.230850   \n",
              "1     -0.079559  0.109901  0.124466  ...  0.213502 -0.090339 -0.576539   \n",
              "2     -0.065599  0.112860  0.030410  ...  0.180608  0.132144 -0.378418   \n",
              "3     -0.153531 -0.047992  0.055885  ...  0.181426  0.060875 -0.519460   \n",
              "4     -0.123740  0.077996  0.079604  ...  0.048982  0.168467 -0.296680   \n",
              "...         ...       ...       ...  ...       ...       ...       ...   \n",
              "33439 -0.102110 -0.036340  0.131844  ...  0.039711  0.198987 -0.391784   \n",
              "33440  0.008318 -0.032171  0.156037  ...  0.003495  0.199930 -0.376674   \n",
              "33441 -0.086813  0.196336 -0.012426  ...  0.149299  0.003925 -0.134626   \n",
              "33442 -0.132735 -0.162266  0.136288  ...  0.154722  0.456398 -0.525083   \n",
              "33443 -0.101521  0.058660  0.058285  ...  0.194720  0.133514 -0.252605   \n",
              "\n",
              "            294       295       296       297       298       299  \\\n",
              "0      0.294848 -0.117322 -0.041281  0.053718  0.122380 -0.038740   \n",
              "1      0.349629 -0.423677 -0.019160  0.144996  0.239099  0.050753   \n",
              "2      0.178602 -0.031381 -0.059790  0.079066  0.538456 -0.043671   \n",
              "3      0.206513 -0.147702  0.022501  0.085853  0.564600 -0.038606   \n",
              "4      0.198406 -0.052622  0.108269  0.095911  0.344861  0.029497   \n",
              "...         ...       ...       ...       ...       ...       ...   \n",
              "33439  0.065228 -0.218810  0.098413  0.105008  0.324224  0.062732   \n",
              "33440  0.075932 -0.260833  0.016034  0.049422  0.312369  0.123828   \n",
              "33441  0.404021 -0.031300 -0.053833  0.196910  0.018478  0.040903   \n",
              "33442 -0.064620 -0.154753  0.170071  0.169261  0.620058 -0.051631   \n",
              "33443  0.178439 -0.191364 -0.039197  0.022305  0.155281  0.093443   \n",
              "\n",
              "       sentiment_score  \n",
              "0                    1  \n",
              "1                    1  \n",
              "2                    1  \n",
              "3                    0  \n",
              "4                    1  \n",
              "...                ...  \n",
              "33439                1  \n",
              "33440                1  \n",
              "33441                0  \n",
              "33442                1  \n",
              "33443                0  \n",
              "\n",
              "[33444 rows x 301 columns]"
            ],
            "text/html": [
              "\n",
              "  <div id=\"df-8580f120-5250-4c2f-8ac6-45b8e6d60eca\">\n",
              "    <div class=\"colab-df-container\">\n",
              "      <div>\n",
              "<style scoped>\n",
              "    .dataframe tbody tr th:only-of-type {\n",
              "        vertical-align: middle;\n",
              "    }\n",
              "\n",
              "    .dataframe tbody tr th {\n",
              "        vertical-align: top;\n",
              "    }\n",
              "\n",
              "    .dataframe thead th {\n",
              "        text-align: right;\n",
              "    }\n",
              "</style>\n",
              "<table border=\"1\" class=\"dataframe\">\n",
              "  <thead>\n",
              "    <tr style=\"text-align: right;\">\n",
              "      <th></th>\n",
              "      <th>0</th>\n",
              "      <th>1</th>\n",
              "      <th>2</th>\n",
              "      <th>3</th>\n",
              "      <th>4</th>\n",
              "      <th>5</th>\n",
              "      <th>6</th>\n",
              "      <th>7</th>\n",
              "      <th>8</th>\n",
              "      <th>9</th>\n",
              "      <th>...</th>\n",
              "      <th>291</th>\n",
              "      <th>292</th>\n",
              "      <th>293</th>\n",
              "      <th>294</th>\n",
              "      <th>295</th>\n",
              "      <th>296</th>\n",
              "      <th>297</th>\n",
              "      <th>298</th>\n",
              "      <th>299</th>\n",
              "      <th>sentiment_score</th>\n",
              "    </tr>\n",
              "  </thead>\n",
              "  <tbody>\n",
              "    <tr>\n",
              "      <th>0</th>\n",
              "      <td>0.363447</td>\n",
              "      <td>-0.294811</td>\n",
              "      <td>-0.020796</td>\n",
              "      <td>0.096552</td>\n",
              "      <td>0.159397</td>\n",
              "      <td>-0.015228</td>\n",
              "      <td>0.279369</td>\n",
              "      <td>-0.068683</td>\n",
              "      <td>0.187676</td>\n",
              "      <td>0.045649</td>\n",
              "      <td>...</td>\n",
              "      <td>0.055288</td>\n",
              "      <td>0.161028</td>\n",
              "      <td>-0.230850</td>\n",
              "      <td>0.294848</td>\n",
              "      <td>-0.117322</td>\n",
              "      <td>-0.041281</td>\n",
              "      <td>0.053718</td>\n",
              "      <td>0.122380</td>\n",
              "      <td>-0.038740</td>\n",
              "      <td>1</td>\n",
              "    </tr>\n",
              "    <tr>\n",
              "      <th>1</th>\n",
              "      <td>0.644120</td>\n",
              "      <td>-0.519401</td>\n",
              "      <td>-0.040454</td>\n",
              "      <td>0.129201</td>\n",
              "      <td>0.191703</td>\n",
              "      <td>0.112008</td>\n",
              "      <td>0.291837</td>\n",
              "      <td>-0.079559</td>\n",
              "      <td>0.109901</td>\n",
              "      <td>0.124466</td>\n",
              "      <td>...</td>\n",
              "      <td>0.213502</td>\n",
              "      <td>-0.090339</td>\n",
              "      <td>-0.576539</td>\n",
              "      <td>0.349629</td>\n",
              "      <td>-0.423677</td>\n",
              "      <td>-0.019160</td>\n",
              "      <td>0.144996</td>\n",
              "      <td>0.239099</td>\n",
              "      <td>0.050753</td>\n",
              "      <td>1</td>\n",
              "    </tr>\n",
              "    <tr>\n",
              "      <th>2</th>\n",
              "      <td>0.595771</td>\n",
              "      <td>-0.451649</td>\n",
              "      <td>-0.144241</td>\n",
              "      <td>0.108994</td>\n",
              "      <td>-0.003102</td>\n",
              "      <td>-0.029049</td>\n",
              "      <td>0.415259</td>\n",
              "      <td>-0.065599</td>\n",
              "      <td>0.112860</td>\n",
              "      <td>0.030410</td>\n",
              "      <td>...</td>\n",
              "      <td>0.180608</td>\n",
              "      <td>0.132144</td>\n",
              "      <td>-0.378418</td>\n",
              "      <td>0.178602</td>\n",
              "      <td>-0.031381</td>\n",
              "      <td>-0.059790</td>\n",
              "      <td>0.079066</td>\n",
              "      <td>0.538456</td>\n",
              "      <td>-0.043671</td>\n",
              "      <td>1</td>\n",
              "    </tr>\n",
              "    <tr>\n",
              "      <th>3</th>\n",
              "      <td>0.608977</td>\n",
              "      <td>-0.444382</td>\n",
              "      <td>-0.132595</td>\n",
              "      <td>0.060604</td>\n",
              "      <td>-0.051587</td>\n",
              "      <td>0.122360</td>\n",
              "      <td>0.408640</td>\n",
              "      <td>-0.153531</td>\n",
              "      <td>-0.047992</td>\n",
              "      <td>0.055885</td>\n",
              "      <td>...</td>\n",
              "      <td>0.181426</td>\n",
              "      <td>0.060875</td>\n",
              "      <td>-0.519460</td>\n",
              "      <td>0.206513</td>\n",
              "      <td>-0.147702</td>\n",
              "      <td>0.022501</td>\n",
              "      <td>0.085853</td>\n",
              "      <td>0.564600</td>\n",
              "      <td>-0.038606</td>\n",
              "      <td>0</td>\n",
              "    </tr>\n",
              "    <tr>\n",
              "      <th>4</th>\n",
              "      <td>0.497242</td>\n",
              "      <td>-0.340885</td>\n",
              "      <td>-0.167460</td>\n",
              "      <td>0.185959</td>\n",
              "      <td>-0.026932</td>\n",
              "      <td>0.124842</td>\n",
              "      <td>0.328093</td>\n",
              "      <td>-0.123740</td>\n",
              "      <td>0.077996</td>\n",
              "      <td>0.079604</td>\n",
              "      <td>...</td>\n",
              "      <td>0.048982</td>\n",
              "      <td>0.168467</td>\n",
              "      <td>-0.296680</td>\n",
              "      <td>0.198406</td>\n",
              "      <td>-0.052622</td>\n",
              "      <td>0.108269</td>\n",
              "      <td>0.095911</td>\n",
              "      <td>0.344861</td>\n",
              "      <td>0.029497</td>\n",
              "      <td>1</td>\n",
              "    </tr>\n",
              "    <tr>\n",
              "      <th>...</th>\n",
              "      <td>...</td>\n",
              "      <td>...</td>\n",
              "      <td>...</td>\n",
              "      <td>...</td>\n",
              "      <td>...</td>\n",
              "      <td>...</td>\n",
              "      <td>...</td>\n",
              "      <td>...</td>\n",
              "      <td>...</td>\n",
              "      <td>...</td>\n",
              "      <td>...</td>\n",
              "      <td>...</td>\n",
              "      <td>...</td>\n",
              "      <td>...</td>\n",
              "      <td>...</td>\n",
              "      <td>...</td>\n",
              "      <td>...</td>\n",
              "      <td>...</td>\n",
              "      <td>...</td>\n",
              "      <td>...</td>\n",
              "      <td>...</td>\n",
              "    </tr>\n",
              "    <tr>\n",
              "      <th>33439</th>\n",
              "      <td>0.534114</td>\n",
              "      <td>-0.232819</td>\n",
              "      <td>-0.037035</td>\n",
              "      <td>0.095522</td>\n",
              "      <td>0.023325</td>\n",
              "      <td>0.175626</td>\n",
              "      <td>0.327533</td>\n",
              "      <td>-0.102110</td>\n",
              "      <td>-0.036340</td>\n",
              "      <td>0.131844</td>\n",
              "      <td>...</td>\n",
              "      <td>0.039711</td>\n",
              "      <td>0.198987</td>\n",
              "      <td>-0.391784</td>\n",
              "      <td>0.065228</td>\n",
              "      <td>-0.218810</td>\n",
              "      <td>0.098413</td>\n",
              "      <td>0.105008</td>\n",
              "      <td>0.324224</td>\n",
              "      <td>0.062732</td>\n",
              "      <td>1</td>\n",
              "    </tr>\n",
              "    <tr>\n",
              "      <th>33440</th>\n",
              "      <td>0.511177</td>\n",
              "      <td>-0.339124</td>\n",
              "      <td>-0.037076</td>\n",
              "      <td>0.103551</td>\n",
              "      <td>-0.001348</td>\n",
              "      <td>0.206920</td>\n",
              "      <td>0.301285</td>\n",
              "      <td>0.008318</td>\n",
              "      <td>-0.032171</td>\n",
              "      <td>0.156037</td>\n",
              "      <td>...</td>\n",
              "      <td>0.003495</td>\n",
              "      <td>0.199930</td>\n",
              "      <td>-0.376674</td>\n",
              "      <td>0.075932</td>\n",
              "      <td>-0.260833</td>\n",
              "      <td>0.016034</td>\n",
              "      <td>0.049422</td>\n",
              "      <td>0.312369</td>\n",
              "      <td>0.123828</td>\n",
              "      <td>1</td>\n",
              "    </tr>\n",
              "    <tr>\n",
              "      <th>33441</th>\n",
              "      <td>0.443702</td>\n",
              "      <td>-0.159481</td>\n",
              "      <td>-0.036290</td>\n",
              "      <td>0.267735</td>\n",
              "      <td>0.249707</td>\n",
              "      <td>-0.044319</td>\n",
              "      <td>0.210942</td>\n",
              "      <td>-0.086813</td>\n",
              "      <td>0.196336</td>\n",
              "      <td>-0.012426</td>\n",
              "      <td>...</td>\n",
              "      <td>0.149299</td>\n",
              "      <td>0.003925</td>\n",
              "      <td>-0.134626</td>\n",
              "      <td>0.404021</td>\n",
              "      <td>-0.031300</td>\n",
              "      <td>-0.053833</td>\n",
              "      <td>0.196910</td>\n",
              "      <td>0.018478</td>\n",
              "      <td>0.040903</td>\n",
              "      <td>0</td>\n",
              "    </tr>\n",
              "    <tr>\n",
              "      <th>33442</th>\n",
              "      <td>0.913654</td>\n",
              "      <td>-0.252907</td>\n",
              "      <td>-0.084015</td>\n",
              "      <td>0.281287</td>\n",
              "      <td>-0.126588</td>\n",
              "      <td>0.191148</td>\n",
              "      <td>0.461515</td>\n",
              "      <td>-0.132735</td>\n",
              "      <td>-0.162266</td>\n",
              "      <td>0.136288</td>\n",
              "      <td>...</td>\n",
              "      <td>0.154722</td>\n",
              "      <td>0.456398</td>\n",
              "      <td>-0.525083</td>\n",
              "      <td>-0.064620</td>\n",
              "      <td>-0.154753</td>\n",
              "      <td>0.170071</td>\n",
              "      <td>0.169261</td>\n",
              "      <td>0.620058</td>\n",
              "      <td>-0.051631</td>\n",
              "      <td>1</td>\n",
              "    </tr>\n",
              "    <tr>\n",
              "      <th>33443</th>\n",
              "      <td>0.422615</td>\n",
              "      <td>-0.294282</td>\n",
              "      <td>-0.073060</td>\n",
              "      <td>0.015062</td>\n",
              "      <td>0.185319</td>\n",
              "      <td>0.071690</td>\n",
              "      <td>0.224683</td>\n",
              "      <td>-0.101521</td>\n",
              "      <td>0.058660</td>\n",
              "      <td>0.058285</td>\n",
              "      <td>...</td>\n",
              "      <td>0.194720</td>\n",
              "      <td>0.133514</td>\n",
              "      <td>-0.252605</td>\n",
              "      <td>0.178439</td>\n",
              "      <td>-0.191364</td>\n",
              "      <td>-0.039197</td>\n",
              "      <td>0.022305</td>\n",
              "      <td>0.155281</td>\n",
              "      <td>0.093443</td>\n",
              "      <td>0</td>\n",
              "    </tr>\n",
              "  </tbody>\n",
              "</table>\n",
              "<p>33444 rows × 301 columns</p>\n",
              "</div>\n",
              "      <button class=\"colab-df-convert\" onclick=\"convertToInteractive('df-8580f120-5250-4c2f-8ac6-45b8e6d60eca')\"\n",
              "              title=\"Convert this dataframe to an interactive table.\"\n",
              "              style=\"display:none;\">\n",
              "        \n",
              "  <svg xmlns=\"http://www.w3.org/2000/svg\" height=\"24px\"viewBox=\"0 0 24 24\"\n",
              "       width=\"24px\">\n",
              "    <path d=\"M0 0h24v24H0V0z\" fill=\"none\"/>\n",
              "    <path d=\"M18.56 5.44l.94 2.06.94-2.06 2.06-.94-2.06-.94-.94-2.06-.94 2.06-2.06.94zm-11 1L8.5 8.5l.94-2.06 2.06-.94-2.06-.94L8.5 2.5l-.94 2.06-2.06.94zm10 10l.94 2.06.94-2.06 2.06-.94-2.06-.94-.94-2.06-.94 2.06-2.06.94z\"/><path d=\"M17.41 7.96l-1.37-1.37c-.4-.4-.92-.59-1.43-.59-.52 0-1.04.2-1.43.59L10.3 9.45l-7.72 7.72c-.78.78-.78 2.05 0 2.83L4 21.41c.39.39.9.59 1.41.59.51 0 1.02-.2 1.41-.59l7.78-7.78 2.81-2.81c.8-.78.8-2.07 0-2.86zM5.41 20L4 18.59l7.72-7.72 1.47 1.35L5.41 20z\"/>\n",
              "  </svg>\n",
              "      </button>\n",
              "      \n",
              "  <style>\n",
              "    .colab-df-container {\n",
              "      display:flex;\n",
              "      flex-wrap:wrap;\n",
              "      gap: 12px;\n",
              "    }\n",
              "\n",
              "    .colab-df-convert {\n",
              "      background-color: #E8F0FE;\n",
              "      border: none;\n",
              "      border-radius: 50%;\n",
              "      cursor: pointer;\n",
              "      display: none;\n",
              "      fill: #1967D2;\n",
              "      height: 32px;\n",
              "      padding: 0 0 0 0;\n",
              "      width: 32px;\n",
              "    }\n",
              "\n",
              "    .colab-df-convert:hover {\n",
              "      background-color: #E2EBFA;\n",
              "      box-shadow: 0px 1px 2px rgba(60, 64, 67, 0.3), 0px 1px 3px 1px rgba(60, 64, 67, 0.15);\n",
              "      fill: #174EA6;\n",
              "    }\n",
              "\n",
              "    [theme=dark] .colab-df-convert {\n",
              "      background-color: #3B4455;\n",
              "      fill: #D2E3FC;\n",
              "    }\n",
              "\n",
              "    [theme=dark] .colab-df-convert:hover {\n",
              "      background-color: #434B5C;\n",
              "      box-shadow: 0px 1px 3px 1px rgba(0, 0, 0, 0.15);\n",
              "      filter: drop-shadow(0px 1px 2px rgba(0, 0, 0, 0.3));\n",
              "      fill: #FFFFFF;\n",
              "    }\n",
              "  </style>\n",
              "\n",
              "      <script>\n",
              "        const buttonEl =\n",
              "          document.querySelector('#df-8580f120-5250-4c2f-8ac6-45b8e6d60eca button.colab-df-convert');\n",
              "        buttonEl.style.display =\n",
              "          google.colab.kernel.accessAllowed ? 'block' : 'none';\n",
              "\n",
              "        async function convertToInteractive(key) {\n",
              "          const element = document.querySelector('#df-8580f120-5250-4c2f-8ac6-45b8e6d60eca');\n",
              "          const dataTable =\n",
              "            await google.colab.kernel.invokeFunction('convertToInteractive',\n",
              "                                                     [key], {});\n",
              "          if (!dataTable) return;\n",
              "\n",
              "          const docLinkHtml = 'Like what you see? Visit the ' +\n",
              "            '<a target=\"_blank\" href=https://colab.research.google.com/notebooks/data_table.ipynb>data table notebook</a>'\n",
              "            + ' to learn more about interactive tables.';\n",
              "          element.innerHTML = '';\n",
              "          dataTable['output_type'] = 'display_data';\n",
              "          await google.colab.output.renderOutput(dataTable, element);\n",
              "          const docLink = document.createElement('div');\n",
              "          docLink.innerHTML = docLinkHtml;\n",
              "          element.appendChild(docLink);\n",
              "        }\n",
              "      </script>\n",
              "    </div>\n",
              "  </div>\n",
              "  "
            ]
          },
          "metadata": {},
          "execution_count": 60
        }
      ]
    },
    {
      "cell_type": "code",
      "source": [
        "wordvec_df.iloc[:,0:300].values"
      ],
      "metadata": {
        "colab": {
          "base_uri": "https://localhost:8080/"
        },
        "id": "Gl02vmS3ybM4",
        "outputId": "10131330-8708-4927-ce55-231f78c240b5"
      },
      "execution_count": 61,
      "outputs": [
        {
          "output_type": "execute_result",
          "data": {
            "text/plain": [
              "array([[ 0.36344674, -0.29481076, -0.02079613, ...,  0.05371755,\n",
              "         0.12237969, -0.03873953],\n",
              "       [ 0.64412035, -0.51940113, -0.04045441, ...,  0.14499633,\n",
              "         0.23909891,  0.05075263],\n",
              "       [ 0.59577114, -0.45164871, -0.14424121, ...,  0.07906606,\n",
              "         0.53845576, -0.04367131],\n",
              "       ...,\n",
              "       [ 0.44370172, -0.15948115, -0.03628977, ...,  0.19691046,\n",
              "         0.01847783,  0.04090307],\n",
              "       [ 0.91365443, -0.25290656, -0.08401535, ...,  0.16926058,\n",
              "         0.6200583 , -0.05163086],\n",
              "       [ 0.42261538, -0.2942819 , -0.07306015, ...,  0.02230516,\n",
              "         0.15528102,  0.09344303]])"
            ]
          },
          "metadata": {},
          "execution_count": 61
        }
      ]
    },
    {
      "cell_type": "code",
      "source": [
        "# Step 1: train-test split\n",
        "X = wordvec_df.iloc[:,0:300].values\n",
        "y = wordvec_df['sentiment_score'].values\n",
        "print(X.shape, y.shape)\n",
        "# split X and y into training and testing sets. By default, it splits 75% training and 25% test\n",
        "# random_state=1 for reproducibility\n",
        "X_train, X_test, y_train, y_test = train_test_split(X, y, random_state=1)\n",
        "print(X_train.shape, y_train.shape)\n",
        "print(X_test.shape, y_test.shape)"
      ],
      "metadata": {
        "colab": {
          "base_uri": "https://localhost:8080/"
        },
        "id": "rPEH7315x8ZA",
        "outputId": "c4d3f94e-982c-4a54-e43e-c5de414ffc71"
      },
      "execution_count": 62,
      "outputs": [
        {
          "output_type": "stream",
          "name": "stdout",
          "text": [
            "(33444, 300) (33444,)\n",
            "(25083, 300) (25083,)\n",
            "(8361, 300) (8361,)\n"
          ]
        }
      ]
    },
    {
      "cell_type": "markdown",
      "source": [
        "##### (3.1) Naive Bayes"
      ],
      "metadata": {
        "id": "MoI0RbLzys_9"
      }
    },
    {
      "cell_type": "code",
      "source": [
        "# Step 3: Train the classifier and predict for test data\n",
        "nb = MultinomialNB() # instantiate a Multinomial Naive Bayes model\n",
        "%time nb.fit(X_train, y_train) # train the model(timing it with an IPython \"magic command\")\n",
        "y_pred = nb.predict(X_test) # make class predictions for X_test_dtm"
      ],
      "metadata": {
        "colab": {
          "base_uri": "https://localhost:8080/",
          "height": 814
        },
        "id": "ShJH0oJMykGN",
        "outputId": "24887158-5f4b-4d63-fb41-6df0a18bd21e"
      },
      "execution_count": null,
      "outputs": [
        {
          "output_type": "error",
          "ename": "ValueError",
          "evalue": "ignored",
          "traceback": [
            "\u001b[0;31m---------------------------------------------------------------------------\u001b[0m",
            "\u001b[0;31mValueError\u001b[0m                                Traceback (most recent call last)",
            "\u001b[0;32m<timed eval>\u001b[0m in \u001b[0;36m<module>\u001b[0;34m\u001b[0m\n",
            "\u001b[0;32m/usr/local/lib/python3.8/dist-packages/sklearn/naive_bayes.py\u001b[0m in \u001b[0;36mfit\u001b[0;34m(self, X, y, sample_weight)\u001b[0m\n\u001b[1;32m    688\u001b[0m         \u001b[0mn_classes\u001b[0m \u001b[0;34m=\u001b[0m \u001b[0mY\u001b[0m\u001b[0;34m.\u001b[0m\u001b[0mshape\u001b[0m\u001b[0;34m[\u001b[0m\u001b[0;36m1\u001b[0m\u001b[0;34m]\u001b[0m\u001b[0;34m\u001b[0m\u001b[0;34m\u001b[0m\u001b[0m\n\u001b[1;32m    689\u001b[0m         \u001b[0mself\u001b[0m\u001b[0;34m.\u001b[0m\u001b[0m_init_counters\u001b[0m\u001b[0;34m(\u001b[0m\u001b[0mn_classes\u001b[0m\u001b[0;34m,\u001b[0m \u001b[0mn_features\u001b[0m\u001b[0;34m)\u001b[0m\u001b[0;34m\u001b[0m\u001b[0;34m\u001b[0m\u001b[0m\n\u001b[0;32m--> 690\u001b[0;31m         \u001b[0mself\u001b[0m\u001b[0;34m.\u001b[0m\u001b[0m_count\u001b[0m\u001b[0;34m(\u001b[0m\u001b[0mX\u001b[0m\u001b[0;34m,\u001b[0m \u001b[0mY\u001b[0m\u001b[0;34m)\u001b[0m\u001b[0;34m\u001b[0m\u001b[0;34m\u001b[0m\u001b[0m\n\u001b[0m\u001b[1;32m    691\u001b[0m         \u001b[0malpha\u001b[0m \u001b[0;34m=\u001b[0m \u001b[0mself\u001b[0m\u001b[0;34m.\u001b[0m\u001b[0m_check_alpha\u001b[0m\u001b[0;34m(\u001b[0m\u001b[0;34m)\u001b[0m\u001b[0;34m\u001b[0m\u001b[0;34m\u001b[0m\u001b[0m\n\u001b[1;32m    692\u001b[0m         \u001b[0mself\u001b[0m\u001b[0;34m.\u001b[0m\u001b[0m_update_feature_log_prob\u001b[0m\u001b[0;34m(\u001b[0m\u001b[0malpha\u001b[0m\u001b[0;34m)\u001b[0m\u001b[0;34m\u001b[0m\u001b[0;34m\u001b[0m\u001b[0m\n",
            "\u001b[0;32m/usr/local/lib/python3.8/dist-packages/sklearn/naive_bayes.py\u001b[0m in \u001b[0;36m_count\u001b[0;34m(self, X, Y)\u001b[0m\n\u001b[1;32m    861\u001b[0m     \u001b[0;32mdef\u001b[0m \u001b[0m_count\u001b[0m\u001b[0;34m(\u001b[0m\u001b[0mself\u001b[0m\u001b[0;34m,\u001b[0m \u001b[0mX\u001b[0m\u001b[0;34m,\u001b[0m \u001b[0mY\u001b[0m\u001b[0;34m)\u001b[0m\u001b[0;34m:\u001b[0m\u001b[0;34m\u001b[0m\u001b[0;34m\u001b[0m\u001b[0m\n\u001b[1;32m    862\u001b[0m         \u001b[0;34m\"\"\"Count and smooth feature occurrences.\"\"\"\u001b[0m\u001b[0;34m\u001b[0m\u001b[0;34m\u001b[0m\u001b[0m\n\u001b[0;32m--> 863\u001b[0;31m         \u001b[0mcheck_non_negative\u001b[0m\u001b[0;34m(\u001b[0m\u001b[0mX\u001b[0m\u001b[0;34m,\u001b[0m \u001b[0;34m\"MultinomialNB (input X)\"\u001b[0m\u001b[0;34m)\u001b[0m\u001b[0;34m\u001b[0m\u001b[0;34m\u001b[0m\u001b[0m\n\u001b[0m\u001b[1;32m    864\u001b[0m         \u001b[0mself\u001b[0m\u001b[0;34m.\u001b[0m\u001b[0mfeature_count_\u001b[0m \u001b[0;34m+=\u001b[0m \u001b[0msafe_sparse_dot\u001b[0m\u001b[0;34m(\u001b[0m\u001b[0mY\u001b[0m\u001b[0;34m.\u001b[0m\u001b[0mT\u001b[0m\u001b[0;34m,\u001b[0m \u001b[0mX\u001b[0m\u001b[0;34m)\u001b[0m\u001b[0;34m\u001b[0m\u001b[0;34m\u001b[0m\u001b[0m\n\u001b[1;32m    865\u001b[0m         \u001b[0mself\u001b[0m\u001b[0;34m.\u001b[0m\u001b[0mclass_count_\u001b[0m \u001b[0;34m+=\u001b[0m \u001b[0mY\u001b[0m\u001b[0;34m.\u001b[0m\u001b[0msum\u001b[0m\u001b[0;34m(\u001b[0m\u001b[0maxis\u001b[0m\u001b[0;34m=\u001b[0m\u001b[0;36m0\u001b[0m\u001b[0;34m)\u001b[0m\u001b[0;34m\u001b[0m\u001b[0;34m\u001b[0m\u001b[0m\n",
            "\u001b[0;32m/usr/local/lib/python3.8/dist-packages/sklearn/utils/validation.py\u001b[0m in \u001b[0;36mcheck_non_negative\u001b[0;34m(X, whom)\u001b[0m\n\u001b[1;32m   1247\u001b[0m \u001b[0;34m\u001b[0m\u001b[0m\n\u001b[1;32m   1248\u001b[0m     \u001b[0;32mif\u001b[0m \u001b[0mX_min\u001b[0m \u001b[0;34m<\u001b[0m \u001b[0;36m0\u001b[0m\u001b[0;34m:\u001b[0m\u001b[0;34m\u001b[0m\u001b[0;34m\u001b[0m\u001b[0m\n\u001b[0;32m-> 1249\u001b[0;31m         \u001b[0;32mraise\u001b[0m \u001b[0mValueError\u001b[0m\u001b[0;34m(\u001b[0m\u001b[0;34m\"Negative values in data passed to %s\"\u001b[0m \u001b[0;34m%\u001b[0m \u001b[0mwhom\u001b[0m\u001b[0;34m)\u001b[0m\u001b[0;34m\u001b[0m\u001b[0;34m\u001b[0m\u001b[0m\n\u001b[0m\u001b[1;32m   1250\u001b[0m \u001b[0;34m\u001b[0m\u001b[0m\n\u001b[1;32m   1251\u001b[0m \u001b[0;34m\u001b[0m\u001b[0m\n",
            "\u001b[0;31mValueError\u001b[0m: Negative values in data passed to MultinomialNB (input X)"
          ]
        },
        {
          "output_type": "error",
          "ename": "AttributeError",
          "evalue": "ignored",
          "traceback": [
            "\u001b[0;31m---------------------------------------------------------------------------\u001b[0m",
            "\u001b[0;31mAttributeError\u001b[0m                            Traceback (most recent call last)",
            "\u001b[0;32m<ipython-input-32-7e5355b62f3a>\u001b[0m in \u001b[0;36m<module>\u001b[0;34m\u001b[0m\n\u001b[1;32m      2\u001b[0m \u001b[0mnb\u001b[0m \u001b[0;34m=\u001b[0m \u001b[0mMultinomialNB\u001b[0m\u001b[0;34m(\u001b[0m\u001b[0;34m)\u001b[0m \u001b[0;31m# instantiate a Multinomial Naive Bayes model\u001b[0m\u001b[0;34m\u001b[0m\u001b[0;34m\u001b[0m\u001b[0m\n\u001b[1;32m      3\u001b[0m \u001b[0mget_ipython\u001b[0m\u001b[0;34m(\u001b[0m\u001b[0;34m)\u001b[0m\u001b[0;34m.\u001b[0m\u001b[0mrun_line_magic\u001b[0m\u001b[0;34m(\u001b[0m\u001b[0;34m'time'\u001b[0m\u001b[0;34m,\u001b[0m \u001b[0;34m'nb.fit(X_train, y_train) # train the model(timing it with an IPython \"magic command\")'\u001b[0m\u001b[0;34m)\u001b[0m\u001b[0;34m\u001b[0m\u001b[0;34m\u001b[0m\u001b[0m\n\u001b[0;32m----> 4\u001b[0;31m \u001b[0my_pred\u001b[0m \u001b[0;34m=\u001b[0m \u001b[0mnb\u001b[0m\u001b[0;34m.\u001b[0m\u001b[0mpredict\u001b[0m\u001b[0;34m(\u001b[0m\u001b[0mX_test\u001b[0m\u001b[0;34m)\u001b[0m \u001b[0;31m# make class predictions for X_test_dtm\u001b[0m\u001b[0;34m\u001b[0m\u001b[0;34m\u001b[0m\u001b[0m\n\u001b[0m",
            "\u001b[0;32m/usr/local/lib/python3.8/dist-packages/sklearn/naive_bayes.py\u001b[0m in \u001b[0;36mpredict\u001b[0;34m(self, X)\u001b[0m\n\u001b[1;32m     81\u001b[0m         \u001b[0mcheck_is_fitted\u001b[0m\u001b[0;34m(\u001b[0m\u001b[0mself\u001b[0m\u001b[0;34m)\u001b[0m\u001b[0;34m\u001b[0m\u001b[0;34m\u001b[0m\u001b[0m\n\u001b[1;32m     82\u001b[0m         \u001b[0mX\u001b[0m \u001b[0;34m=\u001b[0m \u001b[0mself\u001b[0m\u001b[0;34m.\u001b[0m\u001b[0m_check_X\u001b[0m\u001b[0;34m(\u001b[0m\u001b[0mX\u001b[0m\u001b[0;34m)\u001b[0m\u001b[0;34m\u001b[0m\u001b[0;34m\u001b[0m\u001b[0m\n\u001b[0;32m---> 83\u001b[0;31m         \u001b[0mjll\u001b[0m \u001b[0;34m=\u001b[0m \u001b[0mself\u001b[0m\u001b[0;34m.\u001b[0m\u001b[0m_joint_log_likelihood\u001b[0m\u001b[0;34m(\u001b[0m\u001b[0mX\u001b[0m\u001b[0;34m)\u001b[0m\u001b[0;34m\u001b[0m\u001b[0;34m\u001b[0m\u001b[0m\n\u001b[0m\u001b[1;32m     84\u001b[0m         \u001b[0;32mreturn\u001b[0m \u001b[0mself\u001b[0m\u001b[0;34m.\u001b[0m\u001b[0mclasses_\u001b[0m\u001b[0;34m[\u001b[0m\u001b[0mnp\u001b[0m\u001b[0;34m.\u001b[0m\u001b[0margmax\u001b[0m\u001b[0;34m(\u001b[0m\u001b[0mjll\u001b[0m\u001b[0;34m,\u001b[0m \u001b[0maxis\u001b[0m\u001b[0;34m=\u001b[0m\u001b[0;36m1\u001b[0m\u001b[0;34m)\u001b[0m\u001b[0;34m]\u001b[0m\u001b[0;34m\u001b[0m\u001b[0;34m\u001b[0m\u001b[0m\n\u001b[1;32m     85\u001b[0m \u001b[0;34m\u001b[0m\u001b[0m\n",
            "\u001b[0;32m/usr/local/lib/python3.8/dist-packages/sklearn/naive_bayes.py\u001b[0m in \u001b[0;36m_joint_log_likelihood\u001b[0;34m(self, X)\u001b[0m\n\u001b[1;32m    876\u001b[0m     \u001b[0;32mdef\u001b[0m \u001b[0m_joint_log_likelihood\u001b[0m\u001b[0;34m(\u001b[0m\u001b[0mself\u001b[0m\u001b[0;34m,\u001b[0m \u001b[0mX\u001b[0m\u001b[0;34m)\u001b[0m\u001b[0;34m:\u001b[0m\u001b[0;34m\u001b[0m\u001b[0;34m\u001b[0m\u001b[0m\n\u001b[1;32m    877\u001b[0m         \u001b[0;34m\"\"\"Calculate the posterior log probability of the samples X\"\"\"\u001b[0m\u001b[0;34m\u001b[0m\u001b[0;34m\u001b[0m\u001b[0m\n\u001b[0;32m--> 878\u001b[0;31m         \u001b[0;32mreturn\u001b[0m \u001b[0msafe_sparse_dot\u001b[0m\u001b[0;34m(\u001b[0m\u001b[0mX\u001b[0m\u001b[0;34m,\u001b[0m \u001b[0mself\u001b[0m\u001b[0;34m.\u001b[0m\u001b[0mfeature_log_prob_\u001b[0m\u001b[0;34m.\u001b[0m\u001b[0mT\u001b[0m\u001b[0;34m)\u001b[0m \u001b[0;34m+\u001b[0m \u001b[0mself\u001b[0m\u001b[0;34m.\u001b[0m\u001b[0mclass_log_prior_\u001b[0m\u001b[0;34m\u001b[0m\u001b[0;34m\u001b[0m\u001b[0m\n\u001b[0m\u001b[1;32m    879\u001b[0m \u001b[0;34m\u001b[0m\u001b[0m\n\u001b[1;32m    880\u001b[0m \u001b[0;34m\u001b[0m\u001b[0m\n",
            "\u001b[0;31mAttributeError\u001b[0m: 'MultinomialNB' object has no attribute 'feature_log_prob_'"
          ]
        }
      ]
    },
    {
      "cell_type": "markdown",
      "source": [
        "The embedded words failed to be input into the Naive Bayes function due to the negative values in data."
      ],
      "metadata": {
        "id": "IPDkbe5WOF4_"
      }
    },
    {
      "cell_type": "markdown",
      "source": [
        "##### (3.2) Logistics Regression"
      ],
      "metadata": {
        "id": "jtw8IBCR158X"
      }
    },
    {
      "cell_type": "code",
      "source": [
        "logreg = LogisticRegression(class_weight=\"balanced\") # instantiate a logistic regression model\n",
        "logreg.fit(X_train, y_train) # fit the model with training data\n",
        "\n",
        "# Make predictions on test data\n",
        "y_pred_class = logreg.predict(X_test)\n",
        "\n",
        "# calculate evaluation measures:\n",
        "print(\"Accuracy: \", accuracy_score(y_test, y_pred_class))\n",
        "print(\"Recall:\",metrics.recall_score(y_test, y_pred_class))\n",
        "print(\"F1 score:\",metrics.f1_score(y_test, y_pred_class))\n",
        "cnf_matrix = confusion_matrix(y_test, y_pred_class)\n",
        "plt.figure(figsize=(8,6))\n",
        "plot_confusion_matrix(cnf_matrix, classes=['Not Relevant','Relevant'],normalize=True,\n",
        "                      title='Confusion matrix with normalization')"
      ],
      "metadata": {
        "colab": {
          "base_uri": "https://localhost:8080/",
          "height": 512
        },
        "id": "y1UFllRy18Na",
        "outputId": "d91bdf54-b083-411b-8c39-d62b8007620f"
      },
      "execution_count": 63,
      "outputs": [
        {
          "output_type": "stream",
          "name": "stdout",
          "text": [
            "Accuracy:  0.6841286927401029\n",
            "Recall: 0.6915678819056139\n",
            "F1 score: 0.7007365439093484\n"
          ]
        },
        {
          "output_type": "display_data",
          "data": {
            "text/plain": [
              "<Figure size 576x432 with 2 Axes>"
            ],
            "image/png": "[encoded data removed]"
          },
          "metadata": {
            "needs_background": "light"
          }
        }
      ]
    },
    {
      "cell_type": "markdown",
      "source": [
        "#####(3.3) SVM"
      ],
      "metadata": {
        "id": "3VBWg0683hhV"
      }
    },
    {
      "cell_type": "code",
      "source": [
        "classifier = LinearSVC(class_weight='balanced') # instantiate a logistic regression model\n",
        "classifier.fit(X_train, y_train) # fit the model with training data\n",
        "\n",
        "# Make predictions on test data\n",
        "y_pred_class = classifier.predict(X_test)\n",
        "\n",
        "# calculate evaluation measures:\n",
        "print(\"Accuracy: \", metrics.accuracy_score(y_test, y_pred_class))\n",
        "print(\"Recall:\",metrics.recall_score(y_test, y_pred_class))\n",
        "print(\"F1 score:\",metrics.f1_score(y_test, y_pred_class))\n",
        "cnf_matrix = confusion_matrix(y_test, y_pred_class)\n",
        "plt.figure(figsize=(8,6))\n",
        "plot_confusion_matrix(cnf_matrix, classes=['Not Relevant','Relevant'],normalize=True,\n",
        "                      title='Confusion matrix with normalization')"
      ],
      "metadata": {
        "colab": {
          "base_uri": "https://localhost:8080/",
          "height": 512
        },
        "id": "0VLgUEAD3dap",
        "outputId": "188fd37f-e968-4e70-fe04-d58740163aaf"
      },
      "execution_count": 64,
      "outputs": [
        {
          "output_type": "stream",
          "name": "stdout",
          "text": [
            "Accuracy:  0.7074512618107882\n",
            "Recall: 0.7076716618206218\n",
            "F1 score: 0.7212217916571688\n"
          ]
        },
        {
          "output_type": "display_data",
          "data": {
            "text/plain": [
              "<Figure size 576x432 with 2 Axes>"
            ],
            "image/png": "[encoded data removed]"
          },
          "metadata": {
            "needs_background": "light"
          }
        }
      ]
    },
    {
      "cell_type": "markdown",
      "source": [
        "However, the words embeddings do not improve our prediction performance using logistics regression. Conversely, the F1-score decreases to 0.70 after words embeddings. Moreover, the prediction results of SVM also decrease from 0.85 to 0.72."
      ],
      "metadata": {
        "id": "OnAZAzVN4dfc"
      }
    },
    {
      "cell_type": "markdown",
      "source": [
        "#### (4) Deep Learning Model - LSTM"
      ],
      "metadata": {
        "id": "RjuX_1NkjLXA"
      }
    },
    {
      "cell_type": "code",
      "source": [
        "from tensorflow.keras import Sequential\n",
        "from tensorflow.keras.layers import Bidirectional, GlobalMaxPool1D, Dense, LSTM, Conv1D, Embedding"
      ],
      "metadata": {
        "id": "GKFlYaSIuMgA"
      },
      "execution_count": 1,
      "outputs": []
    },
    {
      "cell_type": "code",
      "source": [
        "import keras\n",
        "from keras.layers import Dense, Embedding, LSTM\n",
        "from keras.models import Sequential\n",
        "from tensorflow.keras.preprocessing.sequence import pad_sequences"
      ],
      "metadata": {
        "id": "Fk8vzJ8IjPGw"
      },
      "execution_count": 19,
      "outputs": []
    },
    {
      "cell_type": "code",
      "source": [
        "# Defining the model input length.\n",
        "input_length = 100\n",
        "\n",
        "from tensorflow.keras.preprocessing.text import Tokenizer\n",
        "from tensorflow.keras.preprocessing.sequence import pad_sequences"
      ],
      "metadata": {
        "id": "n8A-t7CYPoUq"
      },
      "execution_count": 30,
      "outputs": []
    },
    {
      "cell_type": "code",
      "source": [
        "vocab_length = 60000\n",
        "X_data, y_data = np.array(df1['OriginalTweet']), np.array(df1['sentiment_score'])\n",
        "tokenizer = Tokenizer(filters=\"\", lower=False, oov_token=\"<oov>\")\n",
        "tokenizer.fit_on_texts(X_data)\n",
        "tokenizer.num_words = vocab_length\n",
        "print(\"Tokenizer vocab length:\", vocab_length)"
      ],
      "metadata": {
        "colab": {
          "base_uri": "https://localhost:8080/"
        },
        "id": "rmRBm6efQOWH",
        "outputId": "a2ef1582-962a-471b-955f-207c4d3ea2a7"
      },
      "execution_count": 35,
      "outputs": [
        {
          "output_type": "stream",
          "name": "stdout",
          "text": [
            "Tokenizer vocab length: 60000\n"
          ]
        }
      ]
    },
    {
      "cell_type": "code",
      "source": [
        "# Step 1: train-test split\n",
        "X = df1['OriginalTweet']\n",
        "y = df1['sentiment_score']\n",
        "print(X.shape, y.shape)\n",
        "# split X and y into training and testing sets. By default, it splits 75% training and 25% test\n",
        "# random_state=1 for reproducibility\n",
        "X_train, X_test, y_train, y_test = train_test_split(X, y, random_state=1)\n",
        "print(X_train.shape, y_train.shape)\n",
        "print(X_test.shape, y_test.shape)"
      ],
      "metadata": {
        "colab": {
          "base_uri": "https://localhost:8080/"
        },
        "outputId": "6ddc0a32-af8b-4a48-c135-de33ebdc30e2",
        "id": "HN2jPrA4PQCJ"
      },
      "execution_count": 37,
      "outputs": [
        {
          "output_type": "stream",
          "name": "stdout",
          "text": [
            "(33444,) (33444,)\n",
            "(25083,) (25083,)\n",
            "(8361,) (8361,)\n"
          ]
        }
      ]
    },
    {
      "cell_type": "code",
      "source": [
        "X_train = pad_sequences(tokenizer.texts_to_sequences(X_train), maxlen=input_length)\n",
        "X_test  = pad_sequences(tokenizer.texts_to_sequences(X_test) , maxlen=input_length)\n",
        "\n",
        "print(\"X_train.shape:\", X_train.shape)\n",
        "print(\"X_test.shape :\", X_test.shape)"
      ],
      "metadata": {
        "colab": {
          "base_uri": "https://localhost:8080/"
        },
        "id": "7EueqGdiQSQM",
        "outputId": "cfa36cf8-eeb2-48e2-dacd-629189237660"
      },
      "execution_count": 38,
      "outputs": [
        {
          "output_type": "stream",
          "name": "stdout",
          "text": [
            "X_train.shape: (25083, 100)\n",
            "X_test.shape : (8361, 100)\n"
          ]
        }
      ]
    },
    {
      "cell_type": "code",
      "source": [
        "tweets = df1['OriginalTweet'].apply(lambda x: x.split())\n",
        "w2v_model = Word2Vec(tweets, size=100, window=5, min_count=2, workers=16, seed = 34)"
      ],
      "metadata": {
        "id": "idK57yQGSeSq"
      },
      "execution_count": 39,
      "outputs": []
    },
    {
      "cell_type": "code",
      "source": [
        "Embedding_dimensions = 100\n",
        "\n",
        "embedding_matrix = np.zeros((vocab_length, Embedding_dimensions))\n",
        "\n",
        "for word, token in tokenizer.word_index.items():\n",
        "    if w2v_model.wv.__contains__(word):\n",
        "        embedding_matrix[token] = w2v_model.wv.__getitem__(word)\n",
        "\n",
        "print(\"Embedding Matrix Shape:\", embedding_matrix.shape)"
      ],
      "metadata": {
        "colab": {
          "base_uri": "https://localhost:8080/"
        },
        "id": "Ek6dQ8k6PfeR",
        "outputId": "4056ec77-3970-4414-a545-be20a671a697"
      },
      "execution_count": 40,
      "outputs": [
        {
          "output_type": "stream",
          "name": "stdout",
          "text": [
            "Embedding Matrix Shape: (60000, 100)\n"
          ]
        }
      ]
    },
    {
      "cell_type": "code",
      "source": [
        "def getModel():\n",
        "    embedding_layer = Embedding(input_dim = vocab_length,\n",
        "                                output_dim = Embedding_dimensions,\n",
        "                                weights=[embedding_matrix],\n",
        "                                input_length=input_length,\n",
        "                                trainable=False)\n",
        "\n",
        "    model = Sequential([\n",
        "        embedding_layer,\n",
        "        Bidirectional(LSTM(100, dropout=0.3, return_sequences=True)),\n",
        "        Bidirectional(LSTM(100, dropout=0.3, return_sequences=True)),\n",
        "        Conv1D(100, 5, activation='relu'),\n",
        "        GlobalMaxPool1D(),\n",
        "        Dense(16, activation='relu'),\n",
        "        Dense(1, activation='sigmoid'),\n",
        "    ],\n",
        "    name=\"Sentiment_Model\")\n",
        "    return model"
      ],
      "metadata": {
        "id": "JMCyjBFpRBUH"
      },
      "execution_count": 41,
      "outputs": []
    },
    {
      "cell_type": "code",
      "source": [
        "training_model = getModel()\n",
        "training_model.summary()"
      ],
      "metadata": {
        "colab": {
          "base_uri": "https://localhost:8080/"
        },
        "id": "Ai890F_VRCHw",
        "outputId": "1ec9215e-6ba9-4908-f09b-7855b4a5f74c"
      },
      "execution_count": 42,
      "outputs": [
        {
          "output_type": "stream",
          "name": "stdout",
          "text": [
            "Model: \"Sentiment_Model\"\n",
            "_________________________________________________________________\n",
            " Layer (type)                Output Shape              Param #   \n",
            "=================================================================\n",
            " embedding (Embedding)       (None, 100, 100)          6000000   \n",
            "                                                                 \n",
            " bidirectional (Bidirectiona  (None, 100, 200)         160800    \n",
            " l)                                                              \n",
            "                                                                 \n",
            " bidirectional_1 (Bidirectio  (None, 100, 200)         240800    \n",
            " nal)                                                            \n",
            "                                                                 \n",
            " conv1d (Conv1D)             (None, 96, 100)           100100    \n",
            "                                                                 \n",
            " global_max_pooling1d (Globa  (None, 100)              0         \n",
            " lMaxPooling1D)                                                  \n",
            "                                                                 \n",
            " dense (Dense)               (None, 16)                1616      \n",
            "                                                                 \n",
            " dense_1 (Dense)             (None, 1)                 17        \n",
            "                                                                 \n",
            "=================================================================\n",
            "Total params: 6,503,333\n",
            "Trainable params: 503,333\n",
            "Non-trainable params: 6,000,000\n",
            "_________________________________________________________________\n"
          ]
        }
      ]
    },
    {
      "cell_type": "code",
      "source": [
        "from tensorflow.keras.callbacks import ReduceLROnPlateau, EarlyStopping\n",
        "\n",
        "callbacks = [ReduceLROnPlateau(monitor='val_loss', patience=5, cooldown=0),\n",
        "             EarlyStopping(monitor='val_accuracy', min_delta=1e-4, patience=5)]"
      ],
      "metadata": {
        "id": "jPA_stKYREBm"
      },
      "execution_count": 43,
      "outputs": []
    },
    {
      "cell_type": "code",
      "source": [
        "training_model.compile(loss='binary_crossentropy', optimizer='adam', metrics=['accuracy'])"
      ],
      "metadata": {
        "id": "3K5wY5ypRGyY"
      },
      "execution_count": 44,
      "outputs": []
    },
    {
      "cell_type": "code",
      "source": [
        "training_model.fit(\n",
        "    X_train, y_train,\n",
        "    batch_size=1024,\n",
        "    epochs=12,\n",
        "    validation_split=0.1,\n",
        "    callbacks=callbacks,\n",
        "    verbose=1,\n",
        ")"
      ],
      "metadata": {
        "colab": {
          "base_uri": "https://localhost:8080/"
        },
        "id": "p5HaoWYrRIeX",
        "outputId": "bf325b53-ad5a-4c5b-eb43-ac53c0471244"
      },
      "execution_count": 45,
      "outputs": [
        {
          "output_type": "stream",
          "name": "stdout",
          "text": [
            "Epoch 1/12\n",
            "23/23 [==============================] - 266s 11s/step - loss: 0.6352 - accuracy: 0.6338 - val_loss: 0.5970 - val_accuracy: 0.6676 - lr: 0.0010\n",
            "Epoch 2/12\n",
            "23/23 [==============================] - 249s 11s/step - loss: 0.5916 - accuracy: 0.6760 - val_loss: 0.5885 - val_accuracy: 0.6788 - lr: 0.0010\n",
            "Epoch 3/12\n",
            "23/23 [==============================] - 250s 11s/step - loss: 0.5793 - accuracy: 0.6883 - val_loss: 0.5685 - val_accuracy: 0.6923 - lr: 0.0010\n",
            "Epoch 4/12\n",
            "23/23 [==============================] - 238s 10s/step - loss: 0.5674 - accuracy: 0.6973 - val_loss: 0.5832 - val_accuracy: 0.6987 - lr: 0.0010\n",
            "Epoch 5/12\n",
            "23/23 [==============================] - 253s 11s/step - loss: 0.5637 - accuracy: 0.6977 - val_loss: 0.5527 - val_accuracy: 0.7086 - lr: 0.0010\n",
            "Epoch 6/12\n",
            "23/23 [==============================] - 253s 11s/step - loss: 0.5589 - accuracy: 0.7001 - val_loss: 0.5515 - val_accuracy: 0.7059 - lr: 0.0010\n",
            "Epoch 7/12\n",
            "23/23 [==============================] - 253s 11s/step - loss: 0.5480 - accuracy: 0.7125 - val_loss: 0.5493 - val_accuracy: 0.7146 - lr: 0.0010\n",
            "Epoch 8/12\n",
            "23/23 [==============================] - 252s 11s/step - loss: 0.5411 - accuracy: 0.7168 - val_loss: 0.5455 - val_accuracy: 0.7059 - lr: 0.0010\n",
            "Epoch 9/12\n",
            "23/23 [==============================] - 254s 11s/step - loss: 0.5390 - accuracy: 0.7185 - val_loss: 0.5780 - val_accuracy: 0.7007 - lr: 0.0010\n",
            "Epoch 10/12\n",
            "23/23 [==============================] - 252s 11s/step - loss: 0.5512 - accuracy: 0.7129 - val_loss: 0.5550 - val_accuracy: 0.7059 - lr: 0.0010\n",
            "Epoch 11/12\n",
            "23/23 [==============================] - 254s 11s/step - loss: 0.5332 - accuracy: 0.7241 - val_loss: 0.5487 - val_accuracy: 0.7150 - lr: 0.0010\n",
            "Epoch 12/12\n",
            "23/23 [==============================] - 253s 11s/step - loss: 0.5329 - accuracy: 0.7234 - val_loss: 0.5480 - val_accuracy: 0.7170 - lr: 0.0010\n"
          ]
        },
        {
          "output_type": "execute_result",
          "data": {
            "text/plain": [
              "<keras.callbacks.History at 0x7f38f32dc040>"
            ]
          },
          "metadata": {},
          "execution_count": 45
        }
      ]
    },
    {
      "cell_type": "code",
      "source": [
        "y_pred_class = training_model.predict(X_test)\n",
        "y_preds_bin = y_pred_class > 0.5\n",
        "# calculate evaluation measures:\n",
        "print(\"Accuracy: \", metrics.accuracy_score(y_test, y_preds_bin))\n",
        "print(\"Recall:\",metrics.recall_score(y_test, y_preds_bin))\n",
        "print(\"F1 score:\",metrics.f1_score(y_test, y_preds_bin))\n",
        "cnf_matrix = confusion_matrix(y_test, y_preds_bin)\n",
        "plt.figure(figsize=(8,6))\n",
        "plot_confusion_matrix(cnf_matrix, classes=['Not Relevant','Relevant'],normalize=True,\n",
        "                      title='Confusion matrix with normalization')"
      ],
      "metadata": {
        "colab": {
          "base_uri": "https://localhost:8080/",
          "height": 529
        },
        "id": "uAsPTqZCw3D0",
        "outputId": "cf984778-18a2-4ba7-dbd4-dc6a27d767b6"
      },
      "execution_count": 46,
      "outputs": [
        {
          "output_type": "stream",
          "name": "stdout",
          "text": [
            "262/262 [==============================] - 51s 186ms/step\n",
            "Accuracy:  0.7213252003348881\n",
            "Recall: 0.6754641019906061\n",
            "F1 score: 0.7216248506571088\n"
          ]
        },
        {
          "output_type": "display_data",
          "data": {
            "text/plain": [
              "<Figure size 576x432 with 2 Axes>"
            ],
            "image/png": "[encoded data removed]"
          },
          "metadata": {
            "needs_background": "light"
          }
        }
      ]
    },
    {
      "cell_type": "markdown",
      "source": [
        "Therefore, by introducing a LSTM model, we obtain a prediction outcome with a F1-score of 0.72, which is much worse than the outcomes of the previous algorithms. Therefore, we can conclude that applying a deep learning model with words embeddings somehow overfit the data and thus leading to an inferior prediction results than other algorithms."
      ],
      "metadata": {
        "id": "dV8tf8NTGxKP"
      }
    },
    {
      "cell_type": "markdown",
      "source": [
        "#### Other methods of building a LSTM model (Can't be run second time after my first success)"
      ],
      "metadata": {
        "id": "lizfIM6OHMIC"
      }
    },
    {
      "cell_type": "code",
      "source": [
        "X_train = X_train.reshape((X_train.shape[0], 1, X_train.shape[1]))"
      ],
      "metadata": {
        "id": "5hVGgkePqLhF"
      },
      "execution_count": null,
      "outputs": []
    },
    {
      "cell_type": "code",
      "source": [
        "X_test = X_test.reshape((X_test.shape[0], 1, X_test.shape[1]))"
      ],
      "metadata": {
        "id": "HcT8oeGTrGWZ"
      },
      "execution_count": null,
      "outputs": []
    },
    {
      "cell_type": "code",
      "source": [
        "# Define the model architecture\n",
        "model = Sequential()\n",
        "model.add(LSTM(units=64, dropout=0.2, recurrent_dropout=0.2))\n",
        "model.add(Dense(1, activation='sigmoid'))\n",
        "\n",
        "# Compile the model\n",
        "model.compile(optimizer='adam', loss='binary_crossentropy', metrics=['accuracy'])\n",
        "model.fit(X_train, y_train, epochs=10, batch_size=32)"
      ],
      "metadata": {
        "colab": {
          "base_uri": "https://localhost:8080/",
          "height": 745
        },
        "id": "is-xfEbenFdf",
        "outputId": "c005d193-c5db-4879-fa33-576aeb820cae"
      },
      "execution_count": null,
      "outputs": [
        {
          "output_type": "stream",
          "name": "stdout",
          "text": [
            "Epoch 1/10\n"
          ]
        },
        {
          "output_type": "error",
          "ename": "ValueError",
          "evalue": "ignored",
          "traceback": [
            "\u001b[0;31m---------------------------------------------------------------------------\u001b[0m",
            "\u001b[0;31mValueError\u001b[0m                                Traceback (most recent call last)",
            "\u001b[0;32m<ipython-input-37-51fc6986f6a6>\u001b[0m in \u001b[0;36m<module>\u001b[0;34m\u001b[0m\n\u001b[1;32m      6\u001b[0m \u001b[0;31m# Compile the model\u001b[0m\u001b[0;34m\u001b[0m\u001b[0;34m\u001b[0m\u001b[0;34m\u001b[0m\u001b[0m\n\u001b[1;32m      7\u001b[0m \u001b[0mmodel\u001b[0m\u001b[0;34m.\u001b[0m\u001b[0mcompile\u001b[0m\u001b[0;34m(\u001b[0m\u001b[0moptimizer\u001b[0m\u001b[0;34m=\u001b[0m\u001b[0;34m'adam'\u001b[0m\u001b[0;34m,\u001b[0m \u001b[0mloss\u001b[0m\u001b[0;34m=\u001b[0m\u001b[0;34m'binary_crossentropy'\u001b[0m\u001b[0;34m,\u001b[0m \u001b[0mmetrics\u001b[0m\u001b[0;34m=\u001b[0m\u001b[0;34m[\u001b[0m\u001b[0;34m'accuracy'\u001b[0m\u001b[0;34m]\u001b[0m\u001b[0;34m)\u001b[0m\u001b[0;34m\u001b[0m\u001b[0;34m\u001b[0m\u001b[0m\n\u001b[0;32m----> 8\u001b[0;31m \u001b[0mmodel\u001b[0m\u001b[0;34m.\u001b[0m\u001b[0mfit\u001b[0m\u001b[0;34m(\u001b[0m\u001b[0mX_train\u001b[0m\u001b[0;34m,\u001b[0m \u001b[0my_train\u001b[0m\u001b[0;34m,\u001b[0m \u001b[0mepochs\u001b[0m\u001b[0;34m=\u001b[0m\u001b[0;36m10\u001b[0m\u001b[0;34m,\u001b[0m \u001b[0mbatch_size\u001b[0m\u001b[0;34m=\u001b[0m\u001b[0;36m32\u001b[0m\u001b[0;34m)\u001b[0m\u001b[0;34m\u001b[0m\u001b[0;34m\u001b[0m\u001b[0m\n\u001b[0m",
            "\u001b[0;32m/usr/local/lib/python3.8/dist-packages/keras/utils/traceback_utils.py\u001b[0m in \u001b[0;36merror_handler\u001b[0;34m(*args, **kwargs)\u001b[0m\n\u001b[1;32m     68\u001b[0m             \u001b[0;31m# To get the full stack trace, call:\u001b[0m\u001b[0;34m\u001b[0m\u001b[0;34m\u001b[0m\u001b[0;34m\u001b[0m\u001b[0m\n\u001b[1;32m     69\u001b[0m             \u001b[0;31m# `tf.debugging.disable_traceback_filtering()`\u001b[0m\u001b[0;34m\u001b[0m\u001b[0;34m\u001b[0m\u001b[0;34m\u001b[0m\u001b[0m\n\u001b[0;32m---> 70\u001b[0;31m             \u001b[0;32mraise\u001b[0m \u001b[0me\u001b[0m\u001b[0;34m.\u001b[0m\u001b[0mwith_traceback\u001b[0m\u001b[0;34m(\u001b[0m\u001b[0mfiltered_tb\u001b[0m\u001b[0;34m)\u001b[0m \u001b[0;32mfrom\u001b[0m \u001b[0;32mNone\u001b[0m\u001b[0;34m\u001b[0m\u001b[0;34m\u001b[0m\u001b[0m\n\u001b[0m\u001b[1;32m     71\u001b[0m         \u001b[0;32mfinally\u001b[0m\u001b[0;34m:\u001b[0m\u001b[0;34m\u001b[0m\u001b[0;34m\u001b[0m\u001b[0m\n\u001b[1;32m     72\u001b[0m             \u001b[0;32mdel\u001b[0m \u001b[0mfiltered_tb\u001b[0m\u001b[0;34m\u001b[0m\u001b[0;34m\u001b[0m\u001b[0m\n",
            "\u001b[0;32m/usr/local/lib/python3.8/dist-packages/keras/engine/training.py\u001b[0m in \u001b[0;36mtf__train_function\u001b[0;34m(iterator)\u001b[0m\n\u001b[1;32m     13\u001b[0m                 \u001b[0;32mtry\u001b[0m\u001b[0;34m:\u001b[0m\u001b[0;34m\u001b[0m\u001b[0;34m\u001b[0m\u001b[0m\n\u001b[1;32m     14\u001b[0m                     \u001b[0mdo_return\u001b[0m \u001b[0;34m=\u001b[0m \u001b[0;32mTrue\u001b[0m\u001b[0;34m\u001b[0m\u001b[0;34m\u001b[0m\u001b[0m\n\u001b[0;32m---> 15\u001b[0;31m                     \u001b[0mretval_\u001b[0m \u001b[0;34m=\u001b[0m \u001b[0mag__\u001b[0m\u001b[0;34m.\u001b[0m\u001b[0mconverted_call\u001b[0m\u001b[0;34m(\u001b[0m\u001b[0mag__\u001b[0m\u001b[0;34m.\u001b[0m\u001b[0mld\u001b[0m\u001b[0;34m(\u001b[0m\u001b[0mstep_function\u001b[0m\u001b[0;34m)\u001b[0m\u001b[0;34m,\u001b[0m \u001b[0;34m(\u001b[0m\u001b[0mag__\u001b[0m\u001b[0;34m.\u001b[0m\u001b[0mld\u001b[0m\u001b[0;34m(\u001b[0m\u001b[0mself\u001b[0m\u001b[0;34m)\u001b[0m\u001b[0;34m,\u001b[0m \u001b[0mag__\u001b[0m\u001b[0;34m.\u001b[0m\u001b[0mld\u001b[0m\u001b[0;34m(\u001b[0m\u001b[0miterator\u001b[0m\u001b[0;34m)\u001b[0m\u001b[0;34m)\u001b[0m\u001b[0;34m,\u001b[0m \u001b[0;32mNone\u001b[0m\u001b[0;34m,\u001b[0m \u001b[0mfscope\u001b[0m\u001b[0;34m)\u001b[0m\u001b[0;34m\u001b[0m\u001b[0;34m\u001b[0m\u001b[0m\n\u001b[0m\u001b[1;32m     16\u001b[0m                 \u001b[0;32mexcept\u001b[0m\u001b[0;34m:\u001b[0m\u001b[0;34m\u001b[0m\u001b[0;34m\u001b[0m\u001b[0m\n\u001b[1;32m     17\u001b[0m                     \u001b[0mdo_return\u001b[0m \u001b[0;34m=\u001b[0m \u001b[0;32mFalse\u001b[0m\u001b[0;34m\u001b[0m\u001b[0;34m\u001b[0m\u001b[0m\n",
            "\u001b[0;31mValueError\u001b[0m: in user code:\n\n    File \"/usr/local/lib/python3.8/dist-packages/keras/engine/training.py\", line 1249, in train_function  *\n        return step_function(self, iterator)\n    File \"/usr/local/lib/python3.8/dist-packages/keras/engine/training.py\", line 1233, in step_function  **\n        outputs = model.distribute_strategy.run(run_step, args=(data,))\n    File \"/usr/local/lib/python3.8/dist-packages/keras/engine/training.py\", line 1222, in run_step  **\n        outputs = model.train_step(data)\n    File \"/usr/local/lib/python3.8/dist-packages/keras/engine/training.py\", line 1023, in train_step\n        y_pred = self(x, training=True)\n    File \"/usr/local/lib/python3.8/dist-packages/keras/utils/traceback_utils.py\", line 70, in error_handler\n        raise e.with_traceback(filtered_tb) from None\n    File \"/usr/local/lib/python3.8/dist-packages/keras/engine/input_spec.py\", line 232, in assert_input_compatibility\n        raise ValueError(\n\n    ValueError: Exception encountered when calling layer 'sequential' (type Sequential).\n    \n    Input 0 of layer \"lstm\" is incompatible with the layer: expected ndim=3, found ndim=2. Full shape received: (None, 300)\n    \n    Call arguments received by layer 'sequential' (type Sequential):\n      • inputs=tf.Tensor(shape=(None, 300), dtype=float32)\n      • training=True\n      • mask=None\n"
          ]
        }
      ]
    },
    {
      "cell_type": "code",
      "source": [
        "y_pred_class"
      ],
      "metadata": {
        "colab": {
          "base_uri": "https://localhost:8080/"
        },
        "id": "KEp6rpkNrPbt",
        "outputId": "28569370-6cd6-496b-928e-816533614984"
      },
      "execution_count": null,
      "outputs": [
        {
          "output_type": "execute_result",
          "data": {
            "text/plain": [
              "array([[0.5465825 ],\n",
              "       [0.6054017 ],\n",
              "       [0.59667575],\n",
              "       ...,\n",
              "       [0.13271664],\n",
              "       [0.67237306],\n",
              "       [0.5749171 ]], dtype=float32)"
            ]
          },
          "metadata": {},
          "execution_count": 45
        }
      ]
    },
    {
      "cell_type": "code",
      "source": [
        "y_test"
      ],
      "metadata": {
        "colab": {
          "base_uri": "https://localhost:8080/"
        },
        "id": "WGZlzsXqrQQL",
        "outputId": "9eede248-2ee5-4e21-b545-c82a6b7b8ae9"
      },
      "execution_count": null,
      "outputs": [
        {
          "output_type": "execute_result",
          "data": {
            "text/plain": [
              "array([0, 0, 0, ..., 0, 1, 0])"
            ]
          },
          "metadata": {},
          "execution_count": 46
        }
      ]
    },
    {
      "cell_type": "code",
      "source": [
        "y_pred_class = model.predict(X_test)\n",
        "y_preds_bin = y_pred_class > 0.5\n",
        "# calculate evaluation measures:\n",
        "print(\"Accuracy: \", metrics.accuracy_score(y_test, y_preds_bin))\n",
        "print(\"Recall:\",metrics.recall_score(y_test, y_preds_bin))\n",
        "print(\"F1 score:\",metrics.f1_score(y_test, y_preds_bin))\n",
        "cnf_matrix = confusion_matrix(y_test, y_preds_bin)\n",
        "plt.figure(figsize=(8,6))\n",
        "plot_confusion_matrix(cnf_matrix, classes=['Not Relevant','Relevant'],normalize=True,\n",
        "                      title='Confusion matrix with normalization')"
      ],
      "metadata": {
        "colab": {
          "base_uri": "https://localhost:8080/",
          "height": 529
        },
        "id": "36HGiFwQqqfO",
        "outputId": "aa76c31c-6fcd-4722-999d-bad839006c52"
      },
      "execution_count": null,
      "outputs": [
        {
          "output_type": "stream",
          "name": "stdout",
          "text": [
            "262/262 [==============================] - 1s 3ms/step\n",
            "Accuracy:  0.6660686520751107\n",
            "Recall: 0.7828226347573249\n",
            "F1 score: 0.7148692810457516\n"
          ]
        },
        {
          "output_type": "display_data",
          "data": {
            "text/plain": [
              "<Figure size 576x432 with 2 Axes>"
            ],
            "image/png": "[encoded data removed]"
          },
          "metadata": {
            "needs_background": "light"
          }
        }
      ]
    },
    {
      "cell_type": "code",
      "source": [
        "# reshape X_train and X_test to have the correct shape\n",
        "X_train = X_train.reshape((X_train.shape[0], X_train.shape[1], 1))\n",
        "X_test = X_test.reshape((X_test.shape[0], X_test.shape[1], 1))"
      ],
      "metadata": {
        "id": "20_gPXlea10s"
      },
      "execution_count": null,
      "outputs": []
    },
    {
      "cell_type": "code",
      "source": [
        "# build the LSTM model\n",
        "model = Sequential()\n",
        "model.add(LSTM(128, input_shape=(X_train.shape[1], X_train.shape[2])))\n",
        "model.add(Dropout(0.2))\n",
        "model.add(Dense(1, activation='sigmoid'))\n",
        "\n",
        "# compile the model\n",
        "model.compile(loss='binary_crossentropy', optimizer='adam', metrics=['accuracy'])\n",
        "\n",
        "# train the model\n",
        "model.fit(X_train, y_train, epochs=50, batch_size=64, validation_data=(X_test, y_test))\n",
        "\n",
        "# make predictions on the test data\n",
        "y_pred = model.predict(X_test)\n"
      ],
      "metadata": {
        "colab": {
          "base_uri": "https://localhost:8080/"
        },
        "id": "3iwN5yLdHqS6",
        "outputId": "a8058ee2-41af-4a38-df5d-941f8d0e8bbd"
      },
      "execution_count": null,
      "outputs": [
        {
          "output_type": "stream",
          "name": "stdout",
          "text": [
            "Epoch 1/50\n",
            "392/392 [==============================] - 86s 214ms/step - loss: 0.6679 - accuracy: 0.5909 - val_loss: 0.6470 - val_accuracy: 0.6237\n",
            "Epoch 2/50\n",
            "392/392 [==============================] - 81s 206ms/step - loss: 0.6439 - accuracy: 0.6230 - val_loss: 0.6355 - val_accuracy: 0.6366\n",
            "Epoch 3/50\n",
            "392/392 [==============================] - 78s 199ms/step - loss: 0.6370 - accuracy: 0.6316 - val_loss: 0.6333 - val_accuracy: 0.6366\n",
            "Epoch 4/50\n",
            "392/392 [==============================] - 81s 207ms/step - loss: 0.6344 - accuracy: 0.6305 - val_loss: 0.6359 - val_accuracy: 0.6316\n",
            "Epoch 5/50\n",
            "392/392 [==============================] - 81s 206ms/step - loss: 0.6334 - accuracy: 0.6373 - val_loss: 0.6304 - val_accuracy: 0.6356\n",
            "Epoch 6/50\n",
            "392/392 [==============================] - 80s 205ms/step - loss: 0.6305 - accuracy: 0.6352 - val_loss: 0.6288 - val_accuracy: 0.6375\n",
            "Epoch 7/50\n",
            "392/392 [==============================] - 86s 219ms/step - loss: 0.6309 - accuracy: 0.6359 - val_loss: 0.6258 - val_accuracy: 0.6398\n",
            "Epoch 8/50\n",
            "392/392 [==============================] - 81s 208ms/step - loss: 0.6277 - accuracy: 0.6408 - val_loss: 0.6272 - val_accuracy: 0.6435\n",
            "Epoch 9/50\n",
            "392/392 [==============================] - 81s 207ms/step - loss: 0.6275 - accuracy: 0.6393 - val_loss: 0.6255 - val_accuracy: 0.6429\n",
            "Epoch 10/50\n",
            "392/392 [==============================] - 83s 213ms/step - loss: 0.6263 - accuracy: 0.6415 - val_loss: 0.6239 - val_accuracy: 0.6388\n",
            "Epoch 11/50\n",
            "392/392 [==============================] - 81s 207ms/step - loss: 0.6241 - accuracy: 0.6453 - val_loss: 0.6290 - val_accuracy: 0.6395\n",
            "Epoch 12/50\n",
            "392/392 [==============================] - 80s 203ms/step - loss: 0.6248 - accuracy: 0.6429 - val_loss: 0.6237 - val_accuracy: 0.6402\n",
            "Epoch 13/50\n",
            "392/392 [==============================] - 83s 213ms/step - loss: 0.6209 - accuracy: 0.6460 - val_loss: 0.6228 - val_accuracy: 0.6441\n",
            "Epoch 14/50\n",
            "392/392 [==============================] - 81s 207ms/step - loss: 0.6193 - accuracy: 0.6473 - val_loss: 0.6337 - val_accuracy: 0.6297\n",
            "Epoch 15/50\n",
            "392/392 [==============================] - 80s 204ms/step - loss: 0.6169 - accuracy: 0.6516 - val_loss: 0.6227 - val_accuracy: 0.6449\n",
            "Epoch 16/50\n",
            "392/392 [==============================] - 82s 208ms/step - loss: 0.6164 - accuracy: 0.6530 - val_loss: 0.6167 - val_accuracy: 0.6491\n",
            "Epoch 17/50\n",
            "392/392 [==============================] - 82s 208ms/step - loss: 0.6146 - accuracy: 0.6537 - val_loss: 0.6113 - val_accuracy: 0.6575\n",
            "Epoch 18/50\n",
            "392/392 [==============================] - 82s 208ms/step - loss: 0.6133 - accuracy: 0.6543 - val_loss: 0.6120 - val_accuracy: 0.6561\n",
            "Epoch 19/50\n",
            "392/392 [==============================] - 91s 233ms/step - loss: 0.6115 - accuracy: 0.6565 - val_loss: 0.6153 - val_accuracy: 0.6508\n",
            "Epoch 20/50\n",
            "392/392 [==============================] - 78s 200ms/step - loss: 0.6123 - accuracy: 0.6545 - val_loss: 0.6213 - val_accuracy: 0.6478\n",
            "Epoch 21/50\n",
            "392/392 [==============================] - 92s 235ms/step - loss: 0.6088 - accuracy: 0.6604 - val_loss: 0.6105 - val_accuracy: 0.6553\n",
            "Epoch 22/50\n",
            "392/392 [==============================] - 86s 220ms/step - loss: 0.6060 - accuracy: 0.6635 - val_loss: 0.6091 - val_accuracy: 0.6560\n",
            "Epoch 23/50\n",
            "392/392 [==============================] - 95s 243ms/step - loss: 0.6076 - accuracy: 0.6619 - val_loss: 0.6090 - val_accuracy: 0.6554\n",
            "Epoch 24/50\n",
            "392/392 [==============================] - 81s 207ms/step - loss: 0.6056 - accuracy: 0.6602 - val_loss: 0.6090 - val_accuracy: 0.6536\n",
            "Epoch 25/50\n",
            "392/392 [==============================] - 82s 209ms/step - loss: 0.6037 - accuracy: 0.6633 - val_loss: 0.6073 - val_accuracy: 0.6560\n",
            "Epoch 26/50\n",
            "392/392 [==============================] - 82s 208ms/step - loss: 0.6030 - accuracy: 0.6644 - val_loss: 0.6082 - val_accuracy: 0.6548\n",
            "Epoch 27/50\n",
            "392/392 [==============================] - 85s 217ms/step - loss: 0.6020 - accuracy: 0.6639 - val_loss: 0.6057 - val_accuracy: 0.6558\n",
            "Epoch 28/50\n",
            "392/392 [==============================] - 82s 209ms/step - loss: 0.6011 - accuracy: 0.6665 - val_loss: 0.6018 - val_accuracy: 0.6618\n",
            "Epoch 29/50\n",
            "392/392 [==============================] - 81s 207ms/step - loss: 0.6001 - accuracy: 0.6675 - val_loss: 0.6093 - val_accuracy: 0.6572\n",
            "Epoch 30/50\n",
            "392/392 [==============================] - 83s 213ms/step - loss: 0.5994 - accuracy: 0.6692 - val_loss: 0.6040 - val_accuracy: 0.6587\n",
            "Epoch 31/50\n",
            "392/392 [==============================] - 84s 215ms/step - loss: 0.5981 - accuracy: 0.6688 - val_loss: 0.6098 - val_accuracy: 0.6510\n",
            "Epoch 32/50\n",
            "392/392 [==============================] - 82s 209ms/step - loss: 0.5977 - accuracy: 0.6675 - val_loss: 0.6074 - val_accuracy: 0.6590\n",
            "Epoch 33/50\n",
            "392/392 [==============================] - 79s 202ms/step - loss: 0.5982 - accuracy: 0.6679 - val_loss: 0.6075 - val_accuracy: 0.6583\n",
            "Epoch 34/50\n",
            "392/392 [==============================] - 84s 214ms/step - loss: 0.5972 - accuracy: 0.6695 - val_loss: 0.6050 - val_accuracy: 0.6587\n",
            "Epoch 35/50\n",
            "392/392 [==============================] - 82s 209ms/step - loss: 0.5956 - accuracy: 0.6705 - val_loss: 0.5999 - val_accuracy: 0.6619\n",
            "Epoch 36/50\n",
            "392/392 [==============================] - 82s 208ms/step - loss: 0.5950 - accuracy: 0.6735 - val_loss: 0.6008 - val_accuracy: 0.6591\n",
            "Epoch 37/50\n",
            "392/392 [==============================] - 83s 211ms/step - loss: 0.5937 - accuracy: 0.6743 - val_loss: 0.6036 - val_accuracy: 0.6564\n",
            "Epoch 38/50\n",
            "392/392 [==============================] - 81s 206ms/step - loss: 0.5926 - accuracy: 0.6747 - val_loss: 0.6139 - val_accuracy: 0.6533\n",
            "Epoch 39/50\n",
            "392/392 [==============================] - 82s 209ms/step - loss: 0.5939 - accuracy: 0.6737 - val_loss: 0.6000 - val_accuracy: 0.6625\n",
            "Epoch 40/50\n",
            "392/392 [==============================] - 84s 214ms/step - loss: 0.5916 - accuracy: 0.6760 - val_loss: 0.6024 - val_accuracy: 0.6626\n",
            "Epoch 41/50\n",
            "392/392 [==============================] - 84s 213ms/step - loss: 0.5903 - accuracy: 0.6754 - val_loss: 0.6012 - val_accuracy: 0.6607\n",
            "Epoch 42/50\n",
            "392/392 [==============================] - 80s 205ms/step - loss: 0.5902 - accuracy: 0.6744 - val_loss: 0.6051 - val_accuracy: 0.6600\n",
            "Epoch 43/50\n",
            "392/392 [==============================] - 82s 209ms/step - loss: 0.5885 - accuracy: 0.6786 - val_loss: 0.6059 - val_accuracy: 0.6634\n",
            "Epoch 44/50\n",
            "392/392 [==============================] - 81s 207ms/step - loss: 0.5884 - accuracy: 0.6790 - val_loss: 0.5967 - val_accuracy: 0.6700\n",
            "Epoch 45/50\n",
            "392/392 [==============================] - 81s 205ms/step - loss: 0.5872 - accuracy: 0.6801 - val_loss: 0.6002 - val_accuracy: 0.6652\n",
            "Epoch 46/50\n",
            "392/392 [==============================] - 82s 209ms/step - loss: 0.5871 - accuracy: 0.6793 - val_loss: 0.5980 - val_accuracy: 0.6637\n",
            "Epoch 47/50\n",
            "392/392 [==============================] - 79s 200ms/step - loss: 0.5852 - accuracy: 0.6803 - val_loss: 0.6007 - val_accuracy: 0.6657\n",
            "Epoch 48/50\n",
            "392/392 [==============================] - 80s 205ms/step - loss: 0.5860 - accuracy: 0.6788 - val_loss: 0.5954 - val_accuracy: 0.6670\n",
            "Epoch 49/50\n",
            "392/392 [==============================] - 83s 212ms/step - loss: 0.5842 - accuracy: 0.6826 - val_loss: 0.5955 - val_accuracy: 0.6646\n",
            "Epoch 50/50\n",
            "392/392 [==============================] - 81s 208ms/step - loss: 0.5823 - accuracy: 0.6807 - val_loss: 0.5969 - val_accuracy: 0.6676\n",
            "262/262 [==============================] - 14s 53ms/step\n"
          ]
        }
      ]
    },
    {
      "cell_type": "code",
      "source": [
        "# calculate evaluation measures:\n",
        "print(\"Accuracy: \", metrics.accuracy_score(y_test, y_preds_bin))\n",
        "print(\"Recall:\",metrics.recall_score(y_test, y_preds_bin))\n",
        "print(\"F1 score:\",metrics.f1_score(y_test, y_preds_bin))\n",
        "cnf_matrix = confusion_matrix(y_test, y_preds_bin)\n",
        "plt.figure(figsize=(8,6))\n",
        "plot_confusion_matrix(cnf_matrix, classes=['Not Relevant','Relevant'],normalize=True,\n",
        "                      title='Confusion matrix with normalization')"
      ],
      "metadata": {
        "colab": {
          "base_uri": "https://localhost:8080/",
          "height": 512
        },
        "id": "hF8f4Znpcc6_",
        "outputId": "dc25cedb-4627-46d6-ce0d-f1171fc7b369"
      },
      "execution_count": null,
      "outputs": [
        {
          "output_type": "stream",
          "name": "stdout",
          "text": [
            "Accuracy:  0.6660686520751107\n",
            "Recall: 0.7828226347573249\n",
            "F1 score: 0.7148692810457516\n"
          ]
        },
        {
          "output_type": "display_data",
          "data": {
            "text/plain": [
              "<Figure size 576x432 with 2 Axes>"
            ],
            "image/png": "[encoded data removed]"
          },
          "metadata": {
            "needs_background": "light"
          }
        }
      ]
    }
  ]
}