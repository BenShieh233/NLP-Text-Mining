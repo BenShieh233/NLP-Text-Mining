{
  "nbformat": 4,
  "nbformat_minor": 0,
  "metadata": {
    "colab": {
      "provenance": [],
      "authorship_tag": "ABX9TyMxYQDHEJT/PRVyZjUEGdAh",
      "include_colab_link": true
    },
    "kernelspec": {
      "name": "python3",
      "display_name": "Python 3"
    },
    "language_info": {
      "name": "python"
    }
  },
  "cells": [
    {
      "cell_type": "markdown",
      "metadata": {
        "id": "view-in-github",
        "colab_type": "text"
      },
      "source": [
        "<a href=\"https://colab.research.google.com/github/BenShieh233/NLP-Text-Mining/blob/main/IC3.ipynb\" target=\"_parent\"><img src=\"https://colab.research.google.com/assets/colab-badge.svg\" alt=\"Open In Colab\"/></a>"
      ]
    },
    {
      "cell_type": "markdown",
      "source": [
        "# Import Libraries"
      ],
      "metadata": {
        "id": "xfXCXmHCtE_s"
      }
    },
    {
      "cell_type": "code",
      "execution_count": 1,
      "metadata": {
        "colab": {
          "base_uri": "https://localhost:8080/"
        },
        "id": "Up0egQQKybdq",
        "outputId": "5a3b6a42-ff0c-4e29-d548-118d56adb636"
      },
      "outputs": [
        {
          "output_type": "stream",
          "name": "stderr",
          "text": [
            "[nltk_data] Downloading package stopwords to /root/nltk_data...\n",
            "[nltk_data]   Unzipping corpora/stopwords.zip.\n",
            "[nltk_data] Downloading package wordnet to /root/nltk_data...\n"
          ]
        }
      ],
      "source": [
        "import pandas as pd\n",
        "import string\n",
        "import re\n",
        "import nltk\n",
        "import numpy as np\n",
        "nltk.download('stopwords')\n",
        "from nltk.stem import WordNetLemmatizer\n",
        "nltk.download('wordnet')\n",
        "from sklearn.feature_extraction import _stop_words"
      ]
    },
    {
      "cell_type": "code",
      "source": [
        "from google.colab import drive\n",
        "drive.mount('/content/drive')"
      ],
      "metadata": {
        "colab": {
          "base_uri": "https://localhost:8080/"
        },
        "id": "B_NiKf5StgOY",
        "outputId": "54be902b-aa87-4a6a-d1f7-263e4d6269fa"
      },
      "execution_count": 3,
      "outputs": [
        {
          "output_type": "stream",
          "name": "stdout",
          "text": [
            "Mounted at /content/drive\n"
          ]
        }
      ]
    },
    {
      "cell_type": "code",
      "source": [
        "df = pd.read_csv(\"/content/drive/MyDrive/yelp_review.csv\")\n",
        "df.head()"
      ],
      "metadata": {
        "colab": {
          "base_uri": "https://localhost:8080/",
          "height": 547
        },
        "id": "8JBu-4nG_3KR",
        "outputId": "db4aef23-f120-443b-9237-ac8e7dd00e4c"
      },
      "execution_count": 4,
      "outputs": [
        {
          "output_type": "execute_result",
          "data": {
            "text/plain": [
              "   stars  useful                                               text  funny  \\\n",
              "0    4.0       0  First time waxing. I read all the other review...      0   \n",
              "1    5.0       0  I love my manicure! Such an affordable place. ...      0   \n",
              "2    4.0       0  Great food, fast service, they try to crank pe...      0   \n",
              "3    1.0       0  Save your money and go across the street the f...      0   \n",
              "4    4.0       0  Oops...this was for the Main St location:\\n\\n-...      0   \n",
              "\n",
              "                review_id  cool                 date                 user_id  \\\n",
              "0  V46usAbOSPIzurZy7DUU5A     0  2016-04-16 13:55:38  rD6noiuiMCcGuq6oPYFJdQ   \n",
              "1  CpNSsju9NFc-Xrpf5Hfqhg     0  2020-01-18 05:32:54  tTsUSklzH1oxPp2usth84A   \n",
              "2  RP7A24xD14Cbegmr1AokNQ     0  2015-01-25 14:49:09  -cnIq2OmV8CleS4bLOvCxQ   \n",
              "3  6a38lS1TjeWMqK-knuNAhA     0  2018-11-06 22:12:14  mzCkRflEka_vezCiBYYWGA   \n",
              "4  Q0QKTuceHzgmFeTtYSTzYg     0  2011-08-19 21:45:31  3zlK9eBVCpRWMPLjtAj6cQ   \n",
              "\n",
              "              business_id  \n",
              "0  b4NaB1u3AwgrhRMKsKgWsA  \n",
              "1  -otKp6RA94dfGsqa5jSDHQ  \n",
              "2  EA10YCkaxzRoCEOB38xv1Q  \n",
              "3  nkqaLepNTSrUYuZkzbBR5A  \n",
              "4  XtFhLvKV46H7a054X2_aFQ  "
            ],
            "text/html": [
              "\n",
              "  <div id=\"df-c30b8757-43a5-42df-a4f3-ed814cc25058\">\n",
              "    <div class=\"colab-df-container\">\n",
              "      <div>\n",
              "<style scoped>\n",
              "    .dataframe tbody tr th:only-of-type {\n",
              "        vertical-align: middle;\n",
              "    }\n",
              "\n",
              "    .dataframe tbody tr th {\n",
              "        vertical-align: top;\n",
              "    }\n",
              "\n",
              "    .dataframe thead th {\n",
              "        text-align: right;\n",
              "    }\n",
              "</style>\n",
              "<table border=\"1\" class=\"dataframe\">\n",
              "  <thead>\n",
              "    <tr style=\"text-align: right;\">\n",
              "      <th></th>\n",
              "      <th>stars</th>\n",
              "      <th>useful</th>\n",
              "      <th>text</th>\n",
              "      <th>funny</th>\n",
              "      <th>review_id</th>\n",
              "      <th>cool</th>\n",
              "      <th>date</th>\n",
              "      <th>user_id</th>\n",
              "      <th>business_id</th>\n",
              "    </tr>\n",
              "  </thead>\n",
              "  <tbody>\n",
              "    <tr>\n",
              "      <th>0</th>\n",
              "      <td>4.0</td>\n",
              "      <td>0</td>\n",
              "      <td>First time waxing. I read all the other review...</td>\n",
              "      <td>0</td>\n",
              "      <td>V46usAbOSPIzurZy7DUU5A</td>\n",
              "      <td>0</td>\n",
              "      <td>2016-04-16 13:55:38</td>\n",
              "      <td>rD6noiuiMCcGuq6oPYFJdQ</td>\n",
              "      <td>b4NaB1u3AwgrhRMKsKgWsA</td>\n",
              "    </tr>\n",
              "    <tr>\n",
              "      <th>1</th>\n",
              "      <td>5.0</td>\n",
              "      <td>0</td>\n",
              "      <td>I love my manicure! Such an affordable place. ...</td>\n",
              "      <td>0</td>\n",
              "      <td>CpNSsju9NFc-Xrpf5Hfqhg</td>\n",
              "      <td>0</td>\n",
              "      <td>2020-01-18 05:32:54</td>\n",
              "      <td>tTsUSklzH1oxPp2usth84A</td>\n",
              "      <td>-otKp6RA94dfGsqa5jSDHQ</td>\n",
              "    </tr>\n",
              "    <tr>\n",
              "      <th>2</th>\n",
              "      <td>4.0</td>\n",
              "      <td>0</td>\n",
              "      <td>Great food, fast service, they try to crank pe...</td>\n",
              "      <td>0</td>\n",
              "      <td>RP7A24xD14Cbegmr1AokNQ</td>\n",
              "      <td>0</td>\n",
              "      <td>2015-01-25 14:49:09</td>\n",
              "      <td>-cnIq2OmV8CleS4bLOvCxQ</td>\n",
              "      <td>EA10YCkaxzRoCEOB38xv1Q</td>\n",
              "    </tr>\n",
              "    <tr>\n",
              "      <th>3</th>\n",
              "      <td>1.0</td>\n",
              "      <td>0</td>\n",
              "      <td>Save your money and go across the street the f...</td>\n",
              "      <td>0</td>\n",
              "      <td>6a38lS1TjeWMqK-knuNAhA</td>\n",
              "      <td>0</td>\n",
              "      <td>2018-11-06 22:12:14</td>\n",
              "      <td>mzCkRflEka_vezCiBYYWGA</td>\n",
              "      <td>nkqaLepNTSrUYuZkzbBR5A</td>\n",
              "    </tr>\n",
              "    <tr>\n",
              "      <th>4</th>\n",
              "      <td>4.0</td>\n",
              "      <td>0</td>\n",
              "      <td>Oops...this was for the Main St location:\\n\\n-...</td>\n",
              "      <td>0</td>\n",
              "      <td>Q0QKTuceHzgmFeTtYSTzYg</td>\n",
              "      <td>0</td>\n",
              "      <td>2011-08-19 21:45:31</td>\n",
              "      <td>3zlK9eBVCpRWMPLjtAj6cQ</td>\n",
              "      <td>XtFhLvKV46H7a054X2_aFQ</td>\n",
              "    </tr>\n",
              "  </tbody>\n",
              "</table>\n",
              "</div>\n",
              "      <button class=\"colab-df-convert\" onclick=\"convertToInteractive('df-c30b8757-43a5-42df-a4f3-ed814cc25058')\"\n",
              "              title=\"Convert this dataframe to an interactive table.\"\n",
              "              style=\"display:none;\">\n",
              "        \n",
              "  <svg xmlns=\"http://www.w3.org/2000/svg\" height=\"24px\"viewBox=\"0 0 24 24\"\n",
              "       width=\"24px\">\n",
              "    <path d=\"M0 0h24v24H0V0z\" fill=\"none\"/>\n",
              "    <path d=\"M18.56 5.44l.94 2.06.94-2.06 2.06-.94-2.06-.94-.94-2.06-.94 2.06-2.06.94zm-11 1L8.5 8.5l.94-2.06 2.06-.94-2.06-.94L8.5 2.5l-.94 2.06-2.06.94zm10 10l.94 2.06.94-2.06 2.06-.94-2.06-.94-.94-2.06-.94 2.06-2.06.94z\"/><path d=\"M17.41 7.96l-1.37-1.37c-.4-.4-.92-.59-1.43-.59-.52 0-1.04.2-1.43.59L10.3 9.45l-7.72 7.72c-.78.78-.78 2.05 0 2.83L4 21.41c.39.39.9.59 1.41.59.51 0 1.02-.2 1.41-.59l7.78-7.78 2.81-2.81c.8-.78.8-2.07 0-2.86zM5.41 20L4 18.59l7.72-7.72 1.47 1.35L5.41 20z\"/>\n",
              "  </svg>\n",
              "      </button>\n",
              "      \n",
              "  <style>\n",
              "    .colab-df-container {\n",
              "      display:flex;\n",
              "      flex-wrap:wrap;\n",
              "      gap: 12px;\n",
              "    }\n",
              "\n",
              "    .colab-df-convert {\n",
              "      background-color: #E8F0FE;\n",
              "      border: none;\n",
              "      border-radius: 50%;\n",
              "      cursor: pointer;\n",
              "      display: none;\n",
              "      fill: #1967D2;\n",
              "      height: 32px;\n",
              "      padding: 0 0 0 0;\n",
              "      width: 32px;\n",
              "    }\n",
              "\n",
              "    .colab-df-convert:hover {\n",
              "      background-color: #E2EBFA;\n",
              "      box-shadow: 0px 1px 2px rgba(60, 64, 67, 0.3), 0px 1px 3px 1px rgba(60, 64, 67, 0.15);\n",
              "      fill: #174EA6;\n",
              "    }\n",
              "\n",
              "    [theme=dark] .colab-df-convert {\n",
              "      background-color: #3B4455;\n",
              "      fill: #D2E3FC;\n",
              "    }\n",
              "\n",
              "    [theme=dark] .colab-df-convert:hover {\n",
              "      background-color: #434B5C;\n",
              "      box-shadow: 0px 1px 3px 1px rgba(0, 0, 0, 0.15);\n",
              "      filter: drop-shadow(0px 1px 2px rgba(0, 0, 0, 0.3));\n",
              "      fill: #FFFFFF;\n",
              "    }\n",
              "  </style>\n",
              "\n",
              "      <script>\n",
              "        const buttonEl =\n",
              "          document.querySelector('#df-c30b8757-43a5-42df-a4f3-ed814cc25058 button.colab-df-convert');\n",
              "        buttonEl.style.display =\n",
              "          google.colab.kernel.accessAllowed ? 'block' : 'none';\n",
              "\n",
              "        async function convertToInteractive(key) {\n",
              "          const element = document.querySelector('#df-c30b8757-43a5-42df-a4f3-ed814cc25058');\n",
              "          const dataTable =\n",
              "            await google.colab.kernel.invokeFunction('convertToInteractive',\n",
              "                                                     [key], {});\n",
              "          if (!dataTable) return;\n",
              "\n",
              "          const docLinkHtml = 'Like what you see? Visit the ' +\n",
              "            '<a target=\"_blank\" href=https://colab.research.google.com/notebooks/data_table.ipynb>data table notebook</a>'\n",
              "            + ' to learn more about interactive tables.';\n",
              "          element.innerHTML = '';\n",
              "          dataTable['output_type'] = 'display_data';\n",
              "          await google.colab.output.renderOutput(dataTable, element);\n",
              "          const docLink = document.createElement('div');\n",
              "          docLink.innerHTML = docLinkHtml;\n",
              "          element.appendChild(docLink);\n",
              "        }\n",
              "      </script>\n",
              "    </div>\n",
              "  </div>\n",
              "  "
            ]
          },
          "metadata": {},
          "execution_count": 4
        }
      ]
    },
    {
      "cell_type": "code",
      "source": [
        "yelp = df.iloc[:1000] # Keep only the first 1000 rows"
      ],
      "metadata": {
        "id": "JFYMDVYuBeHm"
      },
      "execution_count": 5,
      "outputs": []
    },
    {
      "cell_type": "markdown",
      "source": [
        "### Import Libraries"
      ],
      "metadata": {
        "id": "JCaZnjxfAM26"
      }
    },
    {
      "cell_type": "code",
      "source": [
        "from sklearn.feature_extraction.text import TfidfVectorizer"
      ],
      "metadata": {
        "id": "ZSUxt77Fhx1a"
      },
      "execution_count": 6,
      "outputs": []
    },
    {
      "cell_type": "markdown",
      "source": [
        "Create a function to remove punctuations, tokenize, remove stopwords and lemmatize."
      ],
      "metadata": {
        "id": "Tw19vglXuDHb"
      }
    },
    {
      "cell_type": "code",
      "source": [
        "stopwords = _stop_words.ENGLISH_STOP_WORDS\n",
        "def clean(doc): # doc is a string of text\n",
        "    doc = doc.replace(\"</br>\", \" \") # This text contains a lot of <br/> tags.\n",
        "    doc = \"\".join([char for char in doc if char not in string.punctuation and not char.isdigit()])\n",
        "    doc = \" \".join([token for token in doc.split() if token not in stopwords])\n",
        "    # remove punctuation and numbers\n",
        "    return doc"
      ],
      "metadata": {
        "id": "rR767nBBjAHG"
      },
      "execution_count": 7,
      "outputs": []
    },
    {
      "cell_type": "markdown",
      "source": [
        "# Text Representation"
      ],
      "metadata": {
        "id": "a5mryGG9wnHT"
      }
    },
    {
      "cell_type": "markdown",
      "source": [
        "### (1) Generate the unigram for the cleaned review data and then list the unigram and its TF-IDF values in descending order."
      ],
      "metadata": {
        "id": "To3RauVADuM8"
      }
    },
    {
      "cell_type": "code",
      "source": [
        "# instantiates the TfidfVectorizer object, with analyzer parameter passed as our cleaning function\n",
        "# ngram_range = (minimal, maximal)\n",
        "tfidf_vec1 = TfidfVectorizer(preprocessor=clean, ngram_range = (1, 1))\n",
        "# run the fit_transform function on our pre-processed data and store vectorized data in X_Tfidf\n",
        "X_Tfidf1 = tfidf_vec1.fit_transform(yelp['text'])\n",
        "\n",
        "df = pd.DataFrame(X_Tfidf1.toarray(), columns=tfidf_vec1.get_feature_names())\n",
        "tfidfwords_values = dict(df.sum(axis = 0))\n",
        "sorted(tfidfwords_values.items(), key=lambda x: x[1], reverse=True)[:10]"
      ],
      "metadata": {
        "id": "iGOot83YjnaU",
        "colab": {
          "base_uri": "https://localhost:8080/"
        },
        "outputId": "7c3932db-820e-4e9e-baca-c0ce94a257ef"
      },
      "execution_count": 8,
      "outputs": [
        {
          "output_type": "stream",
          "name": "stderr",
          "text": [
            "/usr/local/lib/python3.8/dist-packages/sklearn/utils/deprecation.py:87: FutureWarning: Function get_feature_names is deprecated; get_feature_names is deprecated in 1.0 and will be removed in 1.2. Please use get_feature_names_out instead.\n",
            "  warnings.warn(msg, category=FutureWarning)\n"
          ]
        },
        {
          "output_type": "execute_result",
          "data": {
            "text/plain": [
              "[('The', 39.6485129598145),\n",
              " ('food', 29.138871464299832),\n",
              " ('good', 27.38398855744061),\n",
              " ('place', 26.38887675454708),\n",
              " ('great', 23.556938763870768),\n",
              " ('service', 21.57455362354126),\n",
              " ('We', 19.37816944982887),\n",
              " ('time', 18.959443778737477),\n",
              " ('like', 18.18636881804461),\n",
              " ('really', 16.313482599903892)]"
            ]
          },
          "metadata": {},
          "execution_count": 8
        }
      ]
    },
    {
      "cell_type": "markdown",
      "source": [
        "### (2) Generate the bigram and trigram for the review data and then list these terms and their TF-IDF values in descending order."
      ],
      "metadata": {
        "id": "JT-KFHaNuaOT"
      }
    },
    {
      "cell_type": "code",
      "source": [
        "tfidf_vec2 = TfidfVectorizer(ngram_range = (2, 2)) # Bigram\n",
        "X_Tfidf2 = tfidf_vec2.fit_transform(yelp['text'])\n",
        "\n",
        "df = pd.DataFrame(X_Tfidf2.toarray(), columns=tfidf_vec2.get_feature_names())\n",
        "tfidfwords_values = dict(df.sum(axis = 0))\n",
        "sorted(tfidfwords_values.items(), key=lambda x: x[1], reverse=True)[:10]"
      ],
      "metadata": {
        "colab": {
          "base_uri": "https://localhost:8080/"
        },
        "id": "ZEAaL13_JJsJ",
        "outputId": "b27a6346-30fc-427a-a113-27b891f19bd0"
      },
      "execution_count": 9,
      "outputs": [
        {
          "output_type": "stream",
          "name": "stderr",
          "text": [
            "/usr/local/lib/python3.8/dist-packages/sklearn/utils/deprecation.py:87: FutureWarning: Function get_feature_names is deprecated; get_feature_names is deprecated in 1.0 and will be removed in 1.2. Please use get_feature_names_out instead.\n",
            "  warnings.warn(msg, category=FutureWarning)\n"
          ]
        },
        {
          "output_type": "execute_result",
          "data": {
            "text/plain": [
              "[('it was', 11.9429534361287),\n",
              " ('and the', 11.631098262867162),\n",
              " ('of the', 11.183235655318672),\n",
              " ('this place', 10.61448507891697),\n",
              " ('in the', 10.139491251605708),\n",
              " ('the food', 9.376822697957577),\n",
              " ('on the', 8.245348585928435),\n",
              " ('the best', 8.143255754473335),\n",
              " ('if you', 7.430398007965899),\n",
              " ('for the', 7.200494174350646)]"
            ]
          },
          "metadata": {},
          "execution_count": 9
        }
      ]
    },
    {
      "cell_type": "code",
      "source": [
        "tfidf_vec3 = TfidfVectorizer(preprocessor=clean, ngram_range = (3, 3)) # Trigram\n",
        "X_Tfidf3 = tfidf_vec3.fit_transform(yelp['text'])\n",
        "\n",
        "df = pd.DataFrame(X_Tfidf3.toarray(), columns=tfidf_vec3.get_feature_names())\n",
        "tfidfwords_values = dict(df.sum(axis = 0))\n",
        "sorted(tfidfwords_values.items(), key=lambda x: x[1], reverse=True)[:10]"
      ],
      "metadata": {
        "colab": {
          "base_uri": "https://localhost:8080/"
        },
        "id": "1HsD4c_02wVR",
        "outputId": "5280a077-2061-465d-9a72-c7ce1597e505"
      },
      "execution_count": 35,
      "outputs": [
        {
          "output_type": "execute_result",
          "data": {
            "text/plain": [
              "[('The food good', 1.1679195720794422),\n",
              " ('The staff friendly', 0.860571044250239),\n",
              " ('This place amazing', 0.7976768181179311),\n",
              " ('This place good', 0.7609736546934585),\n",
              " ('If youre looking', 0.695136733246653),\n",
              " ('The service quick', 0.6846651180278411),\n",
              " ('Always great service', 0.6576980760474246),\n",
              " ('great customer service', 0.6519972394408956),\n",
              " ('The food amazing', 0.6466887083774355),\n",
              " ('staff super friendly', 0.6229156966118188)]"
            ]
          },
          "metadata": {},
          "execution_count": 35
        }
      ]
    },
    {
      "cell_type": "markdown",
      "source": [
        "### (3) Generate all possible unigram, bigram, and trigram and their TF-IDF values at a time. "
      ],
      "metadata": {
        "id": "ZkgJlu0wuhtM"
      }
    },
    {
      "cell_type": "code",
      "source": [
        "tfidf_vec4 = TfidfVectorizer(preprocessor=clean, ngram_range = (1, 3))\n",
        "X_Tfidf4 = tfidf_vec4.fit_transform(yelp['text'])\n",
        "\n",
        "df = pd.DataFrame(X_Tfidf4.toarray(), columns=tfidf_vec4.get_feature_names())\n",
        "tfidfwords_values = dict(df.sum(axis = 0))\n",
        "sorted(tfidfwords_values.items(), key=lambda x: x[1], reverse=True)[:100]"
      ],
      "metadata": {
        "colab": {
          "base_uri": "https://localhost:8080/"
        },
        "id": "ndvEywrTCE4l",
        "outputId": "e7c55514-6069-41e0-c688-9c307b52df3b"
      },
      "execution_count": 33,
      "outputs": [
        {
          "output_type": "execute_result",
          "data": {
            "text/plain": [
              "[('The', 18.90139845197303),\n",
              " ('food', 13.493205949418147),\n",
              " ('good', 12.824218094173567),\n",
              " ('place', 12.415425541115134),\n",
              " ('great', 10.968646581609953),\n",
              " ('service', 10.108263132586174),\n",
              " ('We', 9.319685876198331),\n",
              " ('time', 9.147044565492177),\n",
              " ('like', 8.79472106565976),\n",
              " ('They', 7.859927445839055),\n",
              " ('just', 7.788526432922329),\n",
              " ('really', 7.725866259937823),\n",
              " ('This', 7.009693649007968),\n",
              " ('Ive', 6.969449554793384),\n",
              " ('It', 6.933990929976703),\n",
              " ('got', 6.512618676211114),\n",
              " ('best', 6.371336231356982),\n",
              " ('staff', 6.267939368588701),\n",
              " ('friendly', 5.917627019750462),\n",
              " ('chicken', 5.879534677184667),\n",
              " ('order', 5.865973576745026),\n",
              " ('My', 5.610732669127362),\n",
              " ('nice', 5.520151413634973),\n",
              " ('little', 5.4174265857789),\n",
              " ('restaurant', 5.297581100723917),\n",
              " ('dont', 5.285922682215096),\n",
              " ('love', 5.107797777029447),\n",
              " ('definitely', 5.017530485870557),\n",
              " ('Im', 4.984976498875655),\n",
              " ('experience', 4.971881602625384),\n",
              " ('amazing', 4.928003372790655),\n",
              " ('delicious', 4.900483299295817),\n",
              " ('recommend', 4.896181131929378),\n",
              " ('try', 4.7409425825683815),\n",
              " ('Great', 4.737663129379216),\n",
              " ('came', 4.735744176588182),\n",
              " ('wait', 4.7199555313681305),\n",
              " ('come', 4.709915107766035),\n",
              " ('menu', 4.70309899730695),\n",
              " ('eat', 4.656048486103702),\n",
              " ('Its', 4.606679839305691),\n",
              " ('didnt', 4.540459246137441),\n",
              " ('did', 4.539515534391058),\n",
              " ('car', 4.496145422799884),\n",
              " ('make', 4.358587484968055),\n",
              " ('going', 4.338174650554274),\n",
              " ('day', 4.3378843929406665),\n",
              " ('ordered', 4.277694000099371),\n",
              " ('people', 4.2756354926207765),\n",
              " ('know', 4.240702419411528),\n",
              " ('If', 4.195387197719657),\n",
              " ('went', 4.140748554469858),\n",
              " ('location', 4.128937524200101),\n",
              " ('pretty', 4.06975502209664),\n",
              " ('burger', 3.9815725327860987),\n",
              " ('times', 3.947577042131541),\n",
              " ('cheese', 3.890230522156991),\n",
              " ('favorite', 3.882018099910327),\n",
              " ('area', 3.8819416317302684),\n",
              " ('coffee', 3.8716661419995666),\n",
              " ('The food', 3.824586579888252),\n",
              " ('minutes', 3.814837628875949),\n",
              " ('want', 3.7218469195702464),\n",
              " ('work', 3.642371125069511),\n",
              " ('better', 3.5875897207358123),\n",
              " ('bar', 3.5829574829741806),\n",
              " ('fries', 3.575556710951557),\n",
              " ('sure', 3.5713041451142646),\n",
              " ('say', 3.566918779827154),\n",
              " ('pizza', 3.5519443371282535),\n",
              " ('think', 3.5054831747915376),\n",
              " ('lunch', 3.4865804419789805),\n",
              " ('hot', 3.481687533983395),\n",
              " ('way', 3.4749512904738267),\n",
              " ('night', 3.4682268684894955),\n",
              " ('said', 3.4611981542547983),\n",
              " ('bad', 3.444575836100941),\n",
              " ('salad', 3.4254927145373815),\n",
              " ('super', 3.422652095080159),\n",
              " ('prices', 3.4006538110983477),\n",
              " ('small', 3.3680502862844572),\n",
              " ('lot', 3.354710195653407),\n",
              " ('right', 3.2931436947145474),\n",
              " ('new', 3.2922918322977797),\n",
              " ('price', 3.276518158326342),\n",
              " ('And', 3.2699719459837535),\n",
              " ('sauce', 3.240965508222849),\n",
              " ('happy', 3.2347269870155673),\n",
              " ('You', 3.228290772725735),\n",
              " ('But', 3.1756846355352626),\n",
              " ('fresh', 3.156642298635385),\n",
              " ('awesome', 3.144134461307345),\n",
              " ('drinks', 3.137951769520653),\n",
              " ('bit', 3.12301265304909),\n",
              " ('fast', 3.114037185219206),\n",
              " ('told', 3.10613547667027),\n",
              " ('quality', 3.0911827111064234),\n",
              " ('This place', 3.0899456859394494),\n",
              " ('So', 3.023645931805797),\n",
              " ('different', 3.015926968355598)]"
            ]
          },
          "metadata": {},
          "execution_count": 33
        }
      ]
    },
    {
      "cell_type": "markdown",
      "source": [
        "The top three terms with the highest TF-IDF values are 'The', 'food', 'good'."
      ],
      "metadata": {
        "id": "BqIDxg8qu2z-"
      }
    },
    {
      "cell_type": "markdown",
      "source": [
        "### (4) According to the results in (3), do you think these terms and their higher TF-IDF values make sense in the Yelp review context?"
      ],
      "metadata": {
        "id": "d9Xr3Y8fvDF_"
      }
    },
    {
      "cell_type": "markdown",
      "source": [
        "No. The terms with high TF-IDF values in the results in (3) do not make sense in the Yelp review context. Because the connection words did not get sufficient punishment from their high frequency in other documents. As a result, these words make nonsense despite having high TF-IDF values."
      ],
      "metadata": {
        "id": "zTZYq9KzvGZb"
      }
    }
  ]
}